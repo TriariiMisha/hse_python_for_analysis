{
 "cells": [
  {
   "cell_type": "code",
   "execution_count": 1,
   "id": "33e276da",
   "metadata": {
    "ExecuteTime": {
     "end_time": "2023-01-27T14:38:02.207066Z",
     "start_time": "2023-01-27T14:38:02.205340Z"
    }
   },
   "outputs": [],
   "source": [
    "import numpy as np\n",
    "import pandas as pd"
   ]
  },
  {
   "cell_type": "markdown",
   "id": "f64f86cc",
   "metadata": {},
   "source": [
    "## Немного ни о чем"
   ]
  },
  {
   "cell_type": "markdown",
   "id": "4ef1067c",
   "metadata": {},
   "source": [
    "Поговорим про разные представления для пропущенных значений"
   ]
  },
  {
   "cell_type": "code",
   "execution_count": 2,
   "id": "ae50165b",
   "metadata": {
    "ExecuteTime": {
     "end_time": "2023-01-27T12:15:31.507474Z",
     "start_time": "2023-01-27T12:15:31.505539Z"
    }
   },
   "outputs": [],
   "source": [
    "df_float = pd.DataFrame(\n",
    "    {\n",
    "        'column_none': [1., 2., 3., 4., 5., None],\n",
    "        'column_nan': [1., 2., 3., 4., 5., np.nan],\n",
    "    }\n",
    ")"
   ]
  },
  {
   "cell_type": "code",
   "execution_count": 3,
   "id": "eb961a9a-4f84-4a2a-abef-c02138f85c8a",
   "metadata": {},
   "outputs": [
    {
     "data": {
      "text/plain": [
       "array([1.0, 2.0, 3.0, 4.0, 5.0, None], dtype=object)"
      ]
     },
     "execution_count": 3,
     "metadata": {},
     "output_type": "execute_result"
    }
   ],
   "source": [
    "np.array([1., 2., 3., 4., 5., None], dtype='object')"
   ]
  },
  {
   "cell_type": "code",
   "execution_count": 4,
   "id": "099254bd",
   "metadata": {
    "ExecuteTime": {
     "end_time": "2023-01-27T12:15:31.514961Z",
     "start_time": "2023-01-27T12:15:31.509704Z"
    }
   },
   "outputs": [
    {
     "data": {
      "text/plain": [
       "0     True\n",
       "1     True\n",
       "2     True\n",
       "3     True\n",
       "4     True\n",
       "5    False\n",
       "dtype: bool"
      ]
     },
     "execution_count": 4,
     "metadata": {},
     "output_type": "execute_result"
    }
   ],
   "source": [
    "df_float['column_none'] == df_float['column_nan']"
   ]
  },
  {
   "cell_type": "code",
   "execution_count": 5,
   "id": "aa032221",
   "metadata": {
    "ExecuteTime": {
     "end_time": "2023-01-27T12:15:31.520021Z",
     "start_time": "2023-01-27T12:15:31.515709Z"
    }
   },
   "outputs": [
    {
     "data": {
      "text/html": [
       "<div>\n",
       "<style scoped>\n",
       "    .dataframe tbody tr th:only-of-type {\n",
       "        vertical-align: middle;\n",
       "    }\n",
       "\n",
       "    .dataframe tbody tr th {\n",
       "        vertical-align: top;\n",
       "    }\n",
       "\n",
       "    .dataframe thead th {\n",
       "        text-align: right;\n",
       "    }\n",
       "</style>\n",
       "<table border=\"1\" class=\"dataframe\">\n",
       "  <thead>\n",
       "    <tr style=\"text-align: right;\">\n",
       "      <th></th>\n",
       "      <th>column_none</th>\n",
       "      <th>column_nan</th>\n",
       "    </tr>\n",
       "  </thead>\n",
       "  <tbody>\n",
       "    <tr>\n",
       "      <th>0</th>\n",
       "      <td>1.0</td>\n",
       "      <td>1.0</td>\n",
       "    </tr>\n",
       "    <tr>\n",
       "      <th>1</th>\n",
       "      <td>2.0</td>\n",
       "      <td>2.0</td>\n",
       "    </tr>\n",
       "    <tr>\n",
       "      <th>2</th>\n",
       "      <td>3.0</td>\n",
       "      <td>3.0</td>\n",
       "    </tr>\n",
       "    <tr>\n",
       "      <th>3</th>\n",
       "      <td>4.0</td>\n",
       "      <td>4.0</td>\n",
       "    </tr>\n",
       "    <tr>\n",
       "      <th>4</th>\n",
       "      <td>5.0</td>\n",
       "      <td>5.0</td>\n",
       "    </tr>\n",
       "    <tr>\n",
       "      <th>5</th>\n",
       "      <td>NaN</td>\n",
       "      <td>NaN</td>\n",
       "    </tr>\n",
       "  </tbody>\n",
       "</table>\n",
       "</div>"
      ],
      "text/plain": [
       "   column_none  column_nan\n",
       "0          1.0         1.0\n",
       "1          2.0         2.0\n",
       "2          3.0         3.0\n",
       "3          4.0         4.0\n",
       "4          5.0         5.0\n",
       "5          NaN         NaN"
      ]
     },
     "execution_count": 5,
     "metadata": {},
     "output_type": "execute_result"
    }
   ],
   "source": [
    "df_float"
   ]
  },
  {
   "cell_type": "code",
   "execution_count": 6,
   "id": "96af8aa1",
   "metadata": {
    "ExecuteTime": {
     "end_time": "2023-01-27T12:15:31.522866Z",
     "start_time": "2023-01-27T12:15:31.520904Z"
    }
   },
   "outputs": [
    {
     "data": {
      "text/plain": [
       "column_none   NaN\n",
       "column_nan    NaN\n",
       "Name: 5, dtype: float64"
      ]
     },
     "execution_count": 6,
     "metadata": {},
     "output_type": "execute_result"
    }
   ],
   "source": [
    "df_float.loc[5]"
   ]
  },
  {
   "cell_type": "code",
   "execution_count": 7,
   "id": "23481ee8",
   "metadata": {
    "ExecuteTime": {
     "end_time": "2023-01-27T12:15:31.525371Z",
     "start_time": "2023-01-27T12:15:31.523524Z"
    }
   },
   "outputs": [
    {
     "data": {
      "text/plain": [
       "(dtype('float64'), dtype('float64'))"
      ]
     },
     "execution_count": 7,
     "metadata": {},
     "output_type": "execute_result"
    }
   ],
   "source": [
    "df_float['column_none'].dtype, df_float['column_nan'].dtype"
   ]
  },
  {
   "cell_type": "markdown",
   "id": "f6522e76",
   "metadata": {},
   "source": [
    "Видим, что None скастовался в np.nan и стал float. Что будет, если у нас изначально данные из целых чисел?"
   ]
  },
  {
   "cell_type": "code",
   "execution_count": 8,
   "id": "6f8946ad",
   "metadata": {
    "ExecuteTime": {
     "end_time": "2023-01-27T12:15:31.622971Z",
     "start_time": "2023-01-27T12:15:31.621283Z"
    }
   },
   "outputs": [],
   "source": [
    "df_int = pd.DataFrame(\n",
    "    {\n",
    "        'column_none': [1, 2, 3, 4, 5, None],\n",
    "        'column_nan': [1, 2, 3, 4, 5, np.nan],\n",
    "    }\n",
    ")"
   ]
  },
  {
   "cell_type": "code",
   "execution_count": 9,
   "id": "03917e4d",
   "metadata": {
    "ExecuteTime": {
     "end_time": "2023-01-27T12:15:31.625960Z",
     "start_time": "2023-01-27T12:15:31.623746Z"
    }
   },
   "outputs": [
    {
     "data": {
      "text/plain": [
       "0     True\n",
       "1     True\n",
       "2     True\n",
       "3     True\n",
       "4     True\n",
       "5    False\n",
       "dtype: bool"
      ]
     },
     "execution_count": 9,
     "metadata": {},
     "output_type": "execute_result"
    }
   ],
   "source": [
    "df_int['column_none'] == df_int['column_nan']"
   ]
  },
  {
   "cell_type": "code",
   "execution_count": 10,
   "id": "54895b7a",
   "metadata": {
    "ExecuteTime": {
     "end_time": "2023-01-27T12:15:31.631115Z",
     "start_time": "2023-01-27T12:15:31.627889Z"
    }
   },
   "outputs": [
    {
     "data": {
      "text/html": [
       "<div>\n",
       "<style scoped>\n",
       "    .dataframe tbody tr th:only-of-type {\n",
       "        vertical-align: middle;\n",
       "    }\n",
       "\n",
       "    .dataframe tbody tr th {\n",
       "        vertical-align: top;\n",
       "    }\n",
       "\n",
       "    .dataframe thead th {\n",
       "        text-align: right;\n",
       "    }\n",
       "</style>\n",
       "<table border=\"1\" class=\"dataframe\">\n",
       "  <thead>\n",
       "    <tr style=\"text-align: right;\">\n",
       "      <th></th>\n",
       "      <th>column_none</th>\n",
       "      <th>column_nan</th>\n",
       "    </tr>\n",
       "  </thead>\n",
       "  <tbody>\n",
       "    <tr>\n",
       "      <th>0</th>\n",
       "      <td>1.0</td>\n",
       "      <td>1.0</td>\n",
       "    </tr>\n",
       "    <tr>\n",
       "      <th>1</th>\n",
       "      <td>2.0</td>\n",
       "      <td>2.0</td>\n",
       "    </tr>\n",
       "    <tr>\n",
       "      <th>2</th>\n",
       "      <td>3.0</td>\n",
       "      <td>3.0</td>\n",
       "    </tr>\n",
       "    <tr>\n",
       "      <th>3</th>\n",
       "      <td>4.0</td>\n",
       "      <td>4.0</td>\n",
       "    </tr>\n",
       "    <tr>\n",
       "      <th>4</th>\n",
       "      <td>5.0</td>\n",
       "      <td>5.0</td>\n",
       "    </tr>\n",
       "    <tr>\n",
       "      <th>5</th>\n",
       "      <td>NaN</td>\n",
       "      <td>NaN</td>\n",
       "    </tr>\n",
       "  </tbody>\n",
       "</table>\n",
       "</div>"
      ],
      "text/plain": [
       "   column_none  column_nan\n",
       "0          1.0         1.0\n",
       "1          2.0         2.0\n",
       "2          3.0         3.0\n",
       "3          4.0         4.0\n",
       "4          5.0         5.0\n",
       "5          NaN         NaN"
      ]
     },
     "execution_count": 10,
     "metadata": {},
     "output_type": "execute_result"
    }
   ],
   "source": [
    "df_int"
   ]
  },
  {
   "cell_type": "code",
   "execution_count": 11,
   "id": "db733428",
   "metadata": {
    "ExecuteTime": {
     "end_time": "2023-01-27T12:15:31.636947Z",
     "start_time": "2023-01-27T12:15:31.633861Z"
    }
   },
   "outputs": [
    {
     "data": {
      "text/html": [
       "<div>\n",
       "<style scoped>\n",
       "    .dataframe tbody tr th:only-of-type {\n",
       "        vertical-align: middle;\n",
       "    }\n",
       "\n",
       "    .dataframe tbody tr th {\n",
       "        vertical-align: top;\n",
       "    }\n",
       "\n",
       "    .dataframe thead th {\n",
       "        text-align: right;\n",
       "    }\n",
       "</style>\n",
       "<table border=\"1\" class=\"dataframe\">\n",
       "  <thead>\n",
       "    <tr style=\"text-align: right;\">\n",
       "      <th></th>\n",
       "      <th>column_none</th>\n",
       "      <th>column_nan</th>\n",
       "    </tr>\n",
       "  </thead>\n",
       "  <tbody>\n",
       "    <tr>\n",
       "      <th>0</th>\n",
       "      <td>1.0</td>\n",
       "      <td>1.0</td>\n",
       "    </tr>\n",
       "    <tr>\n",
       "      <th>1</th>\n",
       "      <td>2.0</td>\n",
       "      <td>2.0</td>\n",
       "    </tr>\n",
       "    <tr>\n",
       "      <th>2</th>\n",
       "      <td>3.0</td>\n",
       "      <td>3.0</td>\n",
       "    </tr>\n",
       "    <tr>\n",
       "      <th>3</th>\n",
       "      <td>4.0</td>\n",
       "      <td>4.0</td>\n",
       "    </tr>\n",
       "    <tr>\n",
       "      <th>4</th>\n",
       "      <td>5.0</td>\n",
       "      <td>5.0</td>\n",
       "    </tr>\n",
       "    <tr>\n",
       "      <th>5</th>\n",
       "      <td>NaN</td>\n",
       "      <td>NaN</td>\n",
       "    </tr>\n",
       "  </tbody>\n",
       "</table>\n",
       "</div>"
      ],
      "text/plain": [
       "   column_none  column_nan\n",
       "0          1.0         1.0\n",
       "1          2.0         2.0\n",
       "2          3.0         3.0\n",
       "3          4.0         4.0\n",
       "4          5.0         5.0\n",
       "5          NaN         NaN"
      ]
     },
     "execution_count": 11,
     "metadata": {},
     "output_type": "execute_result"
    }
   ],
   "source": [
    "df_int"
   ]
  },
  {
   "cell_type": "markdown",
   "id": "62eb4191",
   "metadata": {},
   "source": [
    "Тоже получили конвертацию None в NaN"
   ]
  },
  {
   "cell_type": "code",
   "execution_count": 12,
   "id": "3b9d6f55",
   "metadata": {
    "ExecuteTime": {
     "end_time": "2023-01-27T12:15:31.730689Z",
     "start_time": "2023-01-27T12:15:31.728298Z"
    }
   },
   "outputs": [
    {
     "data": {
      "text/plain": [
       "column_none   NaN\n",
       "column_nan    NaN\n",
       "Name: 5, dtype: float64"
      ]
     },
     "execution_count": 12,
     "metadata": {},
     "output_type": "execute_result"
    }
   ],
   "source": [
    "df_int.loc[5]"
   ]
  },
  {
   "cell_type": "code",
   "execution_count": 13,
   "id": "2b674ba5",
   "metadata": {
    "ExecuteTime": {
     "end_time": "2023-01-27T12:15:31.735136Z",
     "start_time": "2023-01-27T12:15:31.733297Z"
    }
   },
   "outputs": [
    {
     "data": {
      "text/plain": [
       "(dtype('float64'), dtype('float64'))"
      ]
     },
     "execution_count": 13,
     "metadata": {},
     "output_type": "execute_result"
    }
   ],
   "source": [
    "df_int['column_none'].dtype, df_int['column_nan'].dtype"
   ]
  },
  {
   "cell_type": "markdown",
   "id": "1dcff72b",
   "metadata": {},
   "source": [
    "Произошел каст, вероятно не очень желательный"
   ]
  },
  {
   "cell_type": "code",
   "execution_count": 14,
   "id": "1892b2cf",
   "metadata": {
    "ExecuteTime": {
     "end_time": "2023-01-27T12:15:32.964960Z",
     "start_time": "2023-01-27T12:15:31.834670Z"
    },
    "scrolled": true
   },
   "outputs": [
    {
     "ename": "IntCastingNaNError",
     "evalue": "Cannot convert non-finite values (NA or inf) to integer",
     "output_type": "error",
     "traceback": [
      "\u001b[0;31m---------------------------------------------------------------------------\u001b[0m",
      "\u001b[0;31mIntCastingNaNError\u001b[0m                        Traceback (most recent call last)",
      "Cell \u001b[0;32mIn[14], line 1\u001b[0m\n\u001b[0;32m----> 1\u001b[0m df_int[\u001b[38;5;124m'\u001b[39m\u001b[38;5;124mcolumn_nan\u001b[39m\u001b[38;5;124m'\u001b[39m] \u001b[38;5;241m=\u001b[39m \u001b[43mdf_int\u001b[49m\u001b[43m[\u001b[49m\u001b[38;5;124;43m'\u001b[39;49m\u001b[38;5;124;43mcolumn_nan\u001b[39;49m\u001b[38;5;124;43m'\u001b[39;49m\u001b[43m]\u001b[49m\u001b[38;5;241;43m.\u001b[39;49m\u001b[43mastype\u001b[49m\u001b[43m(\u001b[49m\u001b[43mnp\u001b[49m\u001b[38;5;241;43m.\u001b[39;49m\u001b[43mint16\u001b[49m\u001b[43m)\u001b[49m\n",
      "File \u001b[0;32m~/teaching/lib/python3.11/site-packages/pandas/core/generic.py:6643\u001b[0m, in \u001b[0;36mNDFrame.astype\u001b[0;34m(self, dtype, copy, errors)\u001b[0m\n\u001b[1;32m   6637\u001b[0m     results \u001b[38;5;241m=\u001b[39m [\n\u001b[1;32m   6638\u001b[0m         ser\u001b[38;5;241m.\u001b[39mastype(dtype, copy\u001b[38;5;241m=\u001b[39mcopy, errors\u001b[38;5;241m=\u001b[39merrors) \u001b[38;5;28;01mfor\u001b[39;00m _, ser \u001b[38;5;129;01min\u001b[39;00m \u001b[38;5;28mself\u001b[39m\u001b[38;5;241m.\u001b[39mitems()\n\u001b[1;32m   6639\u001b[0m     ]\n\u001b[1;32m   6641\u001b[0m \u001b[38;5;28;01melse\u001b[39;00m:\n\u001b[1;32m   6642\u001b[0m     \u001b[38;5;66;03m# else, only a single dtype is given\u001b[39;00m\n\u001b[0;32m-> 6643\u001b[0m     new_data \u001b[38;5;241m=\u001b[39m \u001b[38;5;28;43mself\u001b[39;49m\u001b[38;5;241;43m.\u001b[39;49m\u001b[43m_mgr\u001b[49m\u001b[38;5;241;43m.\u001b[39;49m\u001b[43mastype\u001b[49m\u001b[43m(\u001b[49m\u001b[43mdtype\u001b[49m\u001b[38;5;241;43m=\u001b[39;49m\u001b[43mdtype\u001b[49m\u001b[43m,\u001b[49m\u001b[43m \u001b[49m\u001b[43mcopy\u001b[49m\u001b[38;5;241;43m=\u001b[39;49m\u001b[43mcopy\u001b[49m\u001b[43m,\u001b[49m\u001b[43m \u001b[49m\u001b[43merrors\u001b[49m\u001b[38;5;241;43m=\u001b[39;49m\u001b[43merrors\u001b[49m\u001b[43m)\u001b[49m\n\u001b[1;32m   6644\u001b[0m     res \u001b[38;5;241m=\u001b[39m \u001b[38;5;28mself\u001b[39m\u001b[38;5;241m.\u001b[39m_constructor_from_mgr(new_data, axes\u001b[38;5;241m=\u001b[39mnew_data\u001b[38;5;241m.\u001b[39maxes)\n\u001b[1;32m   6645\u001b[0m     \u001b[38;5;28;01mreturn\u001b[39;00m res\u001b[38;5;241m.\u001b[39m__finalize__(\u001b[38;5;28mself\u001b[39m, method\u001b[38;5;241m=\u001b[39m\u001b[38;5;124m\"\u001b[39m\u001b[38;5;124mastype\u001b[39m\u001b[38;5;124m\"\u001b[39m)\n",
      "File \u001b[0;32m~/teaching/lib/python3.11/site-packages/pandas/core/internals/managers.py:430\u001b[0m, in \u001b[0;36mBaseBlockManager.astype\u001b[0;34m(self, dtype, copy, errors)\u001b[0m\n\u001b[1;32m    427\u001b[0m \u001b[38;5;28;01melif\u001b[39;00m using_copy_on_write():\n\u001b[1;32m    428\u001b[0m     copy \u001b[38;5;241m=\u001b[39m \u001b[38;5;28;01mFalse\u001b[39;00m\n\u001b[0;32m--> 430\u001b[0m \u001b[38;5;28;01mreturn\u001b[39;00m \u001b[38;5;28;43mself\u001b[39;49m\u001b[38;5;241;43m.\u001b[39;49m\u001b[43mapply\u001b[49m\u001b[43m(\u001b[49m\n\u001b[1;32m    431\u001b[0m \u001b[43m    \u001b[49m\u001b[38;5;124;43m\"\u001b[39;49m\u001b[38;5;124;43mastype\u001b[39;49m\u001b[38;5;124;43m\"\u001b[39;49m\u001b[43m,\u001b[49m\n\u001b[1;32m    432\u001b[0m \u001b[43m    \u001b[49m\u001b[43mdtype\u001b[49m\u001b[38;5;241;43m=\u001b[39;49m\u001b[43mdtype\u001b[49m\u001b[43m,\u001b[49m\n\u001b[1;32m    433\u001b[0m \u001b[43m    \u001b[49m\u001b[43mcopy\u001b[49m\u001b[38;5;241;43m=\u001b[39;49m\u001b[43mcopy\u001b[49m\u001b[43m,\u001b[49m\n\u001b[1;32m    434\u001b[0m \u001b[43m    \u001b[49m\u001b[43merrors\u001b[49m\u001b[38;5;241;43m=\u001b[39;49m\u001b[43merrors\u001b[49m\u001b[43m,\u001b[49m\n\u001b[1;32m    435\u001b[0m \u001b[43m    \u001b[49m\u001b[43musing_cow\u001b[49m\u001b[38;5;241;43m=\u001b[39;49m\u001b[43musing_copy_on_write\u001b[49m\u001b[43m(\u001b[49m\u001b[43m)\u001b[49m\u001b[43m,\u001b[49m\n\u001b[1;32m    436\u001b[0m \u001b[43m\u001b[49m\u001b[43m)\u001b[49m\n",
      "File \u001b[0;32m~/teaching/lib/python3.11/site-packages/pandas/core/internals/managers.py:363\u001b[0m, in \u001b[0;36mBaseBlockManager.apply\u001b[0;34m(self, f, align_keys, **kwargs)\u001b[0m\n\u001b[1;32m    361\u001b[0m         applied \u001b[38;5;241m=\u001b[39m b\u001b[38;5;241m.\u001b[39mapply(f, \u001b[38;5;241m*\u001b[39m\u001b[38;5;241m*\u001b[39mkwargs)\n\u001b[1;32m    362\u001b[0m     \u001b[38;5;28;01melse\u001b[39;00m:\n\u001b[0;32m--> 363\u001b[0m         applied \u001b[38;5;241m=\u001b[39m \u001b[38;5;28;43mgetattr\u001b[39;49m\u001b[43m(\u001b[49m\u001b[43mb\u001b[49m\u001b[43m,\u001b[49m\u001b[43m \u001b[49m\u001b[43mf\u001b[49m\u001b[43m)\u001b[49m\u001b[43m(\u001b[49m\u001b[38;5;241;43m*\u001b[39;49m\u001b[38;5;241;43m*\u001b[39;49m\u001b[43mkwargs\u001b[49m\u001b[43m)\u001b[49m\n\u001b[1;32m    364\u001b[0m     result_blocks \u001b[38;5;241m=\u001b[39m extend_blocks(applied, result_blocks)\n\u001b[1;32m    366\u001b[0m out \u001b[38;5;241m=\u001b[39m \u001b[38;5;28mtype\u001b[39m(\u001b[38;5;28mself\u001b[39m)\u001b[38;5;241m.\u001b[39mfrom_blocks(result_blocks, \u001b[38;5;28mself\u001b[39m\u001b[38;5;241m.\u001b[39maxes)\n",
      "File \u001b[0;32m~/teaching/lib/python3.11/site-packages/pandas/core/internals/blocks.py:758\u001b[0m, in \u001b[0;36mBlock.astype\u001b[0;34m(self, dtype, copy, errors, using_cow, squeeze)\u001b[0m\n\u001b[1;32m    755\u001b[0m         \u001b[38;5;28;01mraise\u001b[39;00m \u001b[38;5;167;01mValueError\u001b[39;00m(\u001b[38;5;124m\"\u001b[39m\u001b[38;5;124mCan not squeeze with more than one column.\u001b[39m\u001b[38;5;124m\"\u001b[39m)\n\u001b[1;32m    756\u001b[0m     values \u001b[38;5;241m=\u001b[39m values[\u001b[38;5;241m0\u001b[39m, :]  \u001b[38;5;66;03m# type: ignore[call-overload]\u001b[39;00m\n\u001b[0;32m--> 758\u001b[0m new_values \u001b[38;5;241m=\u001b[39m \u001b[43mastype_array_safe\u001b[49m\u001b[43m(\u001b[49m\u001b[43mvalues\u001b[49m\u001b[43m,\u001b[49m\u001b[43m \u001b[49m\u001b[43mdtype\u001b[49m\u001b[43m,\u001b[49m\u001b[43m \u001b[49m\u001b[43mcopy\u001b[49m\u001b[38;5;241;43m=\u001b[39;49m\u001b[43mcopy\u001b[49m\u001b[43m,\u001b[49m\u001b[43m \u001b[49m\u001b[43merrors\u001b[49m\u001b[38;5;241;43m=\u001b[39;49m\u001b[43merrors\u001b[49m\u001b[43m)\u001b[49m\n\u001b[1;32m    760\u001b[0m new_values \u001b[38;5;241m=\u001b[39m maybe_coerce_values(new_values)\n\u001b[1;32m    762\u001b[0m refs \u001b[38;5;241m=\u001b[39m \u001b[38;5;28;01mNone\u001b[39;00m\n",
      "File \u001b[0;32m~/teaching/lib/python3.11/site-packages/pandas/core/dtypes/astype.py:237\u001b[0m, in \u001b[0;36mastype_array_safe\u001b[0;34m(values, dtype, copy, errors)\u001b[0m\n\u001b[1;32m    234\u001b[0m     dtype \u001b[38;5;241m=\u001b[39m dtype\u001b[38;5;241m.\u001b[39mnumpy_dtype\n\u001b[1;32m    236\u001b[0m \u001b[38;5;28;01mtry\u001b[39;00m:\n\u001b[0;32m--> 237\u001b[0m     new_values \u001b[38;5;241m=\u001b[39m \u001b[43mastype_array\u001b[49m\u001b[43m(\u001b[49m\u001b[43mvalues\u001b[49m\u001b[43m,\u001b[49m\u001b[43m \u001b[49m\u001b[43mdtype\u001b[49m\u001b[43m,\u001b[49m\u001b[43m \u001b[49m\u001b[43mcopy\u001b[49m\u001b[38;5;241;43m=\u001b[39;49m\u001b[43mcopy\u001b[49m\u001b[43m)\u001b[49m\n\u001b[1;32m    238\u001b[0m \u001b[38;5;28;01mexcept\u001b[39;00m (\u001b[38;5;167;01mValueError\u001b[39;00m, \u001b[38;5;167;01mTypeError\u001b[39;00m):\n\u001b[1;32m    239\u001b[0m     \u001b[38;5;66;03m# e.g. _astype_nansafe can fail on object-dtype of strings\u001b[39;00m\n\u001b[1;32m    240\u001b[0m     \u001b[38;5;66;03m#  trying to convert to float\u001b[39;00m\n\u001b[1;32m    241\u001b[0m     \u001b[38;5;28;01mif\u001b[39;00m errors \u001b[38;5;241m==\u001b[39m \u001b[38;5;124m\"\u001b[39m\u001b[38;5;124mignore\u001b[39m\u001b[38;5;124m\"\u001b[39m:\n",
      "File \u001b[0;32m~/teaching/lib/python3.11/site-packages/pandas/core/dtypes/astype.py:182\u001b[0m, in \u001b[0;36mastype_array\u001b[0;34m(values, dtype, copy)\u001b[0m\n\u001b[1;32m    179\u001b[0m     values \u001b[38;5;241m=\u001b[39m values\u001b[38;5;241m.\u001b[39mastype(dtype, copy\u001b[38;5;241m=\u001b[39mcopy)\n\u001b[1;32m    181\u001b[0m \u001b[38;5;28;01melse\u001b[39;00m:\n\u001b[0;32m--> 182\u001b[0m     values \u001b[38;5;241m=\u001b[39m \u001b[43m_astype_nansafe\u001b[49m\u001b[43m(\u001b[49m\u001b[43mvalues\u001b[49m\u001b[43m,\u001b[49m\u001b[43m \u001b[49m\u001b[43mdtype\u001b[49m\u001b[43m,\u001b[49m\u001b[43m \u001b[49m\u001b[43mcopy\u001b[49m\u001b[38;5;241;43m=\u001b[39;49m\u001b[43mcopy\u001b[49m\u001b[43m)\u001b[49m\n\u001b[1;32m    184\u001b[0m \u001b[38;5;66;03m# in pandas we don't store numpy str dtypes, so convert to object\u001b[39;00m\n\u001b[1;32m    185\u001b[0m \u001b[38;5;28;01mif\u001b[39;00m \u001b[38;5;28misinstance\u001b[39m(dtype, np\u001b[38;5;241m.\u001b[39mdtype) \u001b[38;5;129;01mand\u001b[39;00m \u001b[38;5;28missubclass\u001b[39m(values\u001b[38;5;241m.\u001b[39mdtype\u001b[38;5;241m.\u001b[39mtype, \u001b[38;5;28mstr\u001b[39m):\n",
      "File \u001b[0;32m~/teaching/lib/python3.11/site-packages/pandas/core/dtypes/astype.py:101\u001b[0m, in \u001b[0;36m_astype_nansafe\u001b[0;34m(arr, dtype, copy, skipna)\u001b[0m\n\u001b[1;32m     96\u001b[0m     \u001b[38;5;28;01mreturn\u001b[39;00m lib\u001b[38;5;241m.\u001b[39mensure_string_array(\n\u001b[1;32m     97\u001b[0m         arr, skipna\u001b[38;5;241m=\u001b[39mskipna, convert_na_value\u001b[38;5;241m=\u001b[39m\u001b[38;5;28;01mFalse\u001b[39;00m\n\u001b[1;32m     98\u001b[0m     )\u001b[38;5;241m.\u001b[39mreshape(shape)\n\u001b[1;32m    100\u001b[0m \u001b[38;5;28;01melif\u001b[39;00m np\u001b[38;5;241m.\u001b[39missubdtype(arr\u001b[38;5;241m.\u001b[39mdtype, np\u001b[38;5;241m.\u001b[39mfloating) \u001b[38;5;129;01mand\u001b[39;00m dtype\u001b[38;5;241m.\u001b[39mkind \u001b[38;5;129;01min\u001b[39;00m \u001b[38;5;124m\"\u001b[39m\u001b[38;5;124miu\u001b[39m\u001b[38;5;124m\"\u001b[39m:\n\u001b[0;32m--> 101\u001b[0m     \u001b[38;5;28;01mreturn\u001b[39;00m \u001b[43m_astype_float_to_int_nansafe\u001b[49m\u001b[43m(\u001b[49m\u001b[43marr\u001b[49m\u001b[43m,\u001b[49m\u001b[43m \u001b[49m\u001b[43mdtype\u001b[49m\u001b[43m,\u001b[49m\u001b[43m \u001b[49m\u001b[43mcopy\u001b[49m\u001b[43m)\u001b[49m\n\u001b[1;32m    103\u001b[0m \u001b[38;5;28;01melif\u001b[39;00m arr\u001b[38;5;241m.\u001b[39mdtype \u001b[38;5;241m==\u001b[39m \u001b[38;5;28mobject\u001b[39m:\n\u001b[1;32m    104\u001b[0m     \u001b[38;5;66;03m# if we have a datetime/timedelta array of objects\u001b[39;00m\n\u001b[1;32m    105\u001b[0m     \u001b[38;5;66;03m# then coerce to datetime64[ns] and use DatetimeArray.astype\u001b[39;00m\n\u001b[1;32m    107\u001b[0m     \u001b[38;5;28;01mif\u001b[39;00m lib\u001b[38;5;241m.\u001b[39mis_np_dtype(dtype, \u001b[38;5;124m\"\u001b[39m\u001b[38;5;124mM\u001b[39m\u001b[38;5;124m\"\u001b[39m):\n",
      "File \u001b[0;32m~/teaching/lib/python3.11/site-packages/pandas/core/dtypes/astype.py:145\u001b[0m, in \u001b[0;36m_astype_float_to_int_nansafe\u001b[0;34m(values, dtype, copy)\u001b[0m\n\u001b[1;32m    141\u001b[0m \u001b[38;5;250m\u001b[39m\u001b[38;5;124;03m\"\"\"\u001b[39;00m\n\u001b[1;32m    142\u001b[0m \u001b[38;5;124;03mastype with a check preventing converting NaN to an meaningless integer value.\u001b[39;00m\n\u001b[1;32m    143\u001b[0m \u001b[38;5;124;03m\"\"\"\u001b[39;00m\n\u001b[1;32m    144\u001b[0m \u001b[38;5;28;01mif\u001b[39;00m \u001b[38;5;129;01mnot\u001b[39;00m np\u001b[38;5;241m.\u001b[39misfinite(values)\u001b[38;5;241m.\u001b[39mall():\n\u001b[0;32m--> 145\u001b[0m     \u001b[38;5;28;01mraise\u001b[39;00m IntCastingNaNError(\n\u001b[1;32m    146\u001b[0m         \u001b[38;5;124m\"\u001b[39m\u001b[38;5;124mCannot convert non-finite values (NA or inf) to integer\u001b[39m\u001b[38;5;124m\"\u001b[39m\n\u001b[1;32m    147\u001b[0m     )\n\u001b[1;32m    148\u001b[0m \u001b[38;5;28;01mif\u001b[39;00m dtype\u001b[38;5;241m.\u001b[39mkind \u001b[38;5;241m==\u001b[39m \u001b[38;5;124m\"\u001b[39m\u001b[38;5;124mu\u001b[39m\u001b[38;5;124m\"\u001b[39m:\n\u001b[1;32m    149\u001b[0m     \u001b[38;5;66;03m# GH#45151\u001b[39;00m\n\u001b[1;32m    150\u001b[0m     \u001b[38;5;28;01mif\u001b[39;00m \u001b[38;5;129;01mnot\u001b[39;00m (values \u001b[38;5;241m>\u001b[39m\u001b[38;5;241m=\u001b[39m \u001b[38;5;241m0\u001b[39m)\u001b[38;5;241m.\u001b[39mall():\n",
      "\u001b[0;31mIntCastingNaNError\u001b[0m: Cannot convert non-finite values (NA or inf) to integer"
     ]
    }
   ],
   "source": [
    "df_int['column_nan'] = df_int['column_nan'].astype(np.int16)"
   ]
  },
  {
   "cell_type": "markdown",
   "id": "46bb732a",
   "metadata": {},
   "source": [
    "Просто так скастить в integer, не выбрасывая NaN нельзя"
   ]
  },
  {
   "cell_type": "code",
   "execution_count": null,
   "id": "d6613a8d",
   "metadata": {
    "ExecuteTime": {
     "end_time": "2023-01-27T12:15:54.035982Z",
     "start_time": "2023-01-27T12:15:54.033723Z"
    }
   },
   "outputs": [],
   "source": [
    "df_int['column_nan'] = df_int['column_nan'].astype(\"Int16\")"
   ]
  },
  {
   "cell_type": "markdown",
   "id": "8420ab25",
   "metadata": {},
   "source": [
    "О, что-то получилось?"
   ]
  },
  {
   "cell_type": "code",
   "execution_count": null,
   "id": "788fd1aa",
   "metadata": {
    "ExecuteTime": {
     "end_time": "2023-01-27T12:15:54.133060Z",
     "start_time": "2023-01-27T12:15:54.129528Z"
    }
   },
   "outputs": [],
   "source": [
    "df_int"
   ]
  },
  {
   "cell_type": "code",
   "execution_count": 15,
   "id": "b6d94931",
   "metadata": {
    "ExecuteTime": {
     "end_time": "2023-01-27T12:15:54.135657Z",
     "start_time": "2023-01-27T12:15:54.133875Z"
    }
   },
   "outputs": [
    {
     "data": {
      "text/plain": [
       "(48, 48)"
      ]
     },
     "execution_count": 15,
     "metadata": {},
     "output_type": "execute_result"
    }
   ],
   "source": [
    "df_int['column_none'].nbytes, df_int['column_nan'].nbytes"
   ]
  },
  {
   "cell_type": "code",
   "execution_count": 16,
   "id": "06e092c5",
   "metadata": {
    "ExecuteTime": {
     "end_time": "2023-01-27T12:15:54.140069Z",
     "start_time": "2023-01-27T12:15:54.138282Z"
    }
   },
   "outputs": [
    {
     "data": {
      "text/plain": [
       "nan"
      ]
     },
     "execution_count": 16,
     "metadata": {},
     "output_type": "execute_result"
    }
   ],
   "source": [
    "df_int.column_none.loc[5]"
   ]
  },
  {
   "cell_type": "code",
   "execution_count": 17,
   "id": "7d542ce2",
   "metadata": {
    "ExecuteTime": {
     "end_time": "2023-01-27T12:15:54.144248Z",
     "start_time": "2023-01-27T12:15:54.142653Z"
    }
   },
   "outputs": [
    {
     "data": {
      "text/plain": [
       "nan"
      ]
     },
     "execution_count": 17,
     "metadata": {},
     "output_type": "execute_result"
    }
   ],
   "source": [
    "df_int.column_nan.loc[5]"
   ]
  },
  {
   "cell_type": "markdown",
   "id": "9705404a",
   "metadata": {},
   "source": [
    "Получили еще одну версию для \"ничего\"?))0)"
   ]
  },
  {
   "cell_type": "code",
   "execution_count": 18,
   "id": "1f1ca568",
   "metadata": {
    "ExecuteTime": {
     "end_time": "2023-01-27T12:15:54.243673Z",
     "start_time": "2023-01-27T12:15:54.240576Z"
    }
   },
   "outputs": [
    {
     "data": {
      "text/html": [
       "<div>\n",
       "<style scoped>\n",
       "    .dataframe tbody tr th:only-of-type {\n",
       "        vertical-align: middle;\n",
       "    }\n",
       "\n",
       "    .dataframe tbody tr th {\n",
       "        vertical-align: top;\n",
       "    }\n",
       "\n",
       "    .dataframe thead th {\n",
       "        text-align: right;\n",
       "    }\n",
       "</style>\n",
       "<table border=\"1\" class=\"dataframe\">\n",
       "  <thead>\n",
       "    <tr style=\"text-align: right;\">\n",
       "      <th></th>\n",
       "      <th>column_none</th>\n",
       "      <th>column_nan</th>\n",
       "    </tr>\n",
       "  </thead>\n",
       "  <tbody>\n",
       "    <tr>\n",
       "      <th>0</th>\n",
       "      <td>False</td>\n",
       "      <td>False</td>\n",
       "    </tr>\n",
       "    <tr>\n",
       "      <th>1</th>\n",
       "      <td>False</td>\n",
       "      <td>False</td>\n",
       "    </tr>\n",
       "    <tr>\n",
       "      <th>2</th>\n",
       "      <td>False</td>\n",
       "      <td>False</td>\n",
       "    </tr>\n",
       "    <tr>\n",
       "      <th>3</th>\n",
       "      <td>False</td>\n",
       "      <td>False</td>\n",
       "    </tr>\n",
       "    <tr>\n",
       "      <th>4</th>\n",
       "      <td>False</td>\n",
       "      <td>False</td>\n",
       "    </tr>\n",
       "    <tr>\n",
       "      <th>5</th>\n",
       "      <td>True</td>\n",
       "      <td>True</td>\n",
       "    </tr>\n",
       "  </tbody>\n",
       "</table>\n",
       "</div>"
      ],
      "text/plain": [
       "   column_none  column_nan\n",
       "0        False       False\n",
       "1        False       False\n",
       "2        False       False\n",
       "3        False       False\n",
       "4        False       False\n",
       "5         True        True"
      ]
     },
     "execution_count": 18,
     "metadata": {},
     "output_type": "execute_result"
    }
   ],
   "source": [
    "df_int.isna()"
   ]
  },
  {
   "cell_type": "code",
   "execution_count": 19,
   "id": "d143fca0",
   "metadata": {
    "ExecuteTime": {
     "end_time": "2023-01-27T12:15:54.246142Z",
     "start_time": "2023-01-27T12:15:54.244564Z"
    }
   },
   "outputs": [
    {
     "data": {
      "text/plain": [
       "8"
      ]
     },
     "execution_count": 19,
     "metadata": {},
     "output_type": "execute_result"
    }
   ],
   "source": [
    "df_int['column_none'].loc[5].nbytes"
   ]
  },
  {
   "cell_type": "code",
   "execution_count": 20,
   "id": "b8c7e9df",
   "metadata": {
    "ExecuteTime": {
     "end_time": "2023-01-27T12:16:25.138800Z",
     "start_time": "2023-01-27T12:16:25.136035Z"
    }
   },
   "outputs": [
    {
     "data": {
      "text/plain": [
       "column_none    48\n",
       "column_nan     48\n",
       "dtype: int64"
      ]
     },
     "execution_count": 20,
     "metadata": {},
     "output_type": "execute_result"
    }
   ],
   "source": [
    "df_int.memory_usage(index=False)"
   ]
  },
  {
   "cell_type": "code",
   "execution_count": 21,
   "id": "fd86fe0d",
   "metadata": {
    "ExecuteTime": {
     "end_time": "2023-01-27T12:15:54.260052Z",
     "start_time": "2023-01-27T12:15:54.258803Z"
    }
   },
   "outputs": [],
   "source": [
    "df_int.columns = ['column_1', 'column_2']"
   ]
  },
  {
   "cell_type": "code",
   "execution_count": 22,
   "id": "16079916",
   "metadata": {
    "ExecuteTime": {
     "end_time": "2023-01-27T12:15:54.264516Z",
     "start_time": "2023-01-27T12:15:54.261556Z"
    }
   },
   "outputs": [
    {
     "data": {
      "text/html": [
       "<div>\n",
       "<style scoped>\n",
       "    .dataframe tbody tr th:only-of-type {\n",
       "        vertical-align: middle;\n",
       "    }\n",
       "\n",
       "    .dataframe tbody tr th {\n",
       "        vertical-align: top;\n",
       "    }\n",
       "\n",
       "    .dataframe thead th {\n",
       "        text-align: right;\n",
       "    }\n",
       "</style>\n",
       "<table border=\"1\" class=\"dataframe\">\n",
       "  <thead>\n",
       "    <tr style=\"text-align: right;\">\n",
       "      <th></th>\n",
       "      <th>column_1</th>\n",
       "      <th>column_2</th>\n",
       "    </tr>\n",
       "  </thead>\n",
       "  <tbody>\n",
       "    <tr>\n",
       "      <th>0</th>\n",
       "      <td>1.0</td>\n",
       "      <td>1.0</td>\n",
       "    </tr>\n",
       "    <tr>\n",
       "      <th>1</th>\n",
       "      <td>2.0</td>\n",
       "      <td>2.0</td>\n",
       "    </tr>\n",
       "    <tr>\n",
       "      <th>2</th>\n",
       "      <td>3.0</td>\n",
       "      <td>3.0</td>\n",
       "    </tr>\n",
       "    <tr>\n",
       "      <th>3</th>\n",
       "      <td>4.0</td>\n",
       "      <td>4.0</td>\n",
       "    </tr>\n",
       "    <tr>\n",
       "      <th>4</th>\n",
       "      <td>5.0</td>\n",
       "      <td>5.0</td>\n",
       "    </tr>\n",
       "    <tr>\n",
       "      <th>5</th>\n",
       "      <td>NaN</td>\n",
       "      <td>NaN</td>\n",
       "    </tr>\n",
       "  </tbody>\n",
       "</table>\n",
       "</div>"
      ],
      "text/plain": [
       "   column_1  column_2\n",
       "0       1.0       1.0\n",
       "1       2.0       2.0\n",
       "2       3.0       3.0\n",
       "3       4.0       4.0\n",
       "4       5.0       5.0\n",
       "5       NaN       NaN"
      ]
     },
     "execution_count": 22,
     "metadata": {},
     "output_type": "execute_result"
    }
   ],
   "source": [
    "df_int"
   ]
  },
  {
   "cell_type": "code",
   "execution_count": 23,
   "id": "28dc2f5b",
   "metadata": {
    "ExecuteTime": {
     "end_time": "2023-01-27T12:15:54.266682Z",
     "start_time": "2023-01-27T12:15:54.265187Z"
    }
   },
   "outputs": [],
   "source": [
    "df_int.loc[1, 'column_1'] = None\n",
    "df_int.loc[1, 'column_2'] = None"
   ]
  },
  {
   "cell_type": "code",
   "execution_count": 24,
   "id": "4292c100",
   "metadata": {
    "ExecuteTime": {
     "end_time": "2023-01-27T12:15:54.271770Z",
     "start_time": "2023-01-27T12:15:54.268971Z"
    }
   },
   "outputs": [
    {
     "data": {
      "text/html": [
       "<div>\n",
       "<style scoped>\n",
       "    .dataframe tbody tr th:only-of-type {\n",
       "        vertical-align: middle;\n",
       "    }\n",
       "\n",
       "    .dataframe tbody tr th {\n",
       "        vertical-align: top;\n",
       "    }\n",
       "\n",
       "    .dataframe thead th {\n",
       "        text-align: right;\n",
       "    }\n",
       "</style>\n",
       "<table border=\"1\" class=\"dataframe\">\n",
       "  <thead>\n",
       "    <tr style=\"text-align: right;\">\n",
       "      <th></th>\n",
       "      <th>column_1</th>\n",
       "      <th>column_2</th>\n",
       "    </tr>\n",
       "  </thead>\n",
       "  <tbody>\n",
       "    <tr>\n",
       "      <th>0</th>\n",
       "      <td>1.0</td>\n",
       "      <td>1.0</td>\n",
       "    </tr>\n",
       "    <tr>\n",
       "      <th>1</th>\n",
       "      <td>NaN</td>\n",
       "      <td>NaN</td>\n",
       "    </tr>\n",
       "    <tr>\n",
       "      <th>2</th>\n",
       "      <td>3.0</td>\n",
       "      <td>3.0</td>\n",
       "    </tr>\n",
       "    <tr>\n",
       "      <th>3</th>\n",
       "      <td>4.0</td>\n",
       "      <td>4.0</td>\n",
       "    </tr>\n",
       "    <tr>\n",
       "      <th>4</th>\n",
       "      <td>5.0</td>\n",
       "      <td>5.0</td>\n",
       "    </tr>\n",
       "    <tr>\n",
       "      <th>5</th>\n",
       "      <td>NaN</td>\n",
       "      <td>NaN</td>\n",
       "    </tr>\n",
       "  </tbody>\n",
       "</table>\n",
       "</div>"
      ],
      "text/plain": [
       "   column_1  column_2\n",
       "0       1.0       1.0\n",
       "1       NaN       NaN\n",
       "2       3.0       3.0\n",
       "3       4.0       4.0\n",
       "4       5.0       5.0\n",
       "5       NaN       NaN"
      ]
     },
     "execution_count": 24,
     "metadata": {},
     "output_type": "execute_result"
    }
   ],
   "source": [
    "df_int"
   ]
  },
  {
   "cell_type": "markdown",
   "id": "203fd572",
   "metadata": {},
   "source": [
    "Произошел еще один type cast"
   ]
  },
  {
   "cell_type": "code",
   "execution_count": 25,
   "id": "84bb17af",
   "metadata": {
    "ExecuteTime": {
     "end_time": "2023-01-27T12:15:54.370683Z",
     "start_time": "2023-01-27T12:15:54.368854Z"
    }
   },
   "outputs": [],
   "source": [
    "nas = df_int.column_2[df_int.column_2.isna()]"
   ]
  },
  {
   "cell_type": "code",
   "execution_count": 26,
   "id": "68542669",
   "metadata": {
    "ExecuteTime": {
     "end_time": "2023-01-27T12:15:54.375319Z",
     "start_time": "2023-01-27T12:15:54.373499Z"
    }
   },
   "outputs": [
    {
     "data": {
      "text/plain": [
       "False"
      ]
     },
     "execution_count": 26,
     "metadata": {},
     "output_type": "execute_result"
    }
   ],
   "source": [
    "nas.iloc[0] == nas.iloc[1]"
   ]
  },
  {
   "cell_type": "code",
   "execution_count": 27,
   "id": "46e90ccb",
   "metadata": {
    "ExecuteTime": {
     "end_time": "2023-01-27T12:15:54.378010Z",
     "start_time": "2023-01-27T12:15:54.376167Z"
    }
   },
   "outputs": [
    {
     "data": {
      "text/plain": [
       "False"
      ]
     },
     "execution_count": 27,
     "metadata": {},
     "output_type": "execute_result"
    }
   ],
   "source": [
    "nas.iloc[0] is nas.iloc[1]"
   ]
  },
  {
   "cell_type": "markdown",
   "id": "26d7d389",
   "metadata": {},
   "source": [
    "!!!"
   ]
  },
  {
   "cell_type": "code",
   "execution_count": 28,
   "id": "ba03ba08",
   "metadata": {
    "ExecuteTime": {
     "end_time": "2023-01-27T12:15:54.476780Z",
     "start_time": "2023-01-27T12:15:54.474615Z"
    }
   },
   "outputs": [
    {
     "data": {
      "text/plain": [
       "(5012871696, 5012871696)"
      ]
     },
     "execution_count": 28,
     "metadata": {},
     "output_type": "execute_result"
    }
   ],
   "source": [
    "id(nas.iloc[0]), id(nas.iloc[1])"
   ]
  },
  {
   "cell_type": "markdown",
   "id": "8435e2d5",
   "metadata": {},
   "source": [
    "Это один и тот же объект!"
   ]
  },
  {
   "cell_type": "code",
   "execution_count": 29,
   "id": "5030d7ef",
   "metadata": {
    "ExecuteTime": {
     "end_time": "2023-01-27T12:15:54.574662Z",
     "start_time": "2023-01-27T12:15:54.572537Z"
    }
   },
   "outputs": [],
   "source": [
    "nans = df_int.column_1[df_int.column_1.isna()]"
   ]
  },
  {
   "cell_type": "code",
   "execution_count": 30,
   "id": "c0881669",
   "metadata": {
    "ExecuteTime": {
     "end_time": "2023-01-27T12:15:54.578745Z",
     "start_time": "2023-01-27T12:15:54.576256Z"
    }
   },
   "outputs": [
    {
     "data": {
      "text/plain": [
       "1   NaN\n",
       "5   NaN\n",
       "Name: column_1, dtype: float64"
      ]
     },
     "execution_count": 30,
     "metadata": {},
     "output_type": "execute_result"
    }
   ],
   "source": [
    "nans"
   ]
  },
  {
   "cell_type": "code",
   "execution_count": 31,
   "id": "6e165c22",
   "metadata": {
    "ExecuteTime": {
     "end_time": "2023-01-27T12:15:54.580684Z",
     "start_time": "2023-01-27T12:15:54.579533Z"
    }
   },
   "outputs": [],
   "source": [
    "a, b = nans.values"
   ]
  },
  {
   "cell_type": "code",
   "execution_count": 32,
   "id": "345d8a6e",
   "metadata": {
    "ExecuteTime": {
     "end_time": "2023-01-27T12:15:54.584587Z",
     "start_time": "2023-01-27T12:15:54.582998Z"
    }
   },
   "outputs": [
    {
     "data": {
      "text/plain": [
       "(nan, nan)"
      ]
     },
     "execution_count": 32,
     "metadata": {},
     "output_type": "execute_result"
    }
   ],
   "source": [
    "a, b"
   ]
  },
  {
   "cell_type": "code",
   "execution_count": 33,
   "id": "d2016ea3",
   "metadata": {
    "ExecuteTime": {
     "end_time": "2023-01-27T12:15:54.587982Z",
     "start_time": "2023-01-27T12:15:54.586494Z"
    }
   },
   "outputs": [
    {
     "data": {
      "text/plain": [
       "False"
      ]
     },
     "execution_count": 33,
     "metadata": {},
     "output_type": "execute_result"
    }
   ],
   "source": [
    "a == b"
   ]
  },
  {
   "cell_type": "code",
   "execution_count": 34,
   "id": "cde003bf",
   "metadata": {
    "ExecuteTime": {
     "end_time": "2023-01-27T12:15:54.592265Z",
     "start_time": "2023-01-27T12:15:54.590649Z"
    }
   },
   "outputs": [
    {
     "data": {
      "text/plain": [
       "False"
      ]
     },
     "execution_count": 34,
     "metadata": {},
     "output_type": "execute_result"
    }
   ],
   "source": [
    "a is b"
   ]
  },
  {
   "cell_type": "code",
   "execution_count": 35,
   "id": "207bd9d4",
   "metadata": {
    "ExecuteTime": {
     "end_time": "2023-01-27T12:15:54.596581Z",
     "start_time": "2023-01-27T12:15:54.594995Z"
    }
   },
   "outputs": [
    {
     "data": {
      "text/plain": [
       "(5012870192, 5012866352)"
      ]
     },
     "execution_count": 35,
     "metadata": {},
     "output_type": "execute_result"
    }
   ],
   "source": [
    "id(a), id(b)"
   ]
  },
  {
   "cell_type": "markdown",
   "id": "5063c735",
   "metadata": {},
   "source": [
    "И напоследок"
   ]
  },
  {
   "cell_type": "code",
   "execution_count": 36,
   "id": "02eedce2",
   "metadata": {
    "ExecuteTime": {
     "end_time": "2023-01-27T12:15:54.698137Z",
     "start_time": "2023-01-27T12:15:54.696343Z"
    }
   },
   "outputs": [
    {
     "data": {
      "text/plain": [
       "{nan, nan}"
      ]
     },
     "execution_count": 36,
     "metadata": {},
     "output_type": "execute_result"
    }
   ],
   "source": [
    "set([float('nan'), float('nan')])"
   ]
  },
  {
   "cell_type": "code",
   "execution_count": 37,
   "id": "e10630cb",
   "metadata": {
    "ExecuteTime": {
     "end_time": "2023-01-27T12:15:54.701437Z",
     "start_time": "2023-01-27T12:15:54.699788Z"
    }
   },
   "outputs": [
    {
     "data": {
      "text/plain": [
       "{nan, nan}"
      ]
     },
     "execution_count": 37,
     "metadata": {},
     "output_type": "execute_result"
    }
   ],
   "source": [
    "set([np.float64('nan'), np.float64('nan')])"
   ]
  },
  {
   "cell_type": "code",
   "execution_count": 38,
   "id": "7d4277ab",
   "metadata": {
    "ExecuteTime": {
     "end_time": "2023-01-27T12:15:54.705478Z",
     "start_time": "2023-01-27T12:15:54.703719Z"
    }
   },
   "outputs": [
    {
     "data": {
      "text/plain": [
       "{<NA>}"
      ]
     },
     "execution_count": 38,
     "metadata": {},
     "output_type": "execute_result"
    }
   ],
   "source": [
    "set([pd.NA, pd.NA])"
   ]
  },
  {
   "cell_type": "code",
   "execution_count": 39,
   "id": "4ff1f979",
   "metadata": {
    "ExecuteTime": {
     "end_time": "2023-01-27T12:15:54.709681Z",
     "start_time": "2023-01-27T12:15:54.707877Z"
    }
   },
   "outputs": [
    {
     "data": {
      "text/plain": [
       "{nan}"
      ]
     },
     "execution_count": 39,
     "metadata": {},
     "output_type": "execute_result"
    }
   ],
   "source": [
    "set([np.nan, np.nan])"
   ]
  },
  {
   "cell_type": "code",
   "execution_count": 40,
   "id": "b938230b",
   "metadata": {
    "ExecuteTime": {
     "end_time": "2023-01-27T12:15:54.713929Z",
     "start_time": "2023-01-27T12:15:54.712396Z"
    }
   },
   "outputs": [
    {
     "data": {
      "text/plain": [
       "True"
      ]
     },
     "execution_count": 40,
     "metadata": {},
     "output_type": "execute_result"
    }
   ],
   "source": [
    "np.nan is np.nan is np.NaN is np.NAN"
   ]
  },
  {
   "cell_type": "code",
   "execution_count": 41,
   "id": "9e5b68a4",
   "metadata": {
    "ExecuteTime": {
     "end_time": "2023-01-27T12:15:54.717484Z",
     "start_time": "2023-01-27T12:15:54.715865Z"
    }
   },
   "outputs": [
    {
     "data": {
      "text/plain": [
       "True"
      ]
     },
     "execution_count": 41,
     "metadata": {},
     "output_type": "execute_result"
    }
   ],
   "source": [
    "pd.NA is pd.NA"
   ]
  },
  {
   "cell_type": "code",
   "execution_count": 42,
   "id": "55334f03",
   "metadata": {
    "ExecuteTime": {
     "end_time": "2023-01-27T12:15:54.726729Z",
     "start_time": "2023-01-27T12:15:54.724916Z"
    }
   },
   "outputs": [
    {
     "data": {
      "text/plain": [
       "pandas._libs.missing.NAType"
      ]
     },
     "execution_count": 42,
     "metadata": {},
     "output_type": "execute_result"
    }
   ],
   "source": [
    "type(1 + pd.NA)"
   ]
  },
  {
   "cell_type": "code",
   "execution_count": 43,
   "id": "78121523",
   "metadata": {
    "ExecuteTime": {
     "end_time": "2023-01-27T12:15:54.734315Z",
     "start_time": "2023-01-27T12:15:54.732685Z"
    }
   },
   "outputs": [
    {
     "data": {
      "text/plain": [
       "(4493530832, 4493530832)"
      ]
     },
     "execution_count": 43,
     "metadata": {},
     "output_type": "execute_result"
    }
   ],
   "source": [
    "id(1 + pd.NA), id(pd.NA)"
   ]
  },
  {
   "cell_type": "code",
   "execution_count": 44,
   "id": "24595444",
   "metadata": {
    "ExecuteTime": {
     "end_time": "2023-01-27T12:15:54.741441Z",
     "start_time": "2023-01-27T12:15:54.739835Z"
    }
   },
   "outputs": [
    {
     "data": {
      "text/plain": [
       "True"
      ]
     },
     "execution_count": 44,
     "metadata": {},
     "output_type": "execute_result"
    }
   ],
   "source": [
    "np.nan is np.NaN is np.NAN"
   ]
  },
  {
   "cell_type": "code",
   "execution_count": 45,
   "id": "e8d7d2f5",
   "metadata": {
    "ExecuteTime": {
     "end_time": "2023-01-27T12:15:54.747900Z",
     "start_time": "2023-01-27T12:15:54.746364Z"
    }
   },
   "outputs": [
    {
     "data": {
      "text/plain": [
       "float"
      ]
     },
     "execution_count": 45,
     "metadata": {},
     "output_type": "execute_result"
    }
   ],
   "source": [
    "type(1 + np.nan)"
   ]
  },
  {
   "cell_type": "code",
   "execution_count": 46,
   "id": "c47e1ce2",
   "metadata": {
    "ExecuteTime": {
     "end_time": "2023-01-27T12:15:54.754682Z",
     "start_time": "2023-01-27T12:15:54.753089Z"
    }
   },
   "outputs": [
    {
     "data": {
      "text/plain": [
       "(4441670128, 4814872464)"
      ]
     },
     "execution_count": 46,
     "metadata": {},
     "output_type": "execute_result"
    }
   ],
   "source": [
    "id(np.nan), id(np.nan + 1)"
   ]
  },
  {
   "cell_type": "markdown",
   "id": "22a1edeb",
   "metadata": {},
   "source": [
    "## Задачи\n",
    "Почему индексы важны: потому что при element-wise операциях происходит мэтчинг по индексам."
   ]
  },
  {
   "cell_type": "code",
   "execution_count": 47,
   "id": "b4a8732b-ac2b-44e0-8761-1ef6a07230ef",
   "metadata": {},
   "outputs": [],
   "source": [
    "series1 = pd.Series([0, 1, 2])\n",
    "series2 = pd.Series([0, 1, 2], index=[2, 1, 0])\n",
    "series3 = pd.Series([0, 1, 2], index=[1, 1, 1])"
   ]
  },
  {
   "cell_type": "code",
   "execution_count": 48,
   "id": "471e7021-d9ed-4796-a0fa-3f4c1cea9443",
   "metadata": {},
   "outputs": [
    {
     "data": {
      "text/plain": [
       "0    0\n",
       "1    0\n",
       "2    0\n",
       "dtype: int64"
      ]
     },
     "execution_count": 48,
     "metadata": {},
     "output_type": "execute_result"
    }
   ],
   "source": [
    "series1 - series1"
   ]
  },
  {
   "cell_type": "code",
   "execution_count": 49,
   "id": "ca5ea278-96a0-4803-a399-06f5dfaee879",
   "metadata": {},
   "outputs": [
    {
     "data": {
      "text/plain": [
       "0   -2\n",
       "1    0\n",
       "2    2\n",
       "dtype: int64"
      ]
     },
     "execution_count": 49,
     "metadata": {},
     "output_type": "execute_result"
    }
   ],
   "source": [
    "series1 - series2"
   ]
  },
  {
   "cell_type": "code",
   "execution_count": 50,
   "id": "7a278560-16ee-450c-b8e5-1fec2d1e8737",
   "metadata": {},
   "outputs": [
    {
     "data": {
      "text/plain": [
       "0    NaN\n",
       "1    1.0\n",
       "1    0.0\n",
       "1   -1.0\n",
       "2    NaN\n",
       "dtype: float64"
      ]
     },
     "execution_count": 50,
     "metadata": {},
     "output_type": "execute_result"
    }
   ],
   "source": [
    "series1 - series3"
   ]
  },
  {
   "cell_type": "code",
   "execution_count": 51,
   "id": "15c3bc17-8334-45de-8744-f6db5aea0cb5",
   "metadata": {},
   "outputs": [
    {
     "data": {
      "text/plain": [
       "array([0, 0, 0])"
      ]
     },
     "execution_count": 51,
     "metadata": {},
     "output_type": "execute_result"
    }
   ],
   "source": [
    "# np.array, так что все ок\n",
    "series1.values - series3.values"
   ]
  },
  {
   "cell_type": "markdown",
   "id": "858fb50e",
   "metadata": {},
   "source": [
    "###  Given series A and series B"
   ]
  },
  {
   "cell_type": "code",
   "execution_count": 52,
   "id": "0fde126c",
   "metadata": {
    "ExecuteTime": {
     "end_time": "2023-01-27T12:15:55.010867Z",
     "start_time": "2023-01-27T12:15:55.009053Z"
    }
   },
   "outputs": [],
   "source": [
    "series_a = pd.Series([1, 2, 4, 3])\n",
    "series_b = pd.Series([3, 4, 5, 6])"
   ]
  },
  {
   "cell_type": "markdown",
   "id": "6384f777",
   "metadata": {},
   "source": [
    "- Items is series A not present in series B"
   ]
  },
  {
   "cell_type": "code",
   "execution_count": 53,
   "id": "c6d6eb95",
   "metadata": {
    "ExecuteTime": {
     "end_time": "2023-01-27T12:15:55.119068Z",
     "start_time": "2023-01-27T12:15:55.116559Z"
    }
   },
   "outputs": [
    {
     "data": {
      "text/plain": [
       "0    1\n",
       "1    2\n",
       "dtype: int64"
      ]
     },
     "execution_count": 53,
     "metadata": {},
     "output_type": "execute_result"
    }
   ],
   "source": [
    "series_a[~series_a.isin(series_b)]"
   ]
  },
  {
   "cell_type": "markdown",
   "id": "827f70fa",
   "metadata": {},
   "source": [
    "- Intersection of series"
   ]
  },
  {
   "cell_type": "code",
   "execution_count": 54,
   "id": "cab6163a",
   "metadata": {
    "ExecuteTime": {
     "end_time": "2023-01-27T12:15:55.244291Z",
     "start_time": "2023-01-27T12:15:55.242217Z"
    }
   },
   "outputs": [
    {
     "data": {
      "text/plain": [
       "array([3, 4])"
      ]
     },
     "execution_count": 54,
     "metadata": {},
     "output_type": "execute_result"
    }
   ],
   "source": [
    "np.intersect1d(series_a, series_b)"
   ]
  },
  {
   "cell_type": "code",
   "execution_count": 55,
   "id": "bd2d1a65",
   "metadata": {
    "ExecuteTime": {
     "end_time": "2023-01-27T12:15:55.249398Z",
     "start_time": "2023-01-27T12:15:55.247436Z"
    }
   },
   "outputs": [
    {
     "data": {
      "text/plain": [
       "{3, 4}"
      ]
     },
     "execution_count": 55,
     "metadata": {},
     "output_type": "execute_result"
    }
   ],
   "source": [
    "set(series_a) & set(series_b)"
   ]
  },
  {
   "cell_type": "markdown",
   "id": "021ac4be",
   "metadata": {},
   "source": [
    "- Items presented only in one of the series, not in both"
   ]
  },
  {
   "cell_type": "code",
   "execution_count": 56,
   "id": "d890981b",
   "metadata": {
    "ExecuteTime": {
     "end_time": "2023-01-27T12:15:55.360004Z",
     "start_time": "2023-01-27T12:15:55.357832Z"
    }
   },
   "outputs": [
    {
     "data": {
      "text/plain": [
       "(array([1, 2]), array([5, 6]))"
      ]
     },
     "execution_count": 56,
     "metadata": {},
     "output_type": "execute_result"
    }
   ],
   "source": [
    "np.setdiff1d(series_a, series_b), np.setdiff1d(series_b, series_a)"
   ]
  },
  {
   "cell_type": "code",
   "execution_count": 57,
   "id": "c79b03ed",
   "metadata": {
    "ExecuteTime": {
     "end_time": "2023-01-27T12:15:55.363677Z",
     "start_time": "2023-01-27T12:15:55.361846Z"
    }
   },
   "outputs": [
    {
     "data": {
      "text/plain": [
       "array([1, 2, 5, 6])"
      ]
     },
     "execution_count": 57,
     "metadata": {},
     "output_type": "execute_result"
    }
   ],
   "source": [
    "np.union1d(np.setdiff1d(series_a, series_b), np.setdiff1d(series_b, series_a))"
   ]
  },
  {
   "cell_type": "markdown",
   "id": "291814ad",
   "metadata": {},
   "source": [
    "или"
   ]
  },
  {
   "cell_type": "code",
   "execution_count": 58,
   "id": "faaa0e86",
   "metadata": {
    "ExecuteTime": {
     "end_time": "2023-01-27T12:15:55.479359Z",
     "start_time": "2023-01-27T12:15:55.477238Z"
    }
   },
   "outputs": [
    {
     "data": {
      "text/plain": [
       "array([1, 2, 5, 6])"
      ]
     },
     "execution_count": 58,
     "metadata": {},
     "output_type": "execute_result"
    }
   ],
   "source": [
    "np.setxor1d(series_a, series_b)"
   ]
  },
  {
   "cell_type": "markdown",
   "id": "efe8342e",
   "metadata": {},
   "source": [
    "или"
   ]
  },
  {
   "cell_type": "code",
   "execution_count": 59,
   "id": "b2260285",
   "metadata": {
    "ExecuteTime": {
     "end_time": "2023-01-27T12:15:55.589923Z",
     "start_time": "2023-01-27T12:15:55.587151Z"
    }
   },
   "outputs": [
    {
     "data": {
      "text/plain": [
       "(0    1\n",
       " 1    2\n",
       " 2    3\n",
       " 3    4\n",
       " 4    5\n",
       " 5    6\n",
       " dtype: int64,\n",
       " 0    3\n",
       " 1    4\n",
       " dtype: int64)"
      ]
     },
     "execution_count": 59,
     "metadata": {},
     "output_type": "execute_result"
    }
   ],
   "source": [
    "series_union = pd.Series(np.union1d(series_a, series_b))\n",
    "series_intersect = pd.Series(np.intersect1d(series_a, series_b))\n",
    "\n",
    "series_union, series_intersect"
   ]
  },
  {
   "cell_type": "code",
   "execution_count": 60,
   "id": "f7a80c4e",
   "metadata": {
    "ExecuteTime": {
     "end_time": "2023-01-27T12:15:55.594568Z",
     "start_time": "2023-01-27T12:15:55.592330Z"
    }
   },
   "outputs": [
    {
     "data": {
      "text/plain": [
       "0    1\n",
       "1    2\n",
       "4    5\n",
       "5    6\n",
       "dtype: int64"
      ]
     },
     "execution_count": 60,
     "metadata": {},
     "output_type": "execute_result"
    }
   ],
   "source": [
    "series_union[~series_union.isin(series_intersect)]"
   ]
  },
  {
   "cell_type": "markdown",
   "id": "81c14aad",
   "metadata": {},
   "source": [
    "### Merge by column pairs: fruit-pazham, weight-kilo"
   ]
  },
  {
   "cell_type": "code",
   "execution_count": 61,
   "id": "f4d49adb",
   "metadata": {
    "ExecuteTime": {
     "end_time": "2023-01-27T12:15:55.709579Z",
     "start_time": "2023-01-27T12:15:55.707138Z"
    }
   },
   "outputs": [],
   "source": [
    "df1 = pd.DataFrame({'fruit': ['apple', 'banana', 'orange'] * 3,\n",
    "                    'weight': ['high', 'medium', 'low'] * 3,\n",
    "                    'price': np.random.randint(0, 15, 9)})\n",
    "\n",
    "df2 = pd.DataFrame({'pazham': ['apple', 'orange', 'pine'] * 2,\n",
    "                    'kilo': ['high', 'low'] * 3,\n",
    "                    'price': np.random.randint(0, 15, 6)})"
   ]
  },
  {
   "cell_type": "code",
   "execution_count": 62,
   "id": "75c949cf",
   "metadata": {
    "ExecuteTime": {
     "end_time": "2023-01-27T12:15:55.714975Z",
     "start_time": "2023-01-27T12:15:55.711946Z"
    }
   },
   "outputs": [
    {
     "data": {
      "text/html": [
       "<div>\n",
       "<style scoped>\n",
       "    .dataframe tbody tr th:only-of-type {\n",
       "        vertical-align: middle;\n",
       "    }\n",
       "\n",
       "    .dataframe tbody tr th {\n",
       "        vertical-align: top;\n",
       "    }\n",
       "\n",
       "    .dataframe thead th {\n",
       "        text-align: right;\n",
       "    }\n",
       "</style>\n",
       "<table border=\"1\" class=\"dataframe\">\n",
       "  <thead>\n",
       "    <tr style=\"text-align: right;\">\n",
       "      <th></th>\n",
       "      <th>fruit</th>\n",
       "      <th>weight</th>\n",
       "      <th>price</th>\n",
       "    </tr>\n",
       "  </thead>\n",
       "  <tbody>\n",
       "    <tr>\n",
       "      <th>0</th>\n",
       "      <td>apple</td>\n",
       "      <td>high</td>\n",
       "      <td>10</td>\n",
       "    </tr>\n",
       "    <tr>\n",
       "      <th>1</th>\n",
       "      <td>banana</td>\n",
       "      <td>medium</td>\n",
       "      <td>10</td>\n",
       "    </tr>\n",
       "    <tr>\n",
       "      <th>2</th>\n",
       "      <td>orange</td>\n",
       "      <td>low</td>\n",
       "      <td>11</td>\n",
       "    </tr>\n",
       "    <tr>\n",
       "      <th>3</th>\n",
       "      <td>apple</td>\n",
       "      <td>high</td>\n",
       "      <td>4</td>\n",
       "    </tr>\n",
       "    <tr>\n",
       "      <th>4</th>\n",
       "      <td>banana</td>\n",
       "      <td>medium</td>\n",
       "      <td>10</td>\n",
       "    </tr>\n",
       "  </tbody>\n",
       "</table>\n",
       "</div>"
      ],
      "text/plain": [
       "    fruit  weight  price\n",
       "0   apple    high     10\n",
       "1  banana  medium     10\n",
       "2  orange     low     11\n",
       "3   apple    high      4\n",
       "4  banana  medium     10"
      ]
     },
     "execution_count": 62,
     "metadata": {},
     "output_type": "execute_result"
    }
   ],
   "source": [
    "df1.head()"
   ]
  },
  {
   "cell_type": "code",
   "execution_count": 63,
   "id": "7d4b8483",
   "metadata": {
    "ExecuteTime": {
     "end_time": "2023-01-27T12:15:55.718522Z",
     "start_time": "2023-01-27T12:15:55.715740Z"
    }
   },
   "outputs": [
    {
     "data": {
      "text/html": [
       "<div>\n",
       "<style scoped>\n",
       "    .dataframe tbody tr th:only-of-type {\n",
       "        vertical-align: middle;\n",
       "    }\n",
       "\n",
       "    .dataframe tbody tr th {\n",
       "        vertical-align: top;\n",
       "    }\n",
       "\n",
       "    .dataframe thead th {\n",
       "        text-align: right;\n",
       "    }\n",
       "</style>\n",
       "<table border=\"1\" class=\"dataframe\">\n",
       "  <thead>\n",
       "    <tr style=\"text-align: right;\">\n",
       "      <th></th>\n",
       "      <th>pazham</th>\n",
       "      <th>kilo</th>\n",
       "      <th>price</th>\n",
       "    </tr>\n",
       "  </thead>\n",
       "  <tbody>\n",
       "    <tr>\n",
       "      <th>0</th>\n",
       "      <td>apple</td>\n",
       "      <td>high</td>\n",
       "      <td>3</td>\n",
       "    </tr>\n",
       "    <tr>\n",
       "      <th>1</th>\n",
       "      <td>orange</td>\n",
       "      <td>low</td>\n",
       "      <td>9</td>\n",
       "    </tr>\n",
       "    <tr>\n",
       "      <th>2</th>\n",
       "      <td>pine</td>\n",
       "      <td>high</td>\n",
       "      <td>0</td>\n",
       "    </tr>\n",
       "    <tr>\n",
       "      <th>3</th>\n",
       "      <td>apple</td>\n",
       "      <td>low</td>\n",
       "      <td>0</td>\n",
       "    </tr>\n",
       "    <tr>\n",
       "      <th>4</th>\n",
       "      <td>orange</td>\n",
       "      <td>high</td>\n",
       "      <td>12</td>\n",
       "    </tr>\n",
       "  </tbody>\n",
       "</table>\n",
       "</div>"
      ],
      "text/plain": [
       "   pazham  kilo  price\n",
       "0   apple  high      3\n",
       "1  orange   low      9\n",
       "2    pine  high      0\n",
       "3   apple   low      0\n",
       "4  orange  high     12"
      ]
     },
     "execution_count": 63,
     "metadata": {},
     "output_type": "execute_result"
    }
   ],
   "source": [
    "df2.head()"
   ]
  },
  {
   "cell_type": "code",
   "execution_count": 67,
   "id": "f88bcfbb",
   "metadata": {
    "ExecuteTime": {
     "end_time": "2023-01-27T12:15:55.729080Z",
     "start_time": "2023-01-27T12:15:55.724574Z"
    }
   },
   "outputs": [
    {
     "data": {
      "text/html": [
       "<div>\n",
       "<style scoped>\n",
       "    .dataframe tbody tr th:only-of-type {\n",
       "        vertical-align: middle;\n",
       "    }\n",
       "\n",
       "    .dataframe tbody tr th {\n",
       "        vertical-align: top;\n",
       "    }\n",
       "\n",
       "    .dataframe thead th {\n",
       "        text-align: right;\n",
       "    }\n",
       "</style>\n",
       "<table border=\"1\" class=\"dataframe\">\n",
       "  <thead>\n",
       "    <tr style=\"text-align: right;\">\n",
       "      <th></th>\n",
       "      <th>fruit</th>\n",
       "      <th>weight</th>\n",
       "      <th>price_left</th>\n",
       "      <th>pazham</th>\n",
       "      <th>kilo</th>\n",
       "      <th>price_right</th>\n",
       "    </tr>\n",
       "  </thead>\n",
       "  <tbody>\n",
       "    <tr>\n",
       "      <th>0</th>\n",
       "      <td>apple</td>\n",
       "      <td>high</td>\n",
       "      <td>10</td>\n",
       "      <td>apple</td>\n",
       "      <td>high</td>\n",
       "      <td>3</td>\n",
       "    </tr>\n",
       "    <tr>\n",
       "      <th>1</th>\n",
       "      <td>orange</td>\n",
       "      <td>low</td>\n",
       "      <td>11</td>\n",
       "      <td>orange</td>\n",
       "      <td>low</td>\n",
       "      <td>9</td>\n",
       "    </tr>\n",
       "    <tr>\n",
       "      <th>2</th>\n",
       "      <td>apple</td>\n",
       "      <td>high</td>\n",
       "      <td>4</td>\n",
       "      <td>apple</td>\n",
       "      <td>high</td>\n",
       "      <td>3</td>\n",
       "    </tr>\n",
       "    <tr>\n",
       "      <th>3</th>\n",
       "      <td>orange</td>\n",
       "      <td>low</td>\n",
       "      <td>9</td>\n",
       "      <td>orange</td>\n",
       "      <td>low</td>\n",
       "      <td>9</td>\n",
       "    </tr>\n",
       "    <tr>\n",
       "      <th>4</th>\n",
       "      <td>apple</td>\n",
       "      <td>high</td>\n",
       "      <td>10</td>\n",
       "      <td>apple</td>\n",
       "      <td>high</td>\n",
       "      <td>3</td>\n",
       "    </tr>\n",
       "  </tbody>\n",
       "</table>\n",
       "</div>"
      ],
      "text/plain": [
       "    fruit weight  price_left  pazham  kilo  price_right\n",
       "0   apple   high          10   apple  high            3\n",
       "1  orange    low          11  orange   low            9\n",
       "2   apple   high           4   apple  high            3\n",
       "3  orange    low           9  orange   low            9\n",
       "4   apple   high          10   apple  high            3"
      ]
     },
     "execution_count": 67,
     "metadata": {},
     "output_type": "execute_result"
    }
   ],
   "source": [
    "df_merged = pd.merge(df1, df2, how='inner', left_on=['fruit', 'weight'], right_on = ['pazham', 'kilo'], suffixes=('_left', '_right'))\n",
    "df_merged.head()"
   ]
  },
  {
   "cell_type": "markdown",
   "id": "bbae83cd",
   "metadata": {},
   "source": [
    "Lets explore dropping duplicate rows"
   ]
  },
  {
   "cell_type": "code",
   "execution_count": 68,
   "id": "f751b92b",
   "metadata": {
    "ExecuteTime": {
     "end_time": "2023-01-27T12:15:55.838867Z",
     "start_time": "2023-01-27T12:15:55.834182Z"
    }
   },
   "outputs": [
    {
     "data": {
      "text/html": [
       "<div>\n",
       "<style scoped>\n",
       "    .dataframe tbody tr th:only-of-type {\n",
       "        vertical-align: middle;\n",
       "    }\n",
       "\n",
       "    .dataframe tbody tr th {\n",
       "        vertical-align: top;\n",
       "    }\n",
       "\n",
       "    .dataframe thead th {\n",
       "        text-align: right;\n",
       "    }\n",
       "</style>\n",
       "<table border=\"1\" class=\"dataframe\">\n",
       "  <thead>\n",
       "    <tr style=\"text-align: right;\">\n",
       "      <th></th>\n",
       "      <th>fruit</th>\n",
       "      <th>weight</th>\n",
       "      <th>price_left</th>\n",
       "      <th>pazham</th>\n",
       "      <th>kilo</th>\n",
       "      <th>price_right</th>\n",
       "    </tr>\n",
       "  </thead>\n",
       "  <tbody>\n",
       "    <tr>\n",
       "      <th>0</th>\n",
       "      <td>apple</td>\n",
       "      <td>high</td>\n",
       "      <td>10</td>\n",
       "      <td>apple</td>\n",
       "      <td>high</td>\n",
       "      <td>3</td>\n",
       "    </tr>\n",
       "    <tr>\n",
       "      <th>1</th>\n",
       "      <td>orange</td>\n",
       "      <td>low</td>\n",
       "      <td>11</td>\n",
       "      <td>orange</td>\n",
       "      <td>low</td>\n",
       "      <td>9</td>\n",
       "    </tr>\n",
       "    <tr>\n",
       "      <th>2</th>\n",
       "      <td>apple</td>\n",
       "      <td>high</td>\n",
       "      <td>4</td>\n",
       "      <td>apple</td>\n",
       "      <td>high</td>\n",
       "      <td>3</td>\n",
       "    </tr>\n",
       "    <tr>\n",
       "      <th>3</th>\n",
       "      <td>orange</td>\n",
       "      <td>low</td>\n",
       "      <td>9</td>\n",
       "      <td>orange</td>\n",
       "      <td>low</td>\n",
       "      <td>9</td>\n",
       "    </tr>\n",
       "    <tr>\n",
       "      <th>5</th>\n",
       "      <td>orange</td>\n",
       "      <td>low</td>\n",
       "      <td>14</td>\n",
       "      <td>orange</td>\n",
       "      <td>low</td>\n",
       "      <td>9</td>\n",
       "    </tr>\n",
       "  </tbody>\n",
       "</table>\n",
       "</div>"
      ],
      "text/plain": [
       "    fruit weight  price_left  pazham  kilo  price_right\n",
       "0   apple   high          10   apple  high            3\n",
       "1  orange    low          11  orange   low            9\n",
       "2   apple   high           4   apple  high            3\n",
       "3  orange    low           9  orange   low            9\n",
       "5  orange    low          14  orange   low            9"
      ]
     },
     "execution_count": 68,
     "metadata": {},
     "output_type": "execute_result"
    }
   ],
   "source": [
    "df_merged.drop_duplicates(keep='first')"
   ]
  },
  {
   "cell_type": "markdown",
   "id": "299275d4",
   "metadata": {},
   "source": [
    "###  Reverse all rows (first row should become last etc.)"
   ]
  },
  {
   "cell_type": "code",
   "execution_count": 69,
   "id": "ef97cfaa",
   "metadata": {
    "ExecuteTime": {
     "end_time": "2023-01-27T12:17:21.033257Z",
     "start_time": "2023-01-27T12:17:21.031039Z"
    }
   },
   "outputs": [],
   "source": [
    "df = pd.DataFrame(np.arange(30).reshape(-1, 6), columns=map(lambda x: f'column_{x}', range(6)))"
   ]
  },
  {
   "cell_type": "code",
   "execution_count": 70,
   "id": "2a166683",
   "metadata": {
    "ExecuteTime": {
     "end_time": "2023-01-27T12:17:21.374499Z",
     "start_time": "2023-01-27T12:17:21.370990Z"
    }
   },
   "outputs": [
    {
     "data": {
      "text/html": [
       "<div>\n",
       "<style scoped>\n",
       "    .dataframe tbody tr th:only-of-type {\n",
       "        vertical-align: middle;\n",
       "    }\n",
       "\n",
       "    .dataframe tbody tr th {\n",
       "        vertical-align: top;\n",
       "    }\n",
       "\n",
       "    .dataframe thead th {\n",
       "        text-align: right;\n",
       "    }\n",
       "</style>\n",
       "<table border=\"1\" class=\"dataframe\">\n",
       "  <thead>\n",
       "    <tr style=\"text-align: right;\">\n",
       "      <th></th>\n",
       "      <th>column_0</th>\n",
       "      <th>column_1</th>\n",
       "      <th>column_2</th>\n",
       "      <th>column_3</th>\n",
       "      <th>column_4</th>\n",
       "      <th>column_5</th>\n",
       "    </tr>\n",
       "  </thead>\n",
       "  <tbody>\n",
       "    <tr>\n",
       "      <th>0</th>\n",
       "      <td>0</td>\n",
       "      <td>1</td>\n",
       "      <td>2</td>\n",
       "      <td>3</td>\n",
       "      <td>4</td>\n",
       "      <td>5</td>\n",
       "    </tr>\n",
       "    <tr>\n",
       "      <th>1</th>\n",
       "      <td>6</td>\n",
       "      <td>7</td>\n",
       "      <td>8</td>\n",
       "      <td>9</td>\n",
       "      <td>10</td>\n",
       "      <td>11</td>\n",
       "    </tr>\n",
       "    <tr>\n",
       "      <th>2</th>\n",
       "      <td>12</td>\n",
       "      <td>13</td>\n",
       "      <td>14</td>\n",
       "      <td>15</td>\n",
       "      <td>16</td>\n",
       "      <td>17</td>\n",
       "    </tr>\n",
       "    <tr>\n",
       "      <th>3</th>\n",
       "      <td>18</td>\n",
       "      <td>19</td>\n",
       "      <td>20</td>\n",
       "      <td>21</td>\n",
       "      <td>22</td>\n",
       "      <td>23</td>\n",
       "    </tr>\n",
       "    <tr>\n",
       "      <th>4</th>\n",
       "      <td>24</td>\n",
       "      <td>25</td>\n",
       "      <td>26</td>\n",
       "      <td>27</td>\n",
       "      <td>28</td>\n",
       "      <td>29</td>\n",
       "    </tr>\n",
       "  </tbody>\n",
       "</table>\n",
       "</div>"
      ],
      "text/plain": [
       "   column_0  column_1  column_2  column_3  column_4  column_5\n",
       "0         0         1         2         3         4         5\n",
       "1         6         7         8         9        10        11\n",
       "2        12        13        14        15        16        17\n",
       "3        18        19        20        21        22        23\n",
       "4        24        25        26        27        28        29"
      ]
     },
     "execution_count": 70,
     "metadata": {},
     "output_type": "execute_result"
    }
   ],
   "source": [
    "df"
   ]
  },
  {
   "cell_type": "code",
   "execution_count": 71,
   "id": "7a6103af",
   "metadata": {
    "ExecuteTime": {
     "end_time": "2023-01-27T12:17:44.258659Z",
     "start_time": "2023-01-27T12:17:44.254291Z"
    }
   },
   "outputs": [
    {
     "data": {
      "text/html": [
       "<div>\n",
       "<style scoped>\n",
       "    .dataframe tbody tr th:only-of-type {\n",
       "        vertical-align: middle;\n",
       "    }\n",
       "\n",
       "    .dataframe tbody tr th {\n",
       "        vertical-align: top;\n",
       "    }\n",
       "\n",
       "    .dataframe thead th {\n",
       "        text-align: right;\n",
       "    }\n",
       "</style>\n",
       "<table border=\"1\" class=\"dataframe\">\n",
       "  <thead>\n",
       "    <tr style=\"text-align: right;\">\n",
       "      <th></th>\n",
       "      <th>column_0</th>\n",
       "      <th>column_1</th>\n",
       "      <th>column_2</th>\n",
       "      <th>column_3</th>\n",
       "      <th>column_4</th>\n",
       "      <th>column_5</th>\n",
       "    </tr>\n",
       "  </thead>\n",
       "  <tbody>\n",
       "    <tr>\n",
       "      <th>4</th>\n",
       "      <td>24</td>\n",
       "      <td>25</td>\n",
       "      <td>26</td>\n",
       "      <td>27</td>\n",
       "      <td>28</td>\n",
       "      <td>29</td>\n",
       "    </tr>\n",
       "    <tr>\n",
       "      <th>3</th>\n",
       "      <td>18</td>\n",
       "      <td>19</td>\n",
       "      <td>20</td>\n",
       "      <td>21</td>\n",
       "      <td>22</td>\n",
       "      <td>23</td>\n",
       "    </tr>\n",
       "    <tr>\n",
       "      <th>2</th>\n",
       "      <td>12</td>\n",
       "      <td>13</td>\n",
       "      <td>14</td>\n",
       "      <td>15</td>\n",
       "      <td>16</td>\n",
       "      <td>17</td>\n",
       "    </tr>\n",
       "    <tr>\n",
       "      <th>1</th>\n",
       "      <td>6</td>\n",
       "      <td>7</td>\n",
       "      <td>8</td>\n",
       "      <td>9</td>\n",
       "      <td>10</td>\n",
       "      <td>11</td>\n",
       "    </tr>\n",
       "    <tr>\n",
       "      <th>0</th>\n",
       "      <td>0</td>\n",
       "      <td>1</td>\n",
       "      <td>2</td>\n",
       "      <td>3</td>\n",
       "      <td>4</td>\n",
       "      <td>5</td>\n",
       "    </tr>\n",
       "  </tbody>\n",
       "</table>\n",
       "</div>"
      ],
      "text/plain": [
       "   column_0  column_1  column_2  column_3  column_4  column_5\n",
       "4        24        25        26        27        28        29\n",
       "3        18        19        20        21        22        23\n",
       "2        12        13        14        15        16        17\n",
       "1         6         7         8         9        10        11\n",
       "0         0         1         2         3         4         5"
      ]
     },
     "execution_count": 71,
     "metadata": {},
     "output_type": "execute_result"
    }
   ],
   "source": [
    "df[::-1]"
   ]
  },
  {
   "cell_type": "code",
   "execution_count": 73,
   "id": "0994f59b-2ec6-479a-950b-84ca3af370ad",
   "metadata": {},
   "outputs": [
    {
     "data": {
      "text/html": [
       "<div>\n",
       "<style scoped>\n",
       "    .dataframe tbody tr th:only-of-type {\n",
       "        vertical-align: middle;\n",
       "    }\n",
       "\n",
       "    .dataframe tbody tr th {\n",
       "        vertical-align: top;\n",
       "    }\n",
       "\n",
       "    .dataframe thead th {\n",
       "        text-align: right;\n",
       "    }\n",
       "</style>\n",
       "<table border=\"1\" class=\"dataframe\">\n",
       "  <thead>\n",
       "    <tr style=\"text-align: right;\">\n",
       "      <th></th>\n",
       "      <th>column_0</th>\n",
       "      <th>column_1</th>\n",
       "      <th>column_2</th>\n",
       "      <th>column_3</th>\n",
       "      <th>column_4</th>\n",
       "      <th>column_5</th>\n",
       "    </tr>\n",
       "  </thead>\n",
       "  <tbody>\n",
       "    <tr>\n",
       "      <th>4</th>\n",
       "      <td>24</td>\n",
       "      <td>25</td>\n",
       "      <td>26</td>\n",
       "      <td>27</td>\n",
       "      <td>28</td>\n",
       "      <td>29</td>\n",
       "    </tr>\n",
       "    <tr>\n",
       "      <th>3</th>\n",
       "      <td>18</td>\n",
       "      <td>19</td>\n",
       "      <td>20</td>\n",
       "      <td>21</td>\n",
       "      <td>22</td>\n",
       "      <td>23</td>\n",
       "    </tr>\n",
       "    <tr>\n",
       "      <th>2</th>\n",
       "      <td>12</td>\n",
       "      <td>13</td>\n",
       "      <td>14</td>\n",
       "      <td>15</td>\n",
       "      <td>16</td>\n",
       "      <td>17</td>\n",
       "    </tr>\n",
       "    <tr>\n",
       "      <th>1</th>\n",
       "      <td>6</td>\n",
       "      <td>7</td>\n",
       "      <td>8</td>\n",
       "      <td>9</td>\n",
       "      <td>10</td>\n",
       "      <td>11</td>\n",
       "    </tr>\n",
       "    <tr>\n",
       "      <th>0</th>\n",
       "      <td>0</td>\n",
       "      <td>1</td>\n",
       "      <td>2</td>\n",
       "      <td>3</td>\n",
       "      <td>4</td>\n",
       "      <td>5</td>\n",
       "    </tr>\n",
       "  </tbody>\n",
       "</table>\n",
       "</div>"
      ],
      "text/plain": [
       "   column_0  column_1  column_2  column_3  column_4  column_5\n",
       "4        24        25        26        27        28        29\n",
       "3        18        19        20        21        22        23\n",
       "2        12        13        14        15        16        17\n",
       "1         6         7         8         9        10        11\n",
       "0         0         1         2         3         4         5"
      ]
     },
     "execution_count": 73,
     "metadata": {},
     "output_type": "execute_result"
    }
   ],
   "source": [
    "df.iloc[::-1, :]"
   ]
  },
  {
   "cell_type": "markdown",
   "id": "0855ea57",
   "metadata": {},
   "source": [
    "### Get column name with the highest number of row-wise maximum’s in dataframe"
   ]
  },
  {
   "cell_type": "code",
   "execution_count": 74,
   "id": "a6151e02",
   "metadata": {
    "ExecuteTime": {
     "end_time": "2023-01-27T12:15:56.209860Z",
     "start_time": "2023-01-27T12:15:56.207882Z"
    }
   },
   "outputs": [],
   "source": [
    "df = pd.DataFrame(np.random.randint(0, 100, 50).reshape(-1, 5), columns=map(lambda x: f'column_{x}', range(5)))"
   ]
  },
  {
   "cell_type": "code",
   "execution_count": 75,
   "id": "7eee2224",
   "metadata": {
    "ExecuteTime": {
     "end_time": "2023-01-27T12:15:56.215666Z",
     "start_time": "2023-01-27T12:15:56.212497Z"
    }
   },
   "outputs": [
    {
     "data": {
      "text/html": [
       "<div>\n",
       "<style scoped>\n",
       "    .dataframe tbody tr th:only-of-type {\n",
       "        vertical-align: middle;\n",
       "    }\n",
       "\n",
       "    .dataframe tbody tr th {\n",
       "        vertical-align: top;\n",
       "    }\n",
       "\n",
       "    .dataframe thead th {\n",
       "        text-align: right;\n",
       "    }\n",
       "</style>\n",
       "<table border=\"1\" class=\"dataframe\">\n",
       "  <thead>\n",
       "    <tr style=\"text-align: right;\">\n",
       "      <th></th>\n",
       "      <th>column_0</th>\n",
       "      <th>column_1</th>\n",
       "      <th>column_2</th>\n",
       "      <th>column_3</th>\n",
       "      <th>column_4</th>\n",
       "    </tr>\n",
       "  </thead>\n",
       "  <tbody>\n",
       "    <tr>\n",
       "      <th>0</th>\n",
       "      <td>82</td>\n",
       "      <td>92</td>\n",
       "      <td>50</td>\n",
       "      <td>39</td>\n",
       "      <td>87</td>\n",
       "    </tr>\n",
       "    <tr>\n",
       "      <th>1</th>\n",
       "      <td>14</td>\n",
       "      <td>42</td>\n",
       "      <td>4</td>\n",
       "      <td>21</td>\n",
       "      <td>9</td>\n",
       "    </tr>\n",
       "    <tr>\n",
       "      <th>2</th>\n",
       "      <td>20</td>\n",
       "      <td>79</td>\n",
       "      <td>99</td>\n",
       "      <td>24</td>\n",
       "      <td>51</td>\n",
       "    </tr>\n",
       "    <tr>\n",
       "      <th>3</th>\n",
       "      <td>8</td>\n",
       "      <td>86</td>\n",
       "      <td>86</td>\n",
       "      <td>59</td>\n",
       "      <td>29</td>\n",
       "    </tr>\n",
       "    <tr>\n",
       "      <th>4</th>\n",
       "      <td>96</td>\n",
       "      <td>48</td>\n",
       "      <td>3</td>\n",
       "      <td>4</td>\n",
       "      <td>39</td>\n",
       "    </tr>\n",
       "    <tr>\n",
       "      <th>5</th>\n",
       "      <td>71</td>\n",
       "      <td>43</td>\n",
       "      <td>63</td>\n",
       "      <td>76</td>\n",
       "      <td>47</td>\n",
       "    </tr>\n",
       "    <tr>\n",
       "      <th>6</th>\n",
       "      <td>14</td>\n",
       "      <td>59</td>\n",
       "      <td>23</td>\n",
       "      <td>41</td>\n",
       "      <td>8</td>\n",
       "    </tr>\n",
       "    <tr>\n",
       "      <th>7</th>\n",
       "      <td>28</td>\n",
       "      <td>59</td>\n",
       "      <td>0</td>\n",
       "      <td>4</td>\n",
       "      <td>82</td>\n",
       "    </tr>\n",
       "    <tr>\n",
       "      <th>8</th>\n",
       "      <td>85</td>\n",
       "      <td>91</td>\n",
       "      <td>32</td>\n",
       "      <td>20</td>\n",
       "      <td>17</td>\n",
       "    </tr>\n",
       "    <tr>\n",
       "      <th>9</th>\n",
       "      <td>58</td>\n",
       "      <td>62</td>\n",
       "      <td>71</td>\n",
       "      <td>42</td>\n",
       "      <td>62</td>\n",
       "    </tr>\n",
       "  </tbody>\n",
       "</table>\n",
       "</div>"
      ],
      "text/plain": [
       "   column_0  column_1  column_2  column_3  column_4\n",
       "0        82        92        50        39        87\n",
       "1        14        42         4        21         9\n",
       "2        20        79        99        24        51\n",
       "3         8        86        86        59        29\n",
       "4        96        48         3         4        39\n",
       "5        71        43        63        76        47\n",
       "6        14        59        23        41         8\n",
       "7        28        59         0         4        82\n",
       "8        85        91        32        20        17\n",
       "9        58        62        71        42        62"
      ]
     },
     "execution_count": 75,
     "metadata": {},
     "output_type": "execute_result"
    }
   ],
   "source": [
    "df"
   ]
  },
  {
   "cell_type": "markdown",
   "id": "f27707ab-1884-46a4-8bc0-d2e6e53b88f8",
   "metadata": {},
   "source": [
    "вариант 1:"
   ]
  },
  {
   "cell_type": "code",
   "execution_count": 79,
   "id": "5296a7e5-8125-4912-975b-c0f4986557ae",
   "metadata": {},
   "outputs": [
    {
     "data": {
      "text/plain": [
       "'column_1'"
      ]
     },
     "execution_count": 79,
     "metadata": {},
     "output_type": "execute_result"
    }
   ],
   "source": [
    "df.columns[(df.values == df.values.max(axis=1)[:, None]).sum(axis=0).argmax()]"
   ]
  },
  {
   "cell_type": "markdown",
   "id": "3c579de2-5da6-4343-b9d8-c84a43b5dece",
   "metadata": {},
   "source": [
    "вариант 2:"
   ]
  },
  {
   "cell_type": "code",
   "execution_count": 80,
   "id": "c0d6485b",
   "metadata": {
    "ExecuteTime": {
     "end_time": "2023-01-27T12:15:56.218962Z",
     "start_time": "2023-01-27T12:15:56.216450Z"
    }
   },
   "outputs": [
    {
     "data": {
      "text/plain": [
       "'column_1'"
      ]
     },
     "execution_count": 80,
     "metadata": {},
     "output_type": "execute_result"
    }
   ],
   "source": [
    "df.idxmax(axis=1).value_counts().index[0]"
   ]
  },
  {
   "cell_type": "markdown",
   "id": "b4d8135a",
   "metadata": {},
   "source": [
    "### Find the positions of numbers that are multiples of N"
   ]
  },
  {
   "cell_type": "code",
   "execution_count": 81,
   "id": "6e40c318",
   "metadata": {
    "ExecuteTime": {
     "end_time": "2023-01-27T12:15:56.580271Z",
     "start_time": "2023-01-27T12:15:56.579001Z"
    }
   },
   "outputs": [],
   "source": [
    "N = 5"
   ]
  },
  {
   "cell_type": "code",
   "execution_count": 82,
   "id": "0aa2574f",
   "metadata": {
    "ExecuteTime": {
     "end_time": "2023-01-27T12:15:56.593384Z",
     "start_time": "2023-01-27T12:15:56.590024Z"
    }
   },
   "outputs": [
    {
     "data": {
      "text/html": [
       "<div>\n",
       "<style scoped>\n",
       "    .dataframe tbody tr th:only-of-type {\n",
       "        vertical-align: middle;\n",
       "    }\n",
       "\n",
       "    .dataframe tbody tr th {\n",
       "        vertical-align: top;\n",
       "    }\n",
       "\n",
       "    .dataframe thead th {\n",
       "        text-align: right;\n",
       "    }\n",
       "</style>\n",
       "<table border=\"1\" class=\"dataframe\">\n",
       "  <thead>\n",
       "    <tr style=\"text-align: right;\">\n",
       "      <th></th>\n",
       "      <th>column_0</th>\n",
       "      <th>column_1</th>\n",
       "      <th>column_2</th>\n",
       "      <th>column_3</th>\n",
       "      <th>column_4</th>\n",
       "    </tr>\n",
       "  </thead>\n",
       "  <tbody>\n",
       "    <tr>\n",
       "      <th>0</th>\n",
       "      <td>82</td>\n",
       "      <td>92</td>\n",
       "      <td>50</td>\n",
       "      <td>39</td>\n",
       "      <td>87</td>\n",
       "    </tr>\n",
       "    <tr>\n",
       "      <th>1</th>\n",
       "      <td>14</td>\n",
       "      <td>42</td>\n",
       "      <td>4</td>\n",
       "      <td>21</td>\n",
       "      <td>9</td>\n",
       "    </tr>\n",
       "    <tr>\n",
       "      <th>2</th>\n",
       "      <td>20</td>\n",
       "      <td>79</td>\n",
       "      <td>99</td>\n",
       "      <td>24</td>\n",
       "      <td>51</td>\n",
       "    </tr>\n",
       "    <tr>\n",
       "      <th>3</th>\n",
       "      <td>8</td>\n",
       "      <td>86</td>\n",
       "      <td>86</td>\n",
       "      <td>59</td>\n",
       "      <td>29</td>\n",
       "    </tr>\n",
       "    <tr>\n",
       "      <th>4</th>\n",
       "      <td>96</td>\n",
       "      <td>48</td>\n",
       "      <td>3</td>\n",
       "      <td>4</td>\n",
       "      <td>39</td>\n",
       "    </tr>\n",
       "    <tr>\n",
       "      <th>5</th>\n",
       "      <td>71</td>\n",
       "      <td>43</td>\n",
       "      <td>63</td>\n",
       "      <td>76</td>\n",
       "      <td>47</td>\n",
       "    </tr>\n",
       "    <tr>\n",
       "      <th>6</th>\n",
       "      <td>14</td>\n",
       "      <td>59</td>\n",
       "      <td>23</td>\n",
       "      <td>41</td>\n",
       "      <td>8</td>\n",
       "    </tr>\n",
       "    <tr>\n",
       "      <th>7</th>\n",
       "      <td>28</td>\n",
       "      <td>59</td>\n",
       "      <td>0</td>\n",
       "      <td>4</td>\n",
       "      <td>82</td>\n",
       "    </tr>\n",
       "    <tr>\n",
       "      <th>8</th>\n",
       "      <td>85</td>\n",
       "      <td>91</td>\n",
       "      <td>32</td>\n",
       "      <td>20</td>\n",
       "      <td>17</td>\n",
       "    </tr>\n",
       "    <tr>\n",
       "      <th>9</th>\n",
       "      <td>58</td>\n",
       "      <td>62</td>\n",
       "      <td>71</td>\n",
       "      <td>42</td>\n",
       "      <td>62</td>\n",
       "    </tr>\n",
       "  </tbody>\n",
       "</table>\n",
       "</div>"
      ],
      "text/plain": [
       "   column_0  column_1  column_2  column_3  column_4\n",
       "0        82        92        50        39        87\n",
       "1        14        42         4        21         9\n",
       "2        20        79        99        24        51\n",
       "3         8        86        86        59        29\n",
       "4        96        48         3         4        39\n",
       "5        71        43        63        76        47\n",
       "6        14        59        23        41         8\n",
       "7        28        59         0         4        82\n",
       "8        85        91        32        20        17\n",
       "9        58        62        71        42        62"
      ]
     },
     "execution_count": 82,
     "metadata": {},
     "output_type": "execute_result"
    }
   ],
   "source": [
    "df"
   ]
  },
  {
   "cell_type": "markdown",
   "id": "f77af719",
   "metadata": {},
   "source": [
    "For each column Series separately "
   ]
  },
  {
   "cell_type": "code",
   "execution_count": 83,
   "id": "432266b1",
   "metadata": {
    "ExecuteTime": {
     "end_time": "2023-01-27T12:15:56.710680Z",
     "start_time": "2023-01-27T12:15:56.706278Z"
    }
   },
   "outputs": [
    {
     "name": "stdout",
     "output_type": "stream",
     "text": [
      "column_0: [2, 8]\n",
      "column_1: []\n",
      "column_2: [0, 7]\n",
      "column_3: [8]\n",
      "column_4: []\n"
     ]
    }
   ],
   "source": [
    "pos_map = df.apply(lambda x: x % N == 0)\n",
    "for col in pos_map.columns:\n",
    "    ser = pos_map.loc[:, col]\n",
    "    print(f'{col}: {ser[ser].index.tolist()}')"
   ]
  },
  {
   "cell_type": "markdown",
   "id": "2335a507",
   "metadata": {},
   "source": [
    "```\n",
    "column_0: [0, 2, 6, 7]\n",
    "column_1: [0, 5]\n",
    "column_2: [6, 9]\n",
    "column_3: [7, 8]\n",
    "column_4: [5, 8]\n",
    "```"
   ]
  },
  {
   "cell_type": "markdown",
   "id": "59ecc82f",
   "metadata": {},
   "source": [
    "Now try to treat rows and columns as coordinates. Return list (or array) of pairs for such elements. (one-liner)"
   ]
  },
  {
   "cell_type": "code",
   "execution_count": 84,
   "id": "c1b4e7d5",
   "metadata": {
    "ExecuteTime": {
     "end_time": "2023-01-27T12:15:56.947433Z",
     "start_time": "2023-01-27T12:15:56.944491Z"
    }
   },
   "outputs": [
    {
     "data": {
      "text/plain": [
       "[[0, 2], [2, 0], [7, 2], [8, 0], [8, 3]]"
      ]
     },
     "execution_count": 84,
     "metadata": {},
     "output_type": "execute_result"
    }
   ],
   "source": [
    "np.argwhere(df.values % N == 0).tolist()"
   ]
  },
  {
   "cell_type": "markdown",
   "id": "fef8957e",
   "metadata": {},
   "source": [
    "```[[0, 0],\n",
    " [0, 1],\n",
    " [2, 0],\n",
    " [5, 1],\n",
    " [5, 4],\n",
    " [6, 0],\n",
    " [6, 2],\n",
    " [7, 0],\n",
    " [7, 3],\n",
    " [8, 3],\n",
    " [8, 4],\n",
    " [9, 2]]\n",
    " ```"
   ]
  },
  {
   "cell_type": "markdown",
   "id": "36a3974a",
   "metadata": {},
   "source": [
    "### Normalize all columns of df by subtracting the column mean and divide by standard deviation."
   ]
  },
  {
   "cell_type": "code",
   "execution_count": 87,
   "id": "7372c7d4",
   "metadata": {
    "ExecuteTime": {
     "end_time": "2023-01-27T12:15:57.166038Z",
     "start_time": "2023-01-27T12:15:57.162400Z"
    }
   },
   "outputs": [
    {
     "data": {
      "text/html": [
       "<div>\n",
       "<style scoped>\n",
       "    .dataframe tbody tr th:only-of-type {\n",
       "        vertical-align: middle;\n",
       "    }\n",
       "\n",
       "    .dataframe tbody tr th {\n",
       "        vertical-align: top;\n",
       "    }\n",
       "\n",
       "    .dataframe thead th {\n",
       "        text-align: right;\n",
       "    }\n",
       "</style>\n",
       "<table border=\"1\" class=\"dataframe\">\n",
       "  <thead>\n",
       "    <tr style=\"text-align: right;\">\n",
       "      <th></th>\n",
       "      <th>column_0</th>\n",
       "      <th>column_1</th>\n",
       "      <th>column_2</th>\n",
       "      <th>column_3</th>\n",
       "      <th>column_4</th>\n",
       "    </tr>\n",
       "  </thead>\n",
       "  <tbody>\n",
       "    <tr>\n",
       "      <th>0</th>\n",
       "      <td>82</td>\n",
       "      <td>92</td>\n",
       "      <td>50</td>\n",
       "      <td>39</td>\n",
       "      <td>87</td>\n",
       "    </tr>\n",
       "    <tr>\n",
       "      <th>1</th>\n",
       "      <td>14</td>\n",
       "      <td>42</td>\n",
       "      <td>4</td>\n",
       "      <td>21</td>\n",
       "      <td>9</td>\n",
       "    </tr>\n",
       "    <tr>\n",
       "      <th>2</th>\n",
       "      <td>20</td>\n",
       "      <td>79</td>\n",
       "      <td>99</td>\n",
       "      <td>24</td>\n",
       "      <td>51</td>\n",
       "    </tr>\n",
       "    <tr>\n",
       "      <th>3</th>\n",
       "      <td>8</td>\n",
       "      <td>86</td>\n",
       "      <td>86</td>\n",
       "      <td>59</td>\n",
       "      <td>29</td>\n",
       "    </tr>\n",
       "    <tr>\n",
       "      <th>4</th>\n",
       "      <td>96</td>\n",
       "      <td>48</td>\n",
       "      <td>3</td>\n",
       "      <td>4</td>\n",
       "      <td>39</td>\n",
       "    </tr>\n",
       "  </tbody>\n",
       "</table>\n",
       "</div>"
      ],
      "text/plain": [
       "   column_0  column_1  column_2  column_3  column_4\n",
       "0        82        92        50        39        87\n",
       "1        14        42         4        21         9\n",
       "2        20        79        99        24        51\n",
       "3         8        86        86        59        29\n",
       "4        96        48         3         4        39"
      ]
     },
     "execution_count": 87,
     "metadata": {},
     "output_type": "execute_result"
    }
   ],
   "source": [
    "df.head()"
   ]
  },
  {
   "cell_type": "code",
   "execution_count": 104,
   "id": "68fd7744",
   "metadata": {
    "ExecuteTime": {
     "end_time": "2023-01-27T12:15:57.168053Z",
     "start_time": "2023-01-27T12:15:57.166722Z"
    }
   },
   "outputs": [
    {
     "data": {
      "text/plain": [
       "array([[ 1.05896796,  1.40196762,  0.20164666,  0.27437622,  1.63983008],\n",
       "       [-1.0343408 , -1.30453357, -1.14266443, -0.54875243, -1.27376323],\n",
       "       [-0.84963708,  0.69827731,  1.63363022, -0.41156433,  0.29509471],\n",
       "       [-1.21904451,  1.07718747,  1.25371622,  1.18896361, -0.52668802],\n",
       "       [ 1.48994329, -0.97975343, -1.17188859, -1.32615172, -0.15315042],\n",
       "       [ 0.72034448, -1.25040355,  0.58156067,  1.96636289,  0.14567967],\n",
       "       [-1.0343408 , -0.38432317, -0.5874055 ,  0.36583496, -1.31111699],\n",
       "       [-0.60336547, -0.38432317, -1.25956105, -1.32615172,  1.45306128],\n",
       "       [ 1.15131982,  1.34783759, -0.32438811, -0.5944818 , -0.97493314],\n",
       "       [ 0.3201531 , -0.2219331 ,  0.8153539 ,  0.41156433,  0.70598607]])"
      ]
     },
     "execution_count": 104,
     "metadata": {},
     "output_type": "execute_result"
    }
   ],
   "source": [
    "(df.values - df.values.mean(axis=0)) / df.values.std(axis=0)"
   ]
  },
  {
   "cell_type": "markdown",
   "id": "60bca1c7",
   "metadata": {},
   "source": [
    "### Range all columns of df such that the minimum value in each column is 0 and max is 1"
   ]
  },
  {
   "cell_type": "code",
   "execution_count": 88,
   "id": "3efe24d1",
   "metadata": {
    "ExecuteTime": {
     "end_time": "2023-01-27T12:15:57.275724Z",
     "start_time": "2023-01-27T12:15:57.272382Z"
    }
   },
   "outputs": [
    {
     "data": {
      "text/html": [
       "<div>\n",
       "<style scoped>\n",
       "    .dataframe tbody tr th:only-of-type {\n",
       "        vertical-align: middle;\n",
       "    }\n",
       "\n",
       "    .dataframe tbody tr th {\n",
       "        vertical-align: top;\n",
       "    }\n",
       "\n",
       "    .dataframe thead th {\n",
       "        text-align: right;\n",
       "    }\n",
       "</style>\n",
       "<table border=\"1\" class=\"dataframe\">\n",
       "  <thead>\n",
       "    <tr style=\"text-align: right;\">\n",
       "      <th></th>\n",
       "      <th>column_0</th>\n",
       "      <th>column_1</th>\n",
       "      <th>column_2</th>\n",
       "      <th>column_3</th>\n",
       "      <th>column_4</th>\n",
       "    </tr>\n",
       "  </thead>\n",
       "  <tbody>\n",
       "    <tr>\n",
       "      <th>0</th>\n",
       "      <td>82</td>\n",
       "      <td>92</td>\n",
       "      <td>50</td>\n",
       "      <td>39</td>\n",
       "      <td>87</td>\n",
       "    </tr>\n",
       "    <tr>\n",
       "      <th>1</th>\n",
       "      <td>14</td>\n",
       "      <td>42</td>\n",
       "      <td>4</td>\n",
       "      <td>21</td>\n",
       "      <td>9</td>\n",
       "    </tr>\n",
       "    <tr>\n",
       "      <th>2</th>\n",
       "      <td>20</td>\n",
       "      <td>79</td>\n",
       "      <td>99</td>\n",
       "      <td>24</td>\n",
       "      <td>51</td>\n",
       "    </tr>\n",
       "    <tr>\n",
       "      <th>3</th>\n",
       "      <td>8</td>\n",
       "      <td>86</td>\n",
       "      <td>86</td>\n",
       "      <td>59</td>\n",
       "      <td>29</td>\n",
       "    </tr>\n",
       "    <tr>\n",
       "      <th>4</th>\n",
       "      <td>96</td>\n",
       "      <td>48</td>\n",
       "      <td>3</td>\n",
       "      <td>4</td>\n",
       "      <td>39</td>\n",
       "    </tr>\n",
       "  </tbody>\n",
       "</table>\n",
       "</div>"
      ],
      "text/plain": [
       "   column_0  column_1  column_2  column_3  column_4\n",
       "0        82        92        50        39        87\n",
       "1        14        42         4        21         9\n",
       "2        20        79        99        24        51\n",
       "3         8        86        86        59        29\n",
       "4        96        48         3         4        39"
      ]
     },
     "execution_count": 88,
     "metadata": {},
     "output_type": "execute_result"
    }
   ],
   "source": [
    "df.head()"
   ]
  },
  {
   "cell_type": "code",
   "execution_count": 105,
   "id": "5d0cd8cd",
   "metadata": {
    "ExecuteTime": {
     "end_time": "2023-01-27T12:15:57.277690Z",
     "start_time": "2023-01-27T12:15:57.276571Z"
    }
   },
   "outputs": [
    {
     "data": {
      "text/plain": [
       "array([[0.84090909, 1.        , 0.50505051, 0.48611111, 1.        ],\n",
       "       [0.06818182, 0.        , 0.04040404, 0.23611111, 0.01265823],\n",
       "       [0.13636364, 0.74      , 1.        , 0.27777778, 0.5443038 ],\n",
       "       [0.        , 0.88      , 0.86868687, 0.76388889, 0.26582278],\n",
       "       [1.        , 0.12      , 0.03030303, 0.        , 0.39240506],\n",
       "       [0.71590909, 0.02      , 0.63636364, 1.        , 0.49367089],\n",
       "       [0.06818182, 0.34      , 0.23232323, 0.51388889, 0.        ],\n",
       "       [0.22727273, 0.34      , 0.        , 0.        , 0.93670886],\n",
       "       [0.875     , 0.98      , 0.32323232, 0.22222222, 0.11392405],\n",
       "       [0.56818182, 0.4       , 0.71717172, 0.52777778, 0.6835443 ]])"
      ]
     },
     "execution_count": 105,
     "metadata": {},
     "output_type": "execute_result"
    }
   ],
   "source": [
    "(df.values - df.values.min(axis=0)) / (df.values.max(axis=0) - df.values.min(axis=0))"
   ]
  },
  {
   "cell_type": "markdown",
   "id": "276248c3",
   "metadata": {},
   "source": [
    "### Create a column that contains the second-largest value in each row?"
   ]
  },
  {
   "cell_type": "code",
   "execution_count": 89,
   "id": "c85edc48",
   "metadata": {
    "ExecuteTime": {
     "end_time": "2023-01-27T12:15:57.391165Z",
     "start_time": "2023-01-27T12:15:57.387977Z"
    }
   },
   "outputs": [
    {
     "data": {
      "text/html": [
       "<div>\n",
       "<style scoped>\n",
       "    .dataframe tbody tr th:only-of-type {\n",
       "        vertical-align: middle;\n",
       "    }\n",
       "\n",
       "    .dataframe tbody tr th {\n",
       "        vertical-align: top;\n",
       "    }\n",
       "\n",
       "    .dataframe thead th {\n",
       "        text-align: right;\n",
       "    }\n",
       "</style>\n",
       "<table border=\"1\" class=\"dataframe\">\n",
       "  <thead>\n",
       "    <tr style=\"text-align: right;\">\n",
       "      <th></th>\n",
       "      <th>column_0</th>\n",
       "      <th>column_1</th>\n",
       "      <th>column_2</th>\n",
       "      <th>column_3</th>\n",
       "      <th>column_4</th>\n",
       "    </tr>\n",
       "  </thead>\n",
       "  <tbody>\n",
       "    <tr>\n",
       "      <th>0</th>\n",
       "      <td>82</td>\n",
       "      <td>92</td>\n",
       "      <td>50</td>\n",
       "      <td>39</td>\n",
       "      <td>87</td>\n",
       "    </tr>\n",
       "    <tr>\n",
       "      <th>1</th>\n",
       "      <td>14</td>\n",
       "      <td>42</td>\n",
       "      <td>4</td>\n",
       "      <td>21</td>\n",
       "      <td>9</td>\n",
       "    </tr>\n",
       "    <tr>\n",
       "      <th>2</th>\n",
       "      <td>20</td>\n",
       "      <td>79</td>\n",
       "      <td>99</td>\n",
       "      <td>24</td>\n",
       "      <td>51</td>\n",
       "    </tr>\n",
       "    <tr>\n",
       "      <th>3</th>\n",
       "      <td>8</td>\n",
       "      <td>86</td>\n",
       "      <td>86</td>\n",
       "      <td>59</td>\n",
       "      <td>29</td>\n",
       "    </tr>\n",
       "    <tr>\n",
       "      <th>4</th>\n",
       "      <td>96</td>\n",
       "      <td>48</td>\n",
       "      <td>3</td>\n",
       "      <td>4</td>\n",
       "      <td>39</td>\n",
       "    </tr>\n",
       "  </tbody>\n",
       "</table>\n",
       "</div>"
      ],
      "text/plain": [
       "   column_0  column_1  column_2  column_3  column_4\n",
       "0        82        92        50        39        87\n",
       "1        14        42         4        21         9\n",
       "2        20        79        99        24        51\n",
       "3         8        86        86        59        29\n",
       "4        96        48         3         4        39"
      ]
     },
     "execution_count": 89,
     "metadata": {},
     "output_type": "execute_result"
    }
   ],
   "source": [
    "df.head()"
   ]
  },
  {
   "cell_type": "code",
   "execution_count": 106,
   "id": "0b8b0c5c",
   "metadata": {
    "ExecuteTime": {
     "end_time": "2023-01-27T12:15:57.393703Z",
     "start_time": "2023-01-27T12:15:57.391898Z"
    }
   },
   "outputs": [
    {
     "data": {
      "text/plain": [
       "0    87\n",
       "1    21\n",
       "2    79\n",
       "3    86\n",
       "4    48\n",
       "5    71\n",
       "6    41\n",
       "7    59\n",
       "8    85\n",
       "9    62\n",
       "dtype: int64"
      ]
     },
     "execution_count": 106,
     "metadata": {},
     "output_type": "execute_result"
    }
   ],
   "source": [
    "df.apply(lambda row: sorted(row.values, reverse=True)[1], axis=1)"
   ]
  },
  {
   "cell_type": "markdown",
   "id": "542ab6c1",
   "metadata": {},
   "source": [
    "### Split a text column into two separate columns?"
   ]
  },
  {
   "cell_type": "code",
   "execution_count": 107,
   "id": "c817bf2f",
   "metadata": {
    "ExecuteTime": {
     "end_time": "2023-01-27T12:15:57.510572Z",
     "start_time": "2023-01-27T12:15:57.509006Z"
    }
   },
   "outputs": [
    {
     "data": {
      "text/html": [
       "<div>\n",
       "<style scoped>\n",
       "    .dataframe tbody tr th:only-of-type {\n",
       "        vertical-align: middle;\n",
       "    }\n",
       "\n",
       "    .dataframe tbody tr th {\n",
       "        vertical-align: top;\n",
       "    }\n",
       "\n",
       "    .dataframe thead th {\n",
       "        text-align: right;\n",
       "    }\n",
       "</style>\n",
       "<table border=\"1\" class=\"dataframe\">\n",
       "  <thead>\n",
       "    <tr style=\"text-align: right;\">\n",
       "      <th></th>\n",
       "      <th>row</th>\n",
       "    </tr>\n",
       "  </thead>\n",
       "  <tbody>\n",
       "    <tr>\n",
       "      <th>0</th>\n",
       "      <td>id\\t Name, Surname</td>\n",
       "    </tr>\n",
       "    <tr>\n",
       "      <th>1</th>\n",
       "      <td>2\\t Nadal, Raphael</td>\n",
       "    </tr>\n",
       "    <tr>\n",
       "      <th>2</th>\n",
       "      <td>5\\t Djokovic,  Novak</td>\n",
       "    </tr>\n",
       "    <tr>\n",
       "      <th>3</th>\n",
       "      <td>1\\t Federer, Roger</td>\n",
       "    </tr>\n",
       "  </tbody>\n",
       "</table>\n",
       "</div>"
      ],
      "text/plain": [
       "                    row\n",
       "0    id\\t Name, Surname\n",
       "1    2\\t Nadal, Raphael\n",
       "2  5\\t Djokovic,  Novak\n",
       "3    1\\t Federer, Roger"
      ]
     },
     "execution_count": 107,
     "metadata": {},
     "output_type": "execute_result"
    }
   ],
   "source": [
    "df_text = pd.DataFrame(\n",
    "    {\n",
    "        'row':\n",
    "        [\n",
    "            'id\\t Name, Surname',\n",
    "            '2\\t Nadal, Raphael',\n",
    "            '5\\t Djokovic,  Novak',\n",
    "            '1\\t Federer, Roger'\n",
    "        ]\n",
    "    }\n",
    ")\n",
    "df_text"
   ]
  },
  {
   "cell_type": "code",
   "execution_count": 110,
   "id": "de163fa0",
   "metadata": {
    "ExecuteTime": {
     "end_time": "2023-01-27T12:15:57.515193Z",
     "start_time": "2023-01-27T12:15:57.512733Z"
    }
   },
   "outputs": [
    {
     "data": {
      "text/html": [
       "<div>\n",
       "<style scoped>\n",
       "    .dataframe tbody tr th:only-of-type {\n",
       "        vertical-align: middle;\n",
       "    }\n",
       "\n",
       "    .dataframe tbody tr th {\n",
       "        vertical-align: top;\n",
       "    }\n",
       "\n",
       "    .dataframe thead th {\n",
       "        text-align: right;\n",
       "    }\n",
       "</style>\n",
       "<table border=\"1\" class=\"dataframe\">\n",
       "  <thead>\n",
       "    <tr style=\"text-align: right;\">\n",
       "      <th></th>\n",
       "      <th>0</th>\n",
       "      <th>1</th>\n",
       "    </tr>\n",
       "  </thead>\n",
       "  <tbody>\n",
       "    <tr>\n",
       "      <th>0</th>\n",
       "      <td>id</td>\n",
       "      <td>Name, Surname</td>\n",
       "    </tr>\n",
       "    <tr>\n",
       "      <th>1</th>\n",
       "      <td>2</td>\n",
       "      <td>Nadal, Raphael</td>\n",
       "    </tr>\n",
       "    <tr>\n",
       "      <th>2</th>\n",
       "      <td>5</td>\n",
       "      <td>Djokovic,  Novak</td>\n",
       "    </tr>\n",
       "    <tr>\n",
       "      <th>3</th>\n",
       "      <td>1</td>\n",
       "      <td>Federer, Roger</td>\n",
       "    </tr>\n",
       "  </tbody>\n",
       "</table>\n",
       "</div>"
      ],
      "text/plain": [
       "    0                  1\n",
       "0  id      Name, Surname\n",
       "1   2     Nadal, Raphael\n",
       "2   5   Djokovic,  Novak\n",
       "3   1     Federer, Roger"
      ]
     },
     "execution_count": 110,
     "metadata": {},
     "output_type": "execute_result"
    }
   ],
   "source": [
    "df_text['row'].str.split('\\t', expand=True)"
   ]
  },
  {
   "cell_type": "markdown",
   "id": "719b2aa2",
   "metadata": {},
   "source": [
    "---"
   ]
  },
  {
   "cell_type": "markdown",
   "id": "8eda6d28",
   "metadata": {},
   "source": [
    "Больше [упражнений на Pandas с решениями](https://www.machinelearningplus.com/python/101-pandas-exercises-python/)"
   ]
  }
 ],
 "metadata": {
  "kernelspec": {
   "display_name": "Python 3 (ipykernel)",
   "language": "python",
   "name": "python3"
  },
  "language_info": {
   "codemirror_mode": {
    "name": "ipython",
    "version": 3
   },
   "file_extension": ".py",
   "mimetype": "text/x-python",
   "name": "python",
   "nbconvert_exporter": "python",
   "pygments_lexer": "ipython3",
   "version": "3.11.6"
  },
  "toc": {
   "base_numbering": 1,
   "nav_menu": {},
   "number_sections": true,
   "sideBar": true,
   "skip_h1_title": false,
   "title_cell": "Table of Contents",
   "title_sidebar": "Contents",
   "toc_cell": false,
   "toc_position": {},
   "toc_section_display": true,
   "toc_window_display": true
  },
  "varInspector": {
   "cols": {
    "lenName": 16,
    "lenType": 16,
    "lenVar": 40
   },
   "kernels_config": {
    "python": {
     "delete_cmd_postfix": "",
     "delete_cmd_prefix": "del ",
     "library": "var_list.py",
     "varRefreshCmd": "print(var_dic_list())"
    },
    "r": {
     "delete_cmd_postfix": ") ",
     "delete_cmd_prefix": "rm(",
     "library": "var_list.r",
     "varRefreshCmd": "cat(var_dic_list()) "
    }
   },
   "types_to_exclude": [
    "module",
    "function",
    "builtin_function_or_method",
    "instance",
    "_Feature"
   ],
   "window_display": false
  }
 },
 "nbformat": 4,
 "nbformat_minor": 5
}
