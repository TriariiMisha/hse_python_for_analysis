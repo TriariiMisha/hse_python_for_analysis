{
 "cells": [
  {
   "cell_type": "markdown",
   "id": "924d8920-1f52-497e-900a-b3443bc6fcab",
   "metadata": {},
   "source": [
    "## Тестирование статистических гипотез с помощью вычислительного эксперимента\n",
    "### Анализ данных? Каких?\n",
    "Данные в виде таблицы. Колонки - переменные. Строки - наблюдения.\n",
    "\n",
    "**Data source:** https://www.kaggle.com/datasets/spscientist/students-performance-in-exams.\n",
    "\n",
    "**Columns:**\n",
    "- `gender` (binary variable);\n",
    "- `race/ethnicity` (categorical variable);\n",
    "- `parental level of education` (categorical variable, student's parents' level of education);\n",
    "- `lunch` (categorical variable, quality of student's lunch);\n",
    "- `test preparation course` (categorical variable, whether student managed to complete preparation course for the test);\n",
    "- `math score` (numeric variable, score for Math test);\n",
    "- `reading score` (numeric variable, score for Reading part);\n",
    "- `writing score` (numeric variable, score for Writing part).\n"
   ]
  },
  {
   "cell_type": "code",
   "execution_count": 1,
   "id": "d837b785-11f0-4265-9b7a-b875386f7f58",
   "metadata": {},
   "outputs": [
    {
     "name": "stdout",
     "output_type": "stream",
     "text": [
      "<class 'pandas.core.frame.DataFrame'>\n",
      "RangeIndex: 1000 entries, 0 to 999\n",
      "Data columns (total 8 columns):\n",
      " #   Column                       Non-Null Count  Dtype \n",
      "---  ------                       --------------  ----- \n",
      " 0   gender                       1000 non-null   object\n",
      " 1   race/ethnicity               1000 non-null   object\n",
      " 2   parental level of education  1000 non-null   object\n",
      " 3   lunch                        1000 non-null   object\n",
      " 4   test preparation course      1000 non-null   object\n",
      " 5   math score                   1000 non-null   int64 \n",
      " 6   reading score                1000 non-null   int64 \n",
      " 7   writing score                1000 non-null   int64 \n",
      "dtypes: int64(3), object(5)\n",
      "memory usage: 62.6+ KB\n"
     ]
    }
   ],
   "source": [
    "import pandas as pd\n",
    "import numpy as np\n",
    "from scipy import stats\n",
    "\n",
    "data = pd.read_csv('data/StudentsPerformance.csv')\n",
    "data.info()"
   ]
  },
  {
   "cell_type": "code",
   "execution_count": 2,
   "id": "44bd681b-4ff2-4934-92d0-d34e14a074ec",
   "metadata": {},
   "outputs": [
    {
     "data": {
      "text/html": [
       "<div>\n",
       "<style scoped>\n",
       "    .dataframe tbody tr th:only-of-type {\n",
       "        vertical-align: middle;\n",
       "    }\n",
       "\n",
       "    .dataframe tbody tr th {\n",
       "        vertical-align: top;\n",
       "    }\n",
       "\n",
       "    .dataframe thead th {\n",
       "        text-align: right;\n",
       "    }\n",
       "</style>\n",
       "<table border=\"1\" class=\"dataframe\">\n",
       "  <thead>\n",
       "    <tr style=\"text-align: right;\">\n",
       "      <th></th>\n",
       "      <th>gender</th>\n",
       "      <th>race/ethnicity</th>\n",
       "      <th>parental level of education</th>\n",
       "      <th>lunch</th>\n",
       "      <th>test preparation course</th>\n",
       "      <th>math score</th>\n",
       "      <th>reading score</th>\n",
       "      <th>writing score</th>\n",
       "    </tr>\n",
       "  </thead>\n",
       "  <tbody>\n",
       "    <tr>\n",
       "      <th>0</th>\n",
       "      <td>female</td>\n",
       "      <td>group B</td>\n",
       "      <td>bachelor's degree</td>\n",
       "      <td>standard</td>\n",
       "      <td>none</td>\n",
       "      <td>72</td>\n",
       "      <td>72</td>\n",
       "      <td>74</td>\n",
       "    </tr>\n",
       "    <tr>\n",
       "      <th>1</th>\n",
       "      <td>female</td>\n",
       "      <td>group C</td>\n",
       "      <td>some college</td>\n",
       "      <td>standard</td>\n",
       "      <td>completed</td>\n",
       "      <td>69</td>\n",
       "      <td>90</td>\n",
       "      <td>88</td>\n",
       "    </tr>\n",
       "    <tr>\n",
       "      <th>2</th>\n",
       "      <td>female</td>\n",
       "      <td>group B</td>\n",
       "      <td>master's degree</td>\n",
       "      <td>standard</td>\n",
       "      <td>none</td>\n",
       "      <td>90</td>\n",
       "      <td>95</td>\n",
       "      <td>93</td>\n",
       "    </tr>\n",
       "    <tr>\n",
       "      <th>3</th>\n",
       "      <td>male</td>\n",
       "      <td>group A</td>\n",
       "      <td>associate's degree</td>\n",
       "      <td>free/reduced</td>\n",
       "      <td>none</td>\n",
       "      <td>47</td>\n",
       "      <td>57</td>\n",
       "      <td>44</td>\n",
       "    </tr>\n",
       "    <tr>\n",
       "      <th>4</th>\n",
       "      <td>male</td>\n",
       "      <td>group C</td>\n",
       "      <td>some college</td>\n",
       "      <td>standard</td>\n",
       "      <td>none</td>\n",
       "      <td>76</td>\n",
       "      <td>78</td>\n",
       "      <td>75</td>\n",
       "    </tr>\n",
       "  </tbody>\n",
       "</table>\n",
       "</div>"
      ],
      "text/plain": [
       "   gender race/ethnicity parental level of education         lunch  \\\n",
       "0  female        group B           bachelor's degree      standard   \n",
       "1  female        group C                some college      standard   \n",
       "2  female        group B             master's degree      standard   \n",
       "3    male        group A          associate's degree  free/reduced   \n",
       "4    male        group C                some college      standard   \n",
       "\n",
       "  test preparation course  math score  reading score  writing score  \n",
       "0                    none          72             72             74  \n",
       "1               completed          69             90             88  \n",
       "2                    none          90             95             93  \n",
       "3                    none          47             57             44  \n",
       "4                    none          76             78             75  "
      ]
     },
     "execution_count": 2,
     "metadata": {},
     "output_type": "execute_result"
    }
   ],
   "source": [
    "data.head()"
   ]
  },
  {
   "cell_type": "markdown",
   "id": "2f5d9cea-9718-438a-94a5-10ae44c1808f",
   "metadata": {},
   "source": [
    "### Изучаем взаимодействие переменных\n",
    "\n",
    "<table style=\"border: 1px solid black; border-collapse: collapse;\">\n",
    "    <tr>\n",
    "        <td style=\"border: 1px solid black; border-collapse: collapse;\"></td>\n",
    "        <td style=\"border: 1px solid black; border-collapse: collapse; text-align: center; background-color: white\"><b>числовая</b></td>\n",
    "        <td style=\"border: 1px solid black; border-collapse: collapse; text-align: center\"><b>упорядоченная</b></td>\n",
    "        <td style=\"border: 1px solid black; border-collapse: collapse; text-align: center\"><b>категориальная</b></td>\n",
    "    </tr>\n",
    "    <tr>\n",
    "        <td style=\"border: 1px solid black; border-collapse: collapse; text-align: center\"><b>числовая</b></td>\n",
    "        <td style=\"border: 1px solid black; border-collapse: collapse; text-align: center\">корреляция</td>\n",
    "        <td style=\"border: 1px solid black; border-collapse: collapse; text-align: center\">ранговая<br>корреляция</td>\n",
    "        <td style=\"border: 1px solid black; border-collapse: collapse; text-align: center\">разница<br>по группам</td>\n",
    "    </tr>\n",
    "    <tr>\n",
    "        <td style=\"border: 1px solid black; border-collapse: collapse; text-align: center\"><b>упорядоченная</b></td>\n",
    "        <td style=\"border: 1px solid black; border-collapse: collapse; text-align: center\">ранговая<br>корреляция</td>\n",
    "        <td style=\"border: 1px solid black; border-collapse: collapse; text-align: center\">ранговая<br>корреляция</td>\n",
    "        <td style=\"border: 1px solid black; border-collapse: collapse; text-align: center\">таблица<br>сопряженности</td>\n",
    "    </tr>\n",
    "    <tr>\n",
    "        <td style=\"border: 1px solid black; border-collapse: collapse; text-align: center\"><b>категориальная</b></td>\n",
    "        <td style=\"border: 1px solid black; border-collapse: collapse; text-align: center\">разница<br>по группам</td>\n",
    "        <td style=\"border: 1px solid black; border-collapse: collapse; text-align: center\">таблица<br>сопряженности</td>\n",
    "        <td style=\"border: 1px solid black; border-collapse: collapse; text-align: center\">таблица<br>сопряженности</td>\n",
    "    </tr>\n",
    "</table>"
   ]
  },
  {
   "cell_type": "code",
   "execution_count": 3,
   "id": "baff91f2-d7e3-4ae0-9a45-3b41ac3d6192",
   "metadata": {},
   "outputs": [
    {
     "data": {
      "text/html": [
       "<div>\n",
       "<style scoped>\n",
       "    .dataframe tbody tr th:only-of-type {\n",
       "        vertical-align: middle;\n",
       "    }\n",
       "\n",
       "    .dataframe tbody tr th {\n",
       "        vertical-align: top;\n",
       "    }\n",
       "\n",
       "    .dataframe thead th {\n",
       "        text-align: right;\n",
       "    }\n",
       "</style>\n",
       "<table border=\"1\" class=\"dataframe\">\n",
       "  <thead>\n",
       "    <tr style=\"text-align: right;\">\n",
       "      <th></th>\n",
       "      <th>gender</th>\n",
       "      <th>race/ethnicity</th>\n",
       "      <th>parental level of education</th>\n",
       "      <th>lunch</th>\n",
       "      <th>test preparation course</th>\n",
       "      <th>math score</th>\n",
       "      <th>reading score</th>\n",
       "      <th>writing score</th>\n",
       "    </tr>\n",
       "  </thead>\n",
       "  <tbody>\n",
       "    <tr>\n",
       "      <th>0</th>\n",
       "      <td>female</td>\n",
       "      <td>group B</td>\n",
       "      <td>bachelor's degree</td>\n",
       "      <td>standard</td>\n",
       "      <td>none</td>\n",
       "      <td>72</td>\n",
       "      <td>72</td>\n",
       "      <td>74</td>\n",
       "    </tr>\n",
       "    <tr>\n",
       "      <th>1</th>\n",
       "      <td>female</td>\n",
       "      <td>group C</td>\n",
       "      <td>some college</td>\n",
       "      <td>standard</td>\n",
       "      <td>completed</td>\n",
       "      <td>69</td>\n",
       "      <td>90</td>\n",
       "      <td>88</td>\n",
       "    </tr>\n",
       "    <tr>\n",
       "      <th>2</th>\n",
       "      <td>female</td>\n",
       "      <td>group B</td>\n",
       "      <td>master's degree</td>\n",
       "      <td>standard</td>\n",
       "      <td>none</td>\n",
       "      <td>90</td>\n",
       "      <td>95</td>\n",
       "      <td>93</td>\n",
       "    </tr>\n",
       "    <tr>\n",
       "      <th>3</th>\n",
       "      <td>male</td>\n",
       "      <td>group A</td>\n",
       "      <td>associate's degree</td>\n",
       "      <td>free/reduced</td>\n",
       "      <td>none</td>\n",
       "      <td>47</td>\n",
       "      <td>57</td>\n",
       "      <td>44</td>\n",
       "    </tr>\n",
       "    <tr>\n",
       "      <th>4</th>\n",
       "      <td>male</td>\n",
       "      <td>group C</td>\n",
       "      <td>some college</td>\n",
       "      <td>standard</td>\n",
       "      <td>none</td>\n",
       "      <td>76</td>\n",
       "      <td>78</td>\n",
       "      <td>75</td>\n",
       "    </tr>\n",
       "  </tbody>\n",
       "</table>\n",
       "</div>"
      ],
      "text/plain": [
       "   gender race/ethnicity parental level of education         lunch  \\\n",
       "0  female        group B           bachelor's degree      standard   \n",
       "1  female        group C                some college      standard   \n",
       "2  female        group B             master's degree      standard   \n",
       "3    male        group A          associate's degree  free/reduced   \n",
       "4    male        group C                some college      standard   \n",
       "\n",
       "  test preparation course  math score  reading score  writing score  \n",
       "0                    none          72             72             74  \n",
       "1               completed          69             90             88  \n",
       "2                    none          90             95             93  \n",
       "3                    none          47             57             44  \n",
       "4                    none          76             78             75  "
      ]
     },
     "execution_count": 3,
     "metadata": {},
     "output_type": "execute_result"
    }
   ],
   "source": [
    "data.head()"
   ]
  },
  {
   "cell_type": "markdown",
   "id": "bb7ec51b-845f-4a0f-a78d-17b08c0cc047",
   "metadata": {},
   "source": [
    "### Проверка гипотез? Зачем?\n",
    "**Общий смысл**\n",
    "\n",
    "- видим в данных какую-то закономерность (возникает гипотеза?)\n",
    "- думаем, как ее измерить (начинаем проверять наше предположение)\n",
    "- может ли быть, что такое значение получено случайно, и на самом деле такой связи нет? насколько это вероятно?\n",
    "- для ответа требуется: 1) понять, какие вообще результаты получаются случайно и 2) проверить, \"ложится\" ли значение в результаты, получаемые случайно\n",
    "- если укладывается - закономерность случайна, нет - отвергаем случайность закономерности\n",
    "\n",
    "### Тестируем разницу в средних\n",
    "**Вопрос:** нужно ли хорошо питаться, чтобы хорошо писать математику?\n",
    "\n",
    "<table style=\"border: 1px solid black; border-collapse: collapse;\">\n",
    "    <tr>\n",
    "        <td style=\"border: 1px solid black; border-collapse: collapse;\"></td>\n",
    "        <td style=\"border: 1px solid black; border-collapse: collapse; text-align: center; background-color: white\"><b>числовая</b></td>\n",
    "        <td style=\"border: 1px solid black; border-collapse: collapse; text-align: center\"><b>упорядоченная</b></td>\n",
    "        <td style=\"border: 1px solid black; border-collapse: collapse; text-align: center\"><b>категориальная</b></td>\n",
    "    </tr>\n",
    "    <tr>\n",
    "        <td style=\"border: 1px solid black; border-collapse: collapse; text-align: center\"><b>числовая</b></td>\n",
    "        <td style=\"border: 1px solid black; border-collapse: collapse; text-align: center\">корреляция</td>\n",
    "        <td style=\"border: 1px solid black; border-collapse: collapse; text-align: center\">ранговая<br>корреляция</td>\n",
    "        <td style=\"border: 1px solid black; border-collapse: collapse; text-align: center; background-color: darkred;\">разница<br>по группам</td>\n",
    "    </tr>\n",
    "    <tr>\n",
    "        <td style=\"border: 1px solid black; border-collapse: collapse; text-align: center\"><b>упорядоченная</b></td>\n",
    "        <td style=\"border: 1px solid black; border-collapse: collapse; text-align: center\">ранговая<br>корреляция</td>\n",
    "        <td style=\"border: 1px solid black; border-collapse: collapse; text-align: center\">ранговая<br>корреляция</td>\n",
    "        <td style=\"border: 1px solid black; border-collapse: collapse; text-align: center\">таблица<br>сопряженности</td>\n",
    "    </tr>\n",
    "    <tr>\n",
    "        <td style=\"border: 1px solid black; border-collapse: collapse; text-align: center\"><b>категориальная</b></td>\n",
    "        <td style=\"border: 1px solid black; border-collapse: collapse; text-align: center\">разница<br>по группам</td>\n",
    "        <td style=\"border: 1px solid black; border-collapse: collapse; text-align: center\">таблица<br>сопряженности</td>\n",
    "        <td style=\"border: 1px solid black; border-collapse: collapse; text-align: center\">таблица<br>сопряженности</td>\n",
    "    </tr>\n",
    "</table>\n",
    "\n",
    "**Метрика:** разница в средних баллах по математике тех, кто хорошо питался, и тех, кто не очень.\n",
    "\n",
    "А какая вообще могла бы быть разница по чисто случайным причинам при условии, что ее на самом деле нет? Самое главное - правильно симулировать случайность!"
   ]
  },
  {
   "cell_type": "code",
   "execution_count": 4,
   "id": "4deb19ff-405c-42f3-8d56-17b6c720fb7b",
   "metadata": {},
   "outputs": [
    {
     "data": {
      "text/html": [
       "<div>\n",
       "<style scoped>\n",
       "    .dataframe tbody tr th:only-of-type {\n",
       "        vertical-align: middle;\n",
       "    }\n",
       "\n",
       "    .dataframe tbody tr th {\n",
       "        vertical-align: top;\n",
       "    }\n",
       "\n",
       "    .dataframe thead th {\n",
       "        text-align: right;\n",
       "    }\n",
       "</style>\n",
       "<table border=\"1\" class=\"dataframe\">\n",
       "  <thead>\n",
       "    <tr style=\"text-align: right;\">\n",
       "      <th></th>\n",
       "      <th>gender</th>\n",
       "      <th>race/ethnicity</th>\n",
       "      <th>parental level of education</th>\n",
       "      <th>lunch</th>\n",
       "      <th>test preparation course</th>\n",
       "      <th>math score</th>\n",
       "      <th>reading score</th>\n",
       "      <th>writing score</th>\n",
       "    </tr>\n",
       "  </thead>\n",
       "  <tbody>\n",
       "    <tr>\n",
       "      <th>0</th>\n",
       "      <td>female</td>\n",
       "      <td>group B</td>\n",
       "      <td>bachelor's degree</td>\n",
       "      <td>standard</td>\n",
       "      <td>none</td>\n",
       "      <td>72</td>\n",
       "      <td>72</td>\n",
       "      <td>74</td>\n",
       "    </tr>\n",
       "    <tr>\n",
       "      <th>1</th>\n",
       "      <td>female</td>\n",
       "      <td>group C</td>\n",
       "      <td>some college</td>\n",
       "      <td>standard</td>\n",
       "      <td>completed</td>\n",
       "      <td>69</td>\n",
       "      <td>90</td>\n",
       "      <td>88</td>\n",
       "    </tr>\n",
       "    <tr>\n",
       "      <th>2</th>\n",
       "      <td>female</td>\n",
       "      <td>group B</td>\n",
       "      <td>master's degree</td>\n",
       "      <td>standard</td>\n",
       "      <td>none</td>\n",
       "      <td>90</td>\n",
       "      <td>95</td>\n",
       "      <td>93</td>\n",
       "    </tr>\n",
       "    <tr>\n",
       "      <th>3</th>\n",
       "      <td>male</td>\n",
       "      <td>group A</td>\n",
       "      <td>associate's degree</td>\n",
       "      <td>free/reduced</td>\n",
       "      <td>none</td>\n",
       "      <td>47</td>\n",
       "      <td>57</td>\n",
       "      <td>44</td>\n",
       "    </tr>\n",
       "    <tr>\n",
       "      <th>4</th>\n",
       "      <td>male</td>\n",
       "      <td>group C</td>\n",
       "      <td>some college</td>\n",
       "      <td>standard</td>\n",
       "      <td>none</td>\n",
       "      <td>76</td>\n",
       "      <td>78</td>\n",
       "      <td>75</td>\n",
       "    </tr>\n",
       "  </tbody>\n",
       "</table>\n",
       "</div>"
      ],
      "text/plain": [
       "   gender race/ethnicity parental level of education         lunch  \\\n",
       "0  female        group B           bachelor's degree      standard   \n",
       "1  female        group C                some college      standard   \n",
       "2  female        group B             master's degree      standard   \n",
       "3    male        group A          associate's degree  free/reduced   \n",
       "4    male        group C                some college      standard   \n",
       "\n",
       "  test preparation course  math score  reading score  writing score  \n",
       "0                    none          72             72             74  \n",
       "1               completed          69             90             88  \n",
       "2                    none          90             95             93  \n",
       "3                    none          47             57             44  \n",
       "4                    none          76             78             75  "
      ]
     },
     "execution_count": 4,
     "metadata": {},
     "output_type": "execute_result"
    }
   ],
   "source": [
    "data.head()"
   ]
  },
  {
   "cell_type": "code",
   "execution_count": 5,
   "id": "52f72491-a6a6-47fe-8f25-ab5b20a7f85a",
   "metadata": {},
   "outputs": [],
   "source": [
    "# разделим людей на группы\n",
    "lunch_norm = data.loc[data['lunch'] == 'standard', 'math score'].values\n",
    "lunch_bad = data.loc[data['lunch'] == 'free/reduced', 'math score'].values"
   ]
  },
  {
   "cell_type": "code",
   "execution_count": 8,
   "id": "4df16fb2-5dc3-4f71-8487-29073e322465",
   "metadata": {
    "scrolled": true
   },
   "outputs": [
    {
     "data": {
      "text/plain": [
       "array([ 47,  40,  64,  38,  18,  46,  54,  65,  74,  73,  56,  50,  75,\n",
       "        57,  55,  59,  50,  57,  77,  71,  33,   0,  79,  39,  62,  45,\n",
       "        61,  58,  41,  61,  44,  49,  50,  42,  76,  27,  43,  78,  58,\n",
       "        52,  77,  75,  63,  53,  87,  74,  59,  42,  22,  73, 100,  66,\n",
       "        60,  66,  82,  75,  49,  53,  58,  67,  43,  46,  52,  62,  46,\n",
       "        45,  65,  48,  59,  55,  45,  78,  65,  74,  58,  80,  35,  42,\n",
       "        60,  83,  34,  66,  55,  45,  68,  63,  73,  71,  64,  65,  64,\n",
       "        44,  59,  71,  47,  65,  73,  73,  70,  88,  78,  67,  40,  90,\n",
       "        81,  56,  53,  49,  68,  56,  67,  43,  41,  28,  61,  24,  35,\n",
       "        58,  75,  42,  59,  27,  49,  61,  44,  45,  46,  85,  79,  38,\n",
       "        38,  57,  73,  48,  50,  49,  52,  51,  57,  82,  47,  41,  62,\n",
       "        69,  65,  68,  64,  47,  50,  75,  59,  79,  69,  64,  65,  65,\n",
       "        53,  37,  53,  53,  54,  77,  26,  72,  77,  52,  68,  61,  60,\n",
       "        79,  65,  59,  63,  40,  55,  62,  77,  67,  54,  56,  36,  29,\n",
       "        66,  79,  78,  62,  79,  87,  77,  32,  61,  53,  63,  48,  92,\n",
       "        61,  63,  68,  50,  40,  48,  63,  44,  58,  30,  60,  84,  40,\n",
       "        69,  65,  35,  62,  58,  61,  69,  49,  67,  74,  72,  64,  51,\n",
       "        77,  43,  74,  55,  50,  63,  77,  66,  52,  81,  63,  29,  77,\n",
       "        53,  93,  73,  66,  79,  66,  59,  62,  42,  76,  91,  62,  55,\n",
       "        74,  73,  68,  55,  53,  53,  61,  37,  55,  50,  79,  58,  70,\n",
       "        52,  53,  58,  52,  62,  49,  35,  46,  76,  72,  68,  52,  60,\n",
       "        66,  57,  70,  75,  64,  41,  45,  61,  60,  78,  49,  71,  48,\n",
       "        56,  69,  61,  74,  58,  39,  23,  74,  40,  75,  87,  81,  39,\n",
       "        59,  78,  49,  90,  43,  80,  64,  55,  54,  69,  44,  50,  32,\n",
       "        36,  63,  34,  93,  67,  67,  50,  47,  46,  69,  35,  54,  74,\n",
       "        64,  65,  46,  48,  67,  62,  61,  70,  70,  57,  72,  61,  49,\n",
       "        49,  57,  74,  48,  65,  53,  49,  60,   8,  44,  67,  86,  55,\n",
       "        62,  62,  59,  77])"
      ]
     },
     "execution_count": 8,
     "metadata": {},
     "output_type": "execute_result"
    }
   ],
   "source": [
    "lunch_bad"
   ]
  },
  {
   "cell_type": "code",
   "execution_count": 9,
   "id": "3263a3b3-291e-4637-a476-e95866a15977",
   "metadata": {},
   "outputs": [
    {
     "data": {
      "text/plain": [
       "11.112981766568396"
      ]
     },
     "execution_count": 9,
     "metadata": {},
     "output_type": "execute_result"
    }
   ],
   "source": [
    "# посчитаем разницу в средних\n",
    "real_diff = lunch_norm.mean() - lunch_bad.mean()\n",
    "real_diff"
   ]
  },
  {
   "cell_type": "code",
   "execution_count": 17,
   "id": "f02cb8af-3743-40b0-8f92-4b943937fb73",
   "metadata": {},
   "outputs": [],
   "source": [
    "# симулируем распределение случайной разницы\n",
    "def simulate(vector1, vector2):\n",
    "    concat = np.concatenate((vector1, vector2))\n",
    "    permuted = np.random.permutation(concat)\n",
    "    vector1_new, vector2_new = permuted[:vector1.size], permuted[vector2.size:]\n",
    "    simulated_diff = vector1_new.mean() - vector2_new.mean()\n",
    "    \n",
    "    return simulated_diff"
   ]
  },
  {
   "cell_type": "code",
   "execution_count": 44,
   "id": "c65c705b-f611-4c72-a27c-b53a12d0b843",
   "metadata": {},
   "outputs": [
    {
     "data": {
      "text/plain": [
       "-0.058914728682168516"
      ]
     },
     "execution_count": 44,
     "metadata": {},
     "output_type": "execute_result"
    }
   ],
   "source": [
    "simulate(lunch_norm, lunch_bad)"
   ]
  },
  {
   "cell_type": "code",
   "execution_count": 45,
   "id": "97c1076f-4ff6-42c0-8380-55e89d455d49",
   "metadata": {},
   "outputs": [],
   "source": [
    "N = 100000\n",
    "\n",
    "simulated_diffs = np.array([simulate(lunch_norm, lunch_bad) for i in range(N)])"
   ]
  },
  {
   "cell_type": "code",
   "execution_count": 46,
   "id": "06e32a97-5e04-4554-b42e-9c4dfd2166bd",
   "metadata": {},
   "outputs": [
    {
     "data": {
      "text/plain": [
       "100000"
      ]
     },
     "execution_count": 46,
     "metadata": {},
     "output_type": "execute_result"
    }
   ],
   "source": [
    "simulated_diffs.size"
   ]
  },
  {
   "cell_type": "code",
   "execution_count": 47,
   "id": "3c64f25f-2a61-4d42-9baf-a3baf629e9ff",
   "metadata": {},
   "outputs": [
    {
     "data": {
      "image/png": "[encoded data removed]",
      "text/plain": [
       "<Figure size 640x480 with 1 Axes>"
      ]
     },
     "metadata": {},
     "output_type": "display_data"
    }
   ],
   "source": [
    "# взглянем на распределение\n",
    "import matplotlib.pyplot as plt\n",
    "\n",
    "fig, ax = plt.subplots()\n",
    "ax.hist(simulated_diffs, bins=50, edgecolor='black');"
   ]
  },
  {
   "cell_type": "code",
   "execution_count": 48,
   "id": "82687cc8-e4f5-47cf-8e7e-c17f11745a35",
   "metadata": {},
   "outputs": [
    {
     "data": {
      "text/plain": [
       "11.112981766568396"
      ]
     },
     "execution_count": 48,
     "metadata": {},
     "output_type": "execute_result"
    }
   ],
   "source": [
    "real_diff  # реальная разница абсолютно не укладывается в теоретическое распределение случайной разницы, поэтому делаем вывод, что разница неслучайна"
   ]
  },
  {
   "cell_type": "code",
   "execution_count": 49,
   "id": "b4d60d41-4cb8-4f71-8e16-69fa9a9b2cb4",
   "metadata": {},
   "outputs": [],
   "source": [
    "hypothetic_real_diff = 2"
   ]
  },
  {
   "cell_type": "code",
   "execution_count": 51,
   "id": "acf4c3ae-02b5-4e4b-8c4e-3010db246796",
   "metadata": {},
   "outputs": [
    {
     "data": {
      "text/plain": [
       "0.00071"
      ]
     },
     "execution_count": 51,
     "metadata": {},
     "output_type": "execute_result"
    }
   ],
   "source": [
    "(simulated_diffs >= hypothetic_real_diff).mean()"
   ]
  },
  {
   "cell_type": "code",
   "execution_count": 53,
   "id": "7adcb309-9f6f-4390-a061-701caa211347",
   "metadata": {},
   "outputs": [
    {
     "data": {
      "text/plain": [
       "0.0"
      ]
     },
     "execution_count": 53,
     "metadata": {},
     "output_type": "execute_result"
    }
   ],
   "source": [
    "(simulated_diffs >= real_diff).mean()"
   ]
  },
  {
   "cell_type": "code",
   "execution_count": null,
   "id": "7085cce1-bfdc-4fc5-967e-4ba845844f01",
   "metadata": {},
   "outputs": [],
   "source": [
    "# 0.05"
   ]
  },
  {
   "cell_type": "code",
   "execution_count": 52,
   "id": "57be7839-c3d6-4f6f-95bd-0984817789b5",
   "metadata": {},
   "outputs": [
    {
     "data": {
      "text/plain": [
       "TtestResult(statistic=11.484100293169273, pvalue=5.5395849439653935e-28, df=667.5029427147624)"
      ]
     },
     "execution_count": 52,
     "metadata": {},
     "output_type": "execute_result"
    }
   ],
   "source": [
    "stats.ttest_ind(\n",
    "    lunch_norm,\n",
    "    lunch_bad,\n",
    "    equal_var=False\n",
    ")"
   ]
  },
  {
   "cell_type": "markdown",
   "id": "be65b0b2-8ddb-41ff-8ef7-0e986e927771",
   "metadata": {},
   "source": [
    "Такая же логика лежит в основе статистических тестов (например, t-критерий Стъюдента).\n",
    "\n",
    "<u>Двухвыборочный t-test: сравнение средних</u>\n",
    "![](https://cdn1.qualitygurus.com/wp-content/uploads/2022/12/Two-sample-t-test-formulas.png?lossy=1&ssl=1)\n",
    "\n",
    "### Тестируем коэффициент корреляции\n",
    "**Вопрос:** связаны ли успеваемость по математике и чтению?\n",
    "\n",
    "<table style=\"border: 1px solid black; border-collapse: collapse;\">\n",
    "    <tr>\n",
    "        <td style=\"border: 1px solid black; border-collapse: collapse;\"></td>\n",
    "        <td style=\"border: 1px solid black; border-collapse: collapse; text-align: center; background-color: white\"><b>числовая</b></td>\n",
    "        <td style=\"border: 1px solid black; border-collapse: collapse; text-align: center\"><b>упорядоченная</b></td>\n",
    "        <td style=\"border: 1px solid black; border-collapse: collapse; text-align: center\"><b>категориальная</b></td>\n",
    "    </tr>\n",
    "    <tr>\n",
    "        <td style=\"border: 1px solid black; border-collapse: collapse; text-align: center\"><b>числовая</b></td>\n",
    "        <td style=\"border: 1px solid black; border-collapse: collapse; text-align: center; background-color: darkred;\">корреляция</td>\n",
    "        <td style=\"border: 1px solid black; border-collapse: collapse; text-align: center\">ранговая<br>корреляция</td>\n",
    "        <td style=\"border: 1px solid black; border-collapse: collapse; text-align: center\">разница<br>по группам</td>\n",
    "    </tr>\n",
    "    <tr>\n",
    "        <td style=\"border: 1px solid black; border-collapse: collapse; text-align: center\"><b>упорядоченная</b></td>\n",
    "        <td style=\"border: 1px solid black; border-collapse: collapse; text-align: center\">ранговая<br>корреляция</td>\n",
    "        <td style=\"border: 1px solid black; border-collapse: collapse; text-align: center\">ранговая<br>корреляция</td>\n",
    "        <td style=\"border: 1px solid black; border-collapse: collapse; text-align: center\">таблица<br>сопряженности</td>\n",
    "    </tr>\n",
    "    <tr>\n",
    "        <td style=\"border: 1px solid black; border-collapse: collapse; text-align: center\"><b>категориальная</b></td>\n",
    "        <td style=\"border: 1px solid black; border-collapse: collapse; text-align: center\">разница<br>по группам</td>\n",
    "        <td style=\"border: 1px solid black; border-collapse: collapse; text-align: center\">таблица<br>сопряженности</td>\n",
    "        <td style=\"border: 1px solid black; border-collapse: collapse; text-align: center\">таблица<br>сопряженности</td>\n",
    "    </tr>\n",
    "</table>\n",
    "\n",
    "**Метрика:** коэффициент корреляции.\n",
    "\n",
    "![](https://i.pinimg.com/originals/bb/cb/ec/bbcbec1321afe19b40e7fa663c3f8125.jpg)"
   ]
  },
  {
   "cell_type": "code",
   "execution_count": 54,
   "id": "048e6073-28f4-4afc-85ed-b4d87ab4e7e9",
   "metadata": {},
   "outputs": [
    {
     "data": {
      "image/png": "[encoded data removed]",
      "text/plain": [
       "<Figure size 640x480 with 1 Axes>"
      ]
     },
     "metadata": {},
     "output_type": "display_data"
    }
   ],
   "source": [
    "import seaborn as sns\n",
    "\n",
    "math_score = data['math score'].values\n",
    "reading_score = data['reading score'].values\n",
    "\n",
    "sns.scatterplot(x='math score', y='reading score', data=data);"
   ]
  },
  {
   "cell_type": "code",
   "execution_count": 57,
   "id": "a00cbcbe-a16e-4919-8cc1-10cd7357aae2",
   "metadata": {},
   "outputs": [
    {
     "data": {
      "text/plain": [
       "0.8175796636720544"
      ]
     },
     "execution_count": 57,
     "metadata": {},
     "output_type": "execute_result"
    }
   ],
   "source": [
    "coef_real = np.corrcoef(math_score, reading_score)[0, 1]\n",
    "coef_real"
   ]
  },
  {
   "cell_type": "code",
   "execution_count": 85,
   "id": "cbb0134c-ea5a-4f4f-a167-29548bf8d9a1",
   "metadata": {},
   "outputs": [
    {
     "data": {
      "text/plain": [
       "-0.024819040760559134"
      ]
     },
     "execution_count": 85,
     "metadata": {},
     "output_type": "execute_result"
    }
   ],
   "source": [
    "np.corrcoef(np.random.permutation(math_score), reading_score)[0, 1]"
   ]
  },
  {
   "cell_type": "code",
   "execution_count": 86,
   "id": "97fcca0a-dcc6-4eeb-9953-eeabb9561807",
   "metadata": {},
   "outputs": [],
   "source": [
    "def simulate(vector1, vector2):\n",
    "    vector1_permuted = np.random.permutation(vector1)\n",
    "    coef = np.corrcoef(vector1_permuted, vector2)[0, 1]\n",
    "    \n",
    "    return coef"
   ]
  },
  {
   "cell_type": "code",
   "execution_count": 87,
   "id": "99f794e3-a4e9-488e-ad02-aae44f363a0b",
   "metadata": {},
   "outputs": [],
   "source": [
    "N = 100000\n",
    "\n",
    "simulated_coefs = np.array([simulate(math_score, reading_score) for i in range(N)])"
   ]
  },
  {
   "cell_type": "code",
   "execution_count": 88,
   "id": "b6ca6d67-7557-49ad-ad31-87322c07698d",
   "metadata": {},
   "outputs": [
    {
     "data": {
      "image/png": "[encoded data removed]",
      "text/plain": [
       "<Figure size 640x480 with 1 Axes>"
      ]
     },
     "metadata": {},
     "output_type": "display_data"
    }
   ],
   "source": [
    "fig, ax = plt.subplots()\n",
    "ax.hist(simulated_coefs, bins=50, edgecolor='black');"
   ]
  },
  {
   "cell_type": "code",
   "execution_count": 89,
   "id": "34ca3de3-ed9a-4f02-907e-45f9740d25e1",
   "metadata": {},
   "outputs": [
    {
     "data": {
      "text/plain": [
       "0.8175796636720544"
      ]
     },
     "execution_count": 89,
     "metadata": {},
     "output_type": "execute_result"
    }
   ],
   "source": [
    "coef_real  # реальная корреляция абсолютно не укладывается в теоретическое распределение случайной разницы, поэтому делаем вывод, что корреляция неслучайна и реально существует"
   ]
  },
  {
   "cell_type": "code",
   "execution_count": 90,
   "id": "72609385-6069-406f-8206-0218981424be",
   "metadata": {},
   "outputs": [
    {
     "data": {
      "text/plain": [
       "PearsonRResult(statistic=0.8175796636720556, pvalue=1.7877531098993485e-241)"
      ]
     },
     "execution_count": 90,
     "metadata": {},
     "output_type": "execute_result"
    }
   ],
   "source": [
    "stats.pearsonr(math_score, reading_score)"
   ]
  }
 ],
 "metadata": {
  "kernelspec": {
   "display_name": "Python 3 (ipykernel)",
   "language": "python",
   "name": "python3"
  },
  "language_info": {
   "codemirror_mode": {
    "name": "ipython",
    "version": 3
   },
   "file_extension": ".py",
   "mimetype": "text/x-python",
   "name": "python",
   "nbconvert_exporter": "python",
   "pygments_lexer": "ipython3",
   "version": "3.11.6"
  }
 },
 "nbformat": 4,
 "nbformat_minor": 5
}
