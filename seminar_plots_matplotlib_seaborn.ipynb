{
 "cells": [
  {
   "cell_type": "markdown",
   "id": "762cf2c0-c61d-439b-89ae-ad060cf62e4b",
   "metadata": {},
   "source": [
    "# Python для сбора и анализа данных\n",
    "## Сравнение matplotlib и seaborn\n",
    "Есть таблица (`P_Popular Indicators.xlsx`), в которой находятся базовые индикаторы для некоторых стран. Нас интересуют три:\n",
    "\n",
    "- Population, total - численность населения;\n",
    "- GDP per capita (current US$) - ВВП на душу населения;\n",
    "- Life expectancy at birth, total (years) - средняя ожидаемая продолжительность жизни."
   ]
  },
  {
   "cell_type": "code",
   "execution_count": 1,
   "id": "6d75416a-80e3-43d4-8eea-be5b448af5d1",
   "metadata": {},
   "outputs": [
    {
     "name": "stdout",
     "output_type": "stream",
     "text": [
      "<class 'pandas.core.frame.DataFrame'>\n",
      "RangeIndex: 11072 entries, 0 to 11071\n",
      "Data columns (total 6 columns):\n",
      " #   Column         Non-Null Count  Dtype \n",
      "---  ------         --------------  ----- \n",
      " 0   Series Name    11069 non-null  object\n",
      " 1   Country Name   11067 non-null  object\n",
      " 2   Country Code   11067 non-null  object\n",
      " 3   2019 [YR2019]  11067 non-null  object\n",
      " 4   2020 [YR2020]  11067 non-null  object\n",
      " 5   2021 [YR2021]  11067 non-null  object\n",
      "dtypes: object(6)\n",
      "memory usage: 519.1+ KB\n"
     ]
    }
   ],
   "source": [
    "import numpy as np\n",
    "import pandas as pd\n",
    "\n",
    "import matplotlib.pyplot as plt\n",
    "import seaborn as sns\n",
    "\n",
    "indicators = ['Population, total', 'GDP per capita (current US$)', 'Life expectancy at birth, total (years)']\n",
    "\n",
    "indicators_df = pd.read_excel('../data/P_Popular Indicators.xlsx').drop(columns=['Series Code'])\n",
    "\n",
    "indicators_df.info()"
   ]
  },
  {
   "cell_type": "code",
   "execution_count": 2,
   "id": "f7f87b60-a902-41e3-b3b2-e28c7f6450f1",
   "metadata": {},
   "outputs": [],
   "source": [
    "def extract_index(index_tuple: tuple) -> str:\n",
    "    first, second = index_tuple\n",
    "\n",
    "    if not second:\n",
    "        return first\n",
    "    \n",
    "    return second"
   ]
  },
  {
   "cell_type": "code",
   "execution_count": 3,
   "id": "cc4549e1-0186-4a48-a6d2-618ca0550e61",
   "metadata": {},
   "outputs": [
    {
     "name": "stdout",
     "output_type": "stream",
     "text": [
      "<class 'pandas.core.frame.DataFrame'>\n",
      "RangeIndex: 651 entries, 0 to 650\n",
      "Data columns (total 5 columns):\n",
      " #   Column        Non-Null Count  Dtype  \n",
      "---  ------        --------------  -----  \n",
      " 0   country_name  651 non-null    object \n",
      " 1   year          651 non-null    int64  \n",
      " 2   grp_percap    608 non-null    float64\n",
      " 3   life_exp      408 non-null    float64\n",
      " 4   population    651 non-null    int64  \n",
      "dtypes: float64(2), int64(2), object(1)\n",
      "memory usage: 25.6+ KB\n"
     ]
    }
   ],
   "source": [
    "indicators_data = indicators_df[indicators_df['Series Name'].isin(indicators)].reset_index(drop=True)\n",
    "\n",
    "# melt year columns (WIDE[years] -> LONG[year])\n",
    "indicators_data_melt = indicators_data.melt(\n",
    "    id_vars=['Series Name', 'Country Name'],\n",
    "    value_vars=['2019 [YR2019]', '2020 [YR2020]', '2021 [YR2021]'],\n",
    "    var_name='year', value_name='value'\n",
    ")\n",
    "\n",
    "# pivot Series Name column (LONG[Series Name] -> WIDE[Series Name])\n",
    "indicators_data_pivot = indicators_data_melt.pivot(\n",
    "    columns=['Series Name'], index=['Country Name', 'year'], values=['value']\n",
    ").reset_index()\n",
    "\n",
    "# drop multiindex\n",
    "indicators_data_pivot.columns = indicators_data_pivot.columns.map(extract_index)\n",
    "\n",
    "# rename_columns\n",
    "renamer = {\n",
    "    'Country Name': 'country_name',\n",
    "    'GDP per capita (current US$)': 'grp_percap',\n",
    "    'Life expectancy at birth, total (years)': 'life_exp',\n",
    "    'Population, total': 'population',\n",
    "}\n",
    "\n",
    "indicators_data_pivot.rename(columns=renamer, inplace=True)\n",
    "\n",
    "# transform variables\n",
    "indicators_data_pivot['year'] = indicators_data_pivot['year'].str[:4].astype(int)\n",
    "\n",
    "indicators_data_pivot['grp_percap'] = [value if isinstance(value, float) else np.nan for value in indicators_data_pivot['grp_percap']]\n",
    "indicators_data_pivot['life_exp'] = [value if isinstance(value, float) else np.nan for value in indicators_data_pivot['life_exp']]\n",
    "indicators_data_pivot['population'] = [value if isinstance(value, int) else np.nan for value in indicators_data_pivot['population']]\n",
    "\n",
    "indicators_data_pivot.info()"
   ]
  },
  {
   "cell_type": "markdown",
   "id": "fd3a8b26-4288-4378-a732-cba5ec5e2a1c",
   "metadata": {},
   "source": [
    "### Визуализация\n",
    "#### `matplotlib`\n",
    "\n",
    "Изобразите распределение переменных `indicators_data_pivot.grp_percap`, `indicators_data_pivot.life_exp` и `indicators_data_pivot.population` с помощью:\n",
    "\n",
    "1. Гистограммы;\n",
    "2. Ящика с усами (boxplot).\n",
    "\n",
    "На одном графике. Используйте данные на 2019 год."
   ]
  },
  {
   "cell_type": "code",
   "execution_count": 4,
   "id": "c72a2db7-7a5f-4cff-add0-fb6a6a9897a1",
   "metadata": {},
   "outputs": [
    {
     "data": {
      "text/html": [
       "<div>\n",
       "<style scoped>\n",
       "    .dataframe tbody tr th:only-of-type {\n",
       "        vertical-align: middle;\n",
       "    }\n",
       "\n",
       "    .dataframe tbody tr th {\n",
       "        vertical-align: top;\n",
       "    }\n",
       "\n",
       "    .dataframe thead th {\n",
       "        text-align: right;\n",
       "    }\n",
       "</style>\n",
       "<table border=\"1\" class=\"dataframe\">\n",
       "  <thead>\n",
       "    <tr style=\"text-align: right;\">\n",
       "      <th></th>\n",
       "      <th>country_name</th>\n",
       "      <th>year</th>\n",
       "      <th>grp_percap</th>\n",
       "      <th>life_exp</th>\n",
       "      <th>population</th>\n",
       "    </tr>\n",
       "  </thead>\n",
       "  <tbody>\n",
       "    <tr>\n",
       "      <th>0</th>\n",
       "      <td>Afghanistan</td>\n",
       "      <td>2019</td>\n",
       "      <td>500.522664</td>\n",
       "      <td>63.565</td>\n",
       "      <td>37769499</td>\n",
       "    </tr>\n",
       "    <tr>\n",
       "      <th>1</th>\n",
       "      <td>Afghanistan</td>\n",
       "      <td>2020</td>\n",
       "      <td>516.866552</td>\n",
       "      <td>62.575</td>\n",
       "      <td>38972230</td>\n",
       "    </tr>\n",
       "    <tr>\n",
       "      <th>2</th>\n",
       "      <td>Afghanistan</td>\n",
       "      <td>2021</td>\n",
       "      <td>368.754614</td>\n",
       "      <td>NaN</td>\n",
       "      <td>40099462</td>\n",
       "    </tr>\n",
       "    <tr>\n",
       "      <th>3</th>\n",
       "      <td>Albania</td>\n",
       "      <td>2019</td>\n",
       "      <td>5396.215864</td>\n",
       "      <td>79.282</td>\n",
       "      <td>2854191</td>\n",
       "    </tr>\n",
       "    <tr>\n",
       "      <th>4</th>\n",
       "      <td>Albania</td>\n",
       "      <td>2020</td>\n",
       "      <td>5332.160475</td>\n",
       "      <td>76.989</td>\n",
       "      <td>2837849</td>\n",
       "    </tr>\n",
       "  </tbody>\n",
       "</table>\n",
       "</div>"
      ],
      "text/plain": [
       "  country_name  year   grp_percap  life_exp  population\n",
       "0  Afghanistan  2019   500.522664    63.565    37769499\n",
       "1  Afghanistan  2020   516.866552    62.575    38972230\n",
       "2  Afghanistan  2021   368.754614       NaN    40099462\n",
       "3      Albania  2019  5396.215864    79.282     2854191\n",
       "4      Albania  2020  5332.160475    76.989     2837849"
      ]
     },
     "execution_count": 4,
     "metadata": {},
     "output_type": "execute_result"
    }
   ],
   "source": [
    "indicators_data_pivot.head()"
   ]
  },
  {
   "cell_type": "code",
   "execution_count": 31,
   "id": "1c8e72af-e8bf-45f7-9b0e-2bcb1c67d57c",
   "metadata": {},
   "outputs": [
    {
     "data": {
      "text/html": [
       "<div>\n",
       "<style scoped>\n",
       "    .dataframe tbody tr th:only-of-type {\n",
       "        vertical-align: middle;\n",
       "    }\n",
       "\n",
       "    .dataframe tbody tr th {\n",
       "        vertical-align: top;\n",
       "    }\n",
       "\n",
       "    .dataframe thead th {\n",
       "        text-align: right;\n",
       "    }\n",
       "</style>\n",
       "<table border=\"1\" class=\"dataframe\">\n",
       "  <thead>\n",
       "    <tr style=\"text-align: right;\">\n",
       "      <th></th>\n",
       "      <th>country_name</th>\n",
       "      <th>year</th>\n",
       "      <th>grp_percap</th>\n",
       "      <th>life_exp</th>\n",
       "      <th>population</th>\n",
       "    </tr>\n",
       "  </thead>\n",
       "  <tbody>\n",
       "    <tr>\n",
       "      <th>0</th>\n",
       "      <td>Afghanistan</td>\n",
       "      <td>2019</td>\n",
       "      <td>500.522664</td>\n",
       "      <td>63.565</td>\n",
       "      <td>37769499</td>\n",
       "    </tr>\n",
       "    <tr>\n",
       "      <th>1</th>\n",
       "      <td>Albania</td>\n",
       "      <td>2019</td>\n",
       "      <td>5396.215864</td>\n",
       "      <td>79.282</td>\n",
       "      <td>2854191</td>\n",
       "    </tr>\n",
       "    <tr>\n",
       "      <th>2</th>\n",
       "      <td>Algeria</td>\n",
       "      <td>2019</td>\n",
       "      <td>4022.150184</td>\n",
       "      <td>76.474</td>\n",
       "      <td>42705368</td>\n",
       "    </tr>\n",
       "    <tr>\n",
       "      <th>3</th>\n",
       "      <td>American Samoa</td>\n",
       "      <td>2019</td>\n",
       "      <td>13672.576657</td>\n",
       "      <td>NaN</td>\n",
       "      <td>47321</td>\n",
       "    </tr>\n",
       "    <tr>\n",
       "      <th>4</th>\n",
       "      <td>Andorra</td>\n",
       "      <td>2019</td>\n",
       "      <td>41327.502031</td>\n",
       "      <td>NaN</td>\n",
       "      <td>76343</td>\n",
       "    </tr>\n",
       "  </tbody>\n",
       "</table>\n",
       "</div>"
      ],
      "text/plain": [
       "     country_name  year    grp_percap  life_exp  population\n",
       "0     Afghanistan  2019    500.522664    63.565    37769499\n",
       "1         Albania  2019   5396.215864    79.282     2854191\n",
       "2         Algeria  2019   4022.150184    76.474    42705368\n",
       "3  American Samoa  2019  13672.576657       NaN       47321\n",
       "4         Andorra  2019  41327.502031       NaN       76343"
      ]
     },
     "execution_count": 31,
     "metadata": {},
     "output_type": "execute_result"
    }
   ],
   "source": [
    "indicators_data_pivot2019 = indicators_data_pivot[indicators_data_pivot['year'] == 2019].reset_index(drop=True)\n",
    "indicators_data_pivot2019.head()"
   ]
  },
  {
   "cell_type": "markdown",
   "id": "9193b491-31e1-4e42-ba35-f294f4863e9c",
   "metadata": {},
   "source": [
    "Как строить гистограмму:"
   ]
  },
  {
   "cell_type": "code",
   "execution_count": 8,
   "id": "f8d451d2-0ddb-4230-b7f5-f02c3b6ef9dd",
   "metadata": {},
   "outputs": [
    {
     "data": {
      "text/plain": [
       "array([-2,  0,  2,  3,  4,  5,  6,  7,  8])"
      ]
     },
     "execution_count": 8,
     "metadata": {},
     "output_type": "execute_result"
    }
   ],
   "source": [
    "sample = [5, -2, 6, 3, 0, 4, 8, 7, 2]\n",
    "sample_sorted = np.sort(sample)\n",
    "sample_sorted"
   ]
  },
  {
   "cell_type": "code",
   "execution_count": null,
   "id": "a076f0e9-a9e2-44cb-99ce-21affe7897b8",
   "metadata": {},
   "outputs": [],
   "source": [
    "# самое главное в гистограмме - количество bin'ов (столбиков)\n",
    "# bin = 2  =>\n",
    "\n",
    "# делим область значений sample_sorted на 2 равные части: [-2, 3), [3, 8]\n",
    "\n",
    "# далее считаем сколько значений входит в каждый промежуток:\n",
    "\n",
    "# [-2, 3): 3\n",
    "# [3, 8]:  6\n",
    "\n",
    "# схематичное изображение гистограммы:\n",
    "#   2\n",
    "#   2\n",
    "#   2\n",
    "# 1 2\n",
    "# 1 2\n",
    "# 1 2"
   ]
  },
  {
   "cell_type": "code",
   "execution_count": 27,
   "id": "3793a328-b2eb-42c8-aa0a-45a452064b2d",
   "metadata": {},
   "outputs": [
    {
     "data": {
      "image/png": "[encoded data removed]",
      "text/plain": [
       "<Figure size 800x480 with 1 Axes>"
      ]
     },
     "metadata": {},
     "output_type": "display_data"
    }
   ],
   "source": [
    "fig, ax = plt.subplots()\n",
    "\n",
    "fig.set_figwidth(8)\n",
    "\n",
    "counts, limits, bars = ax.hist(sample_sorted, bins=2, edgecolor='black')\n",
    "\n",
    "ax.axvline(2, color='red');\n",
    "ax.axline((0, 0), (5, 5), color='orange');"
   ]
  },
  {
   "cell_type": "code",
   "execution_count": null,
   "id": "1b58908c-214e-4d53-a2f8-870ca90af993",
   "metadata": {},
   "outputs": [],
   "source": []
  },
  {
   "cell_type": "code",
   "execution_count": null,
   "id": "784d43c1-0641-4230-a220-ff5c1ef9f255",
   "metadata": {},
   "outputs": [],
   "source": []
  },
  {
   "cell_type": "markdown",
   "id": "a1a49bf5-1715-42c7-8666-439cc3d6facf",
   "metadata": {},
   "source": [
    "Полный код построения графика:"
   ]
  },
  {
   "cell_type": "code",
   "execution_count": 33,
   "id": "2bc09df5-a27b-4586-8fb2-96aee643681b",
   "metadata": {},
   "outputs": [
    {
     "data": {
      "image/png": "[encoded data removed]",
      "text/plain": [
       "<Figure size 1600x700 with 6 Axes>"
      ]
     },
     "metadata": {},
     "output_type": "display_data"
    }
   ],
   "source": [
    "fig, axes = plt.subplots(2, 3, figsize=(16, 7))\n",
    "\n",
    "columns = ['grp_percap', 'life_exp', 'population']\n",
    "\n",
    "for index, variable in enumerate(columns):\n",
    "    data_variable = indicators_data_pivot2019[variable].dropna(ignore_index=True)\n",
    "    \n",
    "    variable_mean = data_variable.mean()\n",
    "    variable_median = data_variable.median()\n",
    "    \n",
    "    ## histogram\n",
    "    axes[0, index].hist(data_variable, edgecolor='black', bins=20, color='darkblue', alpha=.3)\n",
    "    axes[0, index].set_title(variable)\n",
    "\n",
    "    # add vertical lines for mean and median\n",
    "    axes[0, index].axvline(variable_mean, color='red', label='mean')  # default linestyle is 'solid'\n",
    "    axes[0, index].axvline(variable_median, color='orange', linestyle='dashed', label='median')  # for horizontal line use axhline\n",
    "        # (coordinate Y)\n",
    "\n",
    "    if index == 0:\n",
    "        axes[0, index].set_ylabel('histogram')\n",
    "\n",
    "    # add legend\n",
    "    if index == 2:\n",
    "        axes[0, index].legend()\n",
    "\n",
    "    ## boxplot\n",
    "    axes[1, index].boxplot(data_variable, vert=False)\n",
    "    axes[1, index].set_yticks([])\n",
    "\n",
    "    if index == 0:\n",
    "        axes[1, index].set_ylabel('boxplot')"
   ]
  },
  {
   "cell_type": "markdown",
   "id": "39cc4b86-e24c-4780-8236-2feda42c1a65",
   "metadata": {},
   "source": [
    "#### `seaborn`\n",
    "\n",
    "Сделайте то же самое, но используя `seaborn`:"
   ]
  },
  {
   "cell_type": "code",
   "execution_count": 37,
   "id": "d96d1d51-8c02-428a-ac41-0f9c65ed2526",
   "metadata": {},
   "outputs": [
    {
     "data": {
      "text/plain": [
       "(217, 5)"
      ]
     },
     "execution_count": 37,
     "metadata": {},
     "output_type": "execute_result"
    }
   ],
   "source": [
    "indicators_data_pivot2019.shape"
   ]
  },
  {
   "cell_type": "code",
   "execution_count": 34,
   "id": "a6b33651-6a60-446f-9e88-0277e9c26437",
   "metadata": {},
   "outputs": [
    {
     "data": {
      "text/html": [
       "<div>\n",
       "<style scoped>\n",
       "    .dataframe tbody tr th:only-of-type {\n",
       "        vertical-align: middle;\n",
       "    }\n",
       "\n",
       "    .dataframe tbody tr th {\n",
       "        vertical-align: top;\n",
       "    }\n",
       "\n",
       "    .dataframe thead th {\n",
       "        text-align: right;\n",
       "    }\n",
       "</style>\n",
       "<table border=\"1\" class=\"dataframe\">\n",
       "  <thead>\n",
       "    <tr style=\"text-align: right;\">\n",
       "      <th></th>\n",
       "      <th>country_name</th>\n",
       "      <th>variable</th>\n",
       "      <th>value</th>\n",
       "    </tr>\n",
       "  </thead>\n",
       "  <tbody>\n",
       "    <tr>\n",
       "      <th>0</th>\n",
       "      <td>Afghanistan</td>\n",
       "      <td>grp_percap</td>\n",
       "      <td>500.522664</td>\n",
       "    </tr>\n",
       "    <tr>\n",
       "      <th>1</th>\n",
       "      <td>Albania</td>\n",
       "      <td>grp_percap</td>\n",
       "      <td>5396.215864</td>\n",
       "    </tr>\n",
       "    <tr>\n",
       "      <th>2</th>\n",
       "      <td>Algeria</td>\n",
       "      <td>grp_percap</td>\n",
       "      <td>4022.150184</td>\n",
       "    </tr>\n",
       "    <tr>\n",
       "      <th>3</th>\n",
       "      <td>American Samoa</td>\n",
       "      <td>grp_percap</td>\n",
       "      <td>13672.576657</td>\n",
       "    </tr>\n",
       "    <tr>\n",
       "      <th>4</th>\n",
       "      <td>Andorra</td>\n",
       "      <td>grp_percap</td>\n",
       "      <td>41327.502031</td>\n",
       "    </tr>\n",
       "  </tbody>\n",
       "</table>\n",
       "</div>"
      ],
      "text/plain": [
       "     country_name    variable         value\n",
       "0     Afghanistan  grp_percap    500.522664\n",
       "1         Albania  grp_percap   5396.215864\n",
       "2         Algeria  grp_percap   4022.150184\n",
       "3  American Samoa  grp_percap  13672.576657\n",
       "4         Andorra  grp_percap  41327.502031"
      ]
     },
     "execution_count": 34,
     "metadata": {},
     "output_type": "execute_result"
    }
   ],
   "source": [
    "indicators_data_pivot2019_melt = indicators_data_pivot2019.melt(id_vars=['country_name'], value_vars=columns)\n",
    "indicators_data_pivot2019_melt.head()"
   ]
  },
  {
   "cell_type": "code",
   "execution_count": 38,
   "id": "f202a4f7-78a3-4674-a954-8495fbf4590e",
   "metadata": {},
   "outputs": [
    {
     "data": {
      "text/html": [
       "<div>\n",
       "<style scoped>\n",
       "    .dataframe tbody tr th:only-of-type {\n",
       "        vertical-align: middle;\n",
       "    }\n",
       "\n",
       "    .dataframe tbody tr th {\n",
       "        vertical-align: top;\n",
       "    }\n",
       "\n",
       "    .dataframe thead th {\n",
       "        text-align: right;\n",
       "    }\n",
       "</style>\n",
       "<table border=\"1\" class=\"dataframe\">\n",
       "  <thead>\n",
       "    <tr style=\"text-align: right;\">\n",
       "      <th></th>\n",
       "      <th>country_name</th>\n",
       "      <th>year</th>\n",
       "      <th>grp_percap</th>\n",
       "      <th>life_exp</th>\n",
       "      <th>population</th>\n",
       "    </tr>\n",
       "  </thead>\n",
       "  <tbody>\n",
       "    <tr>\n",
       "      <th>0</th>\n",
       "      <td>Afghanistan</td>\n",
       "      <td>2019</td>\n",
       "      <td>500.522664</td>\n",
       "      <td>63.565</td>\n",
       "      <td>37769499</td>\n",
       "    </tr>\n",
       "  </tbody>\n",
       "</table>\n",
       "</div>"
      ],
      "text/plain": [
       "  country_name  year  grp_percap  life_exp  population\n",
       "0  Afghanistan  2019  500.522664    63.565    37769499"
      ]
     },
     "execution_count": 38,
     "metadata": {},
     "output_type": "execute_result"
    }
   ],
   "source": [
    "indicators_data_pivot2019[indicators_data_pivot2019['country_name'] == 'Afghanistan']"
   ]
  },
  {
   "cell_type": "code",
   "execution_count": 39,
   "id": "f1e7393c-6e19-46de-9a91-adc640bb87d3",
   "metadata": {},
   "outputs": [
    {
     "data": {
      "text/html": [
       "<div>\n",
       "<style scoped>\n",
       "    .dataframe tbody tr th:only-of-type {\n",
       "        vertical-align: middle;\n",
       "    }\n",
       "\n",
       "    .dataframe tbody tr th {\n",
       "        vertical-align: top;\n",
       "    }\n",
       "\n",
       "    .dataframe thead th {\n",
       "        text-align: right;\n",
       "    }\n",
       "</style>\n",
       "<table border=\"1\" class=\"dataframe\">\n",
       "  <thead>\n",
       "    <tr style=\"text-align: right;\">\n",
       "      <th></th>\n",
       "      <th>country_name</th>\n",
       "      <th>variable</th>\n",
       "      <th>value</th>\n",
       "    </tr>\n",
       "  </thead>\n",
       "  <tbody>\n",
       "    <tr>\n",
       "      <th>0</th>\n",
       "      <td>Afghanistan</td>\n",
       "      <td>grp_percap</td>\n",
       "      <td>5.005227e+02</td>\n",
       "    </tr>\n",
       "    <tr>\n",
       "      <th>217</th>\n",
       "      <td>Afghanistan</td>\n",
       "      <td>life_exp</td>\n",
       "      <td>6.356500e+01</td>\n",
       "    </tr>\n",
       "    <tr>\n",
       "      <th>434</th>\n",
       "      <td>Afghanistan</td>\n",
       "      <td>population</td>\n",
       "      <td>3.776950e+07</td>\n",
       "    </tr>\n",
       "  </tbody>\n",
       "</table>\n",
       "</div>"
      ],
      "text/plain": [
       "    country_name    variable         value\n",
       "0    Afghanistan  grp_percap  5.005227e+02\n",
       "217  Afghanistan    life_exp  6.356500e+01\n",
       "434  Afghanistan  population  3.776950e+07"
      ]
     },
     "execution_count": 39,
     "metadata": {},
     "output_type": "execute_result"
    }
   ],
   "source": [
    "indicators_data_pivot2019_melt[indicators_data_pivot2019_melt['country_name'] == 'Afghanistan']"
   ]
  },
  {
   "cell_type": "code",
   "execution_count": 35,
   "id": "eee2b27b-53a2-4626-9a1f-1498d561d8be",
   "metadata": {},
   "outputs": [
    {
     "data": {
      "image/png": "[encoded data removed]",
      "text/plain": [
       "<Figure size 900x300 with 3 Axes>"
      ]
     },
     "metadata": {},
     "output_type": "display_data"
    }
   ],
   "source": [
    "grid = sns.FacetGrid(\n",
    "    data=indicators_data_pivot2019_melt,\n",
    "    col='variable',\n",
    "    col_wrap=3,\n",
    "    sharex=False,\n",
    "    sharey=False,\n",
    ")\n",
    "\n",
    "grid.map(sns.histplot, 'value', bins=20);"
   ]
  },
  {
   "cell_type": "code",
   "execution_count": 20,
   "id": "0e283476-99c5-45a0-bf00-916b5b29d70a",
   "metadata": {},
   "outputs": [
    {
     "name": "stderr",
     "output_type": "stream",
     "text": [
      "/Users/iadovgopolyi/teaching/lib/python3.11/site-packages/seaborn/axisgrid.py:718: UserWarning: Using the boxplot function without specifying `order` is likely to produce an incorrect plot.\n",
      "  warnings.warn(warning)\n"
     ]
    },
    {
     "data": {
      "image/png": "[encoded data removed]",
      "text/plain": [
       "<Figure size 900x300 with 3 Axes>"
      ]
     },
     "metadata": {},
     "output_type": "display_data"
    }
   ],
   "source": [
    "grid = sns.FacetGrid(\n",
    "    data=indicators_data_pivot2019_melt,\n",
    "    col='variable',\n",
    "    col_wrap=3,\n",
    "    sharex=False,\n",
    "    sharey=False,\n",
    ")\n",
    "\n",
    "grid.map(sns.boxplot, 'value');"
   ]
  },
  {
   "cell_type": "markdown",
   "id": "b7c92c20-c6a3-4893-864f-3e1d5310fecb",
   "metadata": {},
   "source": [
    "Концепция `matplotlib` - много свободы, все рисуем сами из отдельных элементов. Концепция `seaborn` - есть некоторые правила, по которым рисуются графики."
   ]
  }
 ],
 "metadata": {
  "colab": {
   "provenance": []
  },
  "kernelspec": {
   "display_name": "Python 3 (ipykernel)",
   "language": "python",
   "name": "python3"
  },
  "language_info": {
   "codemirror_mode": {
    "name": "ipython",
    "version": 3
   },
   "file_extension": ".py",
   "mimetype": "text/x-python",
   "name": "python",
   "nbconvert_exporter": "python",
   "pygments_lexer": "ipython3",
   "version": "3.11.6"
  }
 },
 "nbformat": 4,
 "nbformat_minor": 5
}
