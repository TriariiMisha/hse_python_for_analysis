{
 "cells": [
  {
   "cell_type": "markdown",
   "id": "2b2930a7",
   "metadata": {},
   "source": [
    "# SQL"
   ]
  },
  {
   "cell_type": "markdown",
   "id": "4bf54b44",
   "metadata": {},
   "source": [
    "## Ссылки"
   ]
  },
  {
   "cell_type": "markdown",
   "id": "e0e44659",
   "metadata": {},
   "source": [
    "Основной синтаксис в конце [лекции](https://docs.google.com/presentation/d/14g4OHrgpVYGG7f5XZX-E0PBdptOFCCbAGDfq3IZIqdY/edit?usp=share_link)"
   ]
  },
  {
   "cell_type": "markdown",
   "id": "ae54f359",
   "metadata": {},
   "source": [
    "https://dbfiddle.uk/ -- одна из онлайн сред, в которой можно работать"
   ]
  },
  {
   "cell_type": "markdown",
   "id": "3fef7e64",
   "metadata": {},
   "source": [
    "https://www.mysqltutorial.org/install-mysql/ -- тутор по установке MySQL сервера и клиента на вашей машине\n",
    "\n",
    "https://www.mysqltutorial.org/mysql-basics/ -- хороший разбор базовых операций с SQL"
   ]
  },
  {
   "cell_type": "markdown",
   "id": "f73e1dc2",
   "metadata": {},
   "source": [
    "Возможные среды для локальной работы с MySQL:\n",
    "- [MySQL WorkBench](https://www.mysql.com/products/workbench/)\n",
    "- [DBeaver](https://dbeaver.io/)\n",
    "- [DataGrip](https://www.jetbrains.com/ru-ru/datagrip/)\n",
    "- Плагин для VSCode"
   ]
  },
  {
   "cell_type": "markdown",
   "id": "ac26d189",
   "metadata": {},
   "source": [
    "*Для вашей домашней работы вам не потребуется делать коннект к базе из Python, достаточно будет просто работать в отдельной среде*\n",
    "\n",
    "Однако, если вам интересно разобраться, посмотрите в сторону подключения к базе с помощью pyODBC или mys Когда все будет настроено, запуск запроса к базе данных из Python будет выглядеть следующим образом:\n",
    "\n",
    "```Python\n",
    "import pyodbc # or import mysql\n",
    "import pandas as pd\n",
    "\n",
    "con = pyodbc.connect(...)  # передаются аргументы для подключения к вашей базе данных\n",
    "# con = mysql.connector.connect(...)\n",
    "\n",
    "\n",
    "sql = \"\"\"\n",
    "    ...\n",
    "\"\"\"  # ваш запрос\n",
    "\n",
    "res = pd.read_sql(sql, con)  # запрос в формате строки -- первый аргумент, объект коннекшена -- второй \n",
    "```\n",
    "\n",
    "Некоторые ссылки, которые помогут разобраться:\n",
    "- https://www.geeksforgeeks.org/python-mysql/\n",
    "- https://dev.mysql.com/doc/connector-python/en/connector-python-introduction.html\n",
    "- https://learn.microsoft.com/en-us/sql/connect/python/pyodbc/python-sql-driver-pyodbc?view=sql-server-ver16 -- только понадобится другой драйвер (для mySQL, а не MicrosoftSQL)\n",
    "- https://youtu.be/eDXX5evRgQw"
   ]
  },
  {
   "cell_type": "markdown",
   "id": "6f5eda7b",
   "metadata": {},
   "source": [
    "## Поехали"
   ]
  },
  {
   "cell_type": "markdown",
   "id": "cb847128",
   "metadata": {},
   "source": [
    "### Создадим базу и таблицу в ней"
   ]
  },
  {
   "cell_type": "markdown",
   "id": "ab704f95",
   "metadata": {
    "ExecuteTime": {
     "end_time": "2023-02-17T01:17:37.232066Z",
     "start_time": "2023-02-17T01:17:37.230119Z"
    }
   },
   "source": [
    "Создадим свою базу данных, добавим туда таблицу и наполним ее данными"
   ]
  },
  {
   "cell_type": "markdown",
   "id": "919fc392",
   "metadata": {},
   "source": [
    "```sql\n",
    "show databases;  # смотрим на все доступные базы данных\n",
    "\n",
    "create database knad_222_ftw;  # создаем свою бд\n",
    "\n",
    "```\n",
    "\n",
    "![](img/sql_example_1.png)"
   ]
  },
  {
   "cell_type": "markdown",
   "id": "69325e86",
   "metadata": {},
   "source": [
    "```sql\n",
    "\n",
    "use knad_222_ftw;  # используем нашу базу данных\n",
    "\n",
    "create table participants (\n",
    "    student_id int(10) not null primary key, -- можно дописать auto_increment, тогда индекс будет увеличиваться автоматически\n",
    "    name varchar(30) not null,\n",
    "    age int\n",
    ");\n",
    "\n",
    "\n",
    "insert into participants(student_id, name, age)  -- добавляем один ряд в таблицу\n",
    "    values (1, 'habilis', 42);\n",
    "```"
   ]
  },
  {
   "cell_type": "markdown",
   "id": "9a88282c",
   "metadata": {},
   "source": [
    "![](img/sql_example_2.png)"
   ]
  },
  {
   "cell_type": "markdown",
   "id": "9eaa7024",
   "metadata": {},
   "source": [
    "```sql\n",
    "\n",
    "insert into participants(student_id, name, age)\n",
    "    values(2, Kirill, 1337)\n",
    "    values(3, Denis, 25);\n",
    "    -- values(...)  можно добавлять много \n",
    "\n",
    "select * from participants;\n",
    "\n",
    "drop table (if exists) participants;  -- удаляем таблицу. Если таблицы уже не существует и не стоит условия if exists, будет ошибка\n",
    "```"
   ]
  },
  {
   "cell_type": "markdown",
   "id": "fa82a58a",
   "metadata": {},
   "source": [
    "![](img/sql_example_3.png)"
   ]
  },
  {
   "cell_type": "markdown",
   "id": "61a5aec8",
   "metadata": {
    "ExecuteTime": {
     "end_time": "2023-02-17T12:15:37.597647Z",
     "start_time": "2023-02-17T12:15:37.595904Z"
    }
   },
   "source": [
    "### Sakila"
   ]
  },
  {
   "cell_type": "markdown",
   "id": "6dce1453",
   "metadata": {},
   "source": [
    "Поработаем с датасетом [Sakila](https://dev.mysql.com/doc/sakila/en/sakila-structure-tables.html), описывающим данные сервиса проката фильмов"
   ]
  },
  {
   "cell_type": "markdown",
   "id": "56f86303",
   "metadata": {},
   "source": [
    "*В dffiddle.uk выбрать MySQL, и в верхнем селекторе вместо \"No sample DB\" выбрать \"Sakila\"*"
   ]
  },
  {
   "cell_type": "markdown",
   "id": "f6632c2c",
   "metadata": {},
   "source": [
    "Template почти любого запроса Select:"
   ]
  },
  {
   "cell_type": "markdown",
   "id": "9a5e0639",
   "metadata": {
    "ExecuteTime": {
     "end_time": "2023-02-17T01:13:55.450718Z",
     "start_time": "2023-02-17T01:13:55.448433Z"
    }
   },
   "source": [
    "```sql\n",
    "\n",
    "```"
   ]
  },
  {
   "cell_type": "markdown",
   "id": "e095bd20",
   "metadata": {},
   "source": [
    "Сохраненная сессия с семинара -- https://dbfiddle.uk/jS1lGrO4"
   ]
  },
  {
   "cell_type": "markdown",
   "id": "644d8292",
   "metadata": {},
   "source": [
    "1. Посмотрим, какие у нас есть таблицы\n",
    "\n",
    "```sql\n",
    "show databases;\n",
    "use sakila;\n",
    "show tables;\n",
    "```\n",
    "\n",
    "2. Какие актеры у нас есть в базе. Применим к ним условие.\n",
    "\n",
    "```sql\n",
    "SELECT\n",
    "  *\n",
    "FROM actor\n",
    "WHERE\n",
    "  first_name = \"JENNIFER\"\n",
    "  AND actor_id > 2\n",
    ";\n",
    "```\n",
    "\n",
    "3. Сколько различных имен у актеров?\n",
    "\n",
    "Вариант 1\n",
    "```sql\n",
    "SELECT\n",
    "  COUNT(DISTINCT first_name) AS first_name_nunique\n",
    "FROM actor\n",
    ";\n",
    "```\n",
    "\n",
    "Вариант 2\n",
    "```sql\n",
    "SELECT\n",
    "  COUNT(*)\n",
    "FROM (\n",
    "  SELECT\n",
    "    first_name AS name_unique,\n",
    "    COUNT(*) AS name_count,\n",
    "    COUNT(1) AS name_count2,\n",
    "    2 AS some_const\n",
    "  FROM actor\n",
    "  GROUP BY first_name\n",
    ") t\n",
    ";\n",
    "```\n",
    "\n",
    "4. Сколько каждого имени?\n",
    "\n",
    "```sql\n",
    "SELECT\n",
    "    first_name AS name_unique,\n",
    "    COUNT(1) AS name_count2\n",
    "FROM actor\n",
    "GROUP BY first_name\n",
    ";\n",
    "```\n",
    "\n",
    "5. Какая средняя, минимальная и максимальные длины у фильмов в зависимости от их рейтинга и года выхода? Сохраним агрегат в таблицу\n",
    "\n",
    "```sql\n",
    "SELECT\n",
    "  release_year AS release_year\n",
    "  , rating AS rating\n",
    "  , MIN(length) AS min_length\n",
    "  , AVG(length) AS average_length\n",
    "  , MAX(length) AS max_length\n",
    "FROM film\n",
    "GROUP BY release_year, rating\n",
    ";\n",
    "```"
   ]
  },
  {
   "cell_type": "markdown",
   "id": "d5e18091",
   "metadata": {},
   "source": [
    "6. Отфильтруем данные выше по некоторому условию на среднюю длину фильма.\n",
    "\n",
    "Вариант 1\n",
    "```sql\n",
    "SELECT\n",
    "  release_year AS release_year\n",
    "  , rating AS rating\n",
    "  , MIN(length) AS min_length\n",
    "  , AVG(length) AS average_length\n",
    "  , MAX(length) AS max_length\n",
    "FROM film\n",
    "GROUP BY release_year, rating\n",
    "HAVING average_length < 115\n",
    ";\n",
    "```\n",
    "\n",
    "Вариант 2\n",
    "```sql\n",
    "SELECT\n",
    "  *\n",
    "FROM (\n",
    "  SELECT\n",
    "    release_year AS release_year\n",
    "    , rating AS rating\n",
    "    , MIN(length) AS min_length\n",
    "    , AVG(length) AS average_length\n",
    "    , MAX(length) AS max_length\n",
    "  FROM film\n",
    "  GROUP BY release_year, rating\n",
    ") agg\n",
    "WHERE agg.average_length < 115\n",
    "```"
   ]
  },
  {
   "cell_type": "markdown",
   "id": "f6b875e0",
   "metadata": {},
   "source": [
    "7. Посмотрим на страны и города в нашей базе. Добавим колонку с названием страны к таблице с городами.\n",
    "\n",
    "Если хотим оставить все данные:\n",
    "```sql\n",
    "SELECT\n",
    "  ci.city_id AS city_id\n",
    "  , ci.city AS city\n",
    "  , ci.country_id AS country_id\n",
    "  , ci.last_update AS last_update\n",
    "  , co.country AS country\n",
    "FROM city AS ci\n",
    "LEFT JOIN country AS co\n",
    "ON\n",
    "  ci.country_id = co.country_id\n",
    "UNION\n",
    "SELECT\n",
    "  ci.city_id AS city_id\n",
    "  , ci.city AS city\n",
    "  , ci.country_id AS country_id\n",
    "  , ci.last_update AS last_update\n",
    "  , co.country AS country\n",
    "FROM city AS ci\n",
    "RIGHT JOIN country AS co\n",
    "ON\n",
    "  ci.country_id = co.country_id\n",
    ";\n",
    "```\n"
   ]
  },
  {
   "cell_type": "markdown",
   "id": "0a168c1f",
   "metadata": {},
   "source": [
    "Почитайте для понимания разных видов join:\n",
    "\n",
    "- https://www.w3schools.com/mysql/mysql_join.asp \n",
    "\n",
    "- https://www.mysqltutorial.org/mysql-join/\n",
    "\n",
    "![](https://user-images.githubusercontent.com/47733530/152173611-fe092793-7eb2-4b1a-a4ce-c0ed807c1b6e.png)"
   ]
  },
  {
   "cell_type": "markdown",
   "id": "047c91fc",
   "metadata": {},
   "source": [
    "8. Посмотрим на то, каким количеством городов представлены разные страны.\n",
    "\n",
    "```sql\n",
    "SELECT\n",
    "  ci_co.country AS country,\n",
    "  COUNT(ci_co.city) AS city_count\n",
    "FROM (\n",
    "  SELECT\n",
    "    co.country AS country\n",
    "    , ci.city AS city\n",
    "  FROM city AS ci\n",
    "  INNER JOIN country AS co\n",
    "  ON\n",
    "    ci.country_id = co.country_id\n",
    ") ci_co\n",
    "GROUP BY ci_co.country\n",
    ";\n",
    "```"
   ]
  },
  {
   "cell_type": "markdown",
   "id": "e77c365c",
   "metadata": {},
   "source": [
    "9. Сделаем версию запроса выше с фильтрацией данных, где городов меньше 7. Сделаем двумя способами, с помощью [Having](https://www.mysqltutorial.org/mysql-having.aspx) и вложенного запроса\n",
    "\n",
    "```sql\n",
    "SELECT\n",
    "  co.country AS country,\n",
    "  COUNT(ci.city) AS city_count\n",
    "FROM city AS ci\n",
    "INNER JOIN country AS co\n",
    "ON\n",
    "  ci.country_id = co.country_id\n",
    "GROUP BY co.country\n",
    "HAVING city_count < 7\n",
    ";\n",
    "```"
   ]
  },
  {
   "cell_type": "markdown",
   "id": "54413a24",
   "metadata": {},
   "source": [
    "Что еще можно посмотреть в базе для практики:\n",
    "\n",
    "    - Сколько денег потратили пользователи на аренду фильмов всего? В разрезе по месяцам?\n",
    "    - Из каких стран у нас больше вего покупателей?\n",
    "    - Жители каких городов в среднем тратили больше всего денег?\n",
    "    "
   ]
  },
  {
   "cell_type": "markdown",
   "id": "75e2dbf0",
   "metadata": {},
   "source": [
    "И еще несколько примеров запросов с решениями ([source](https://datamastery.gitlab.io/exercises/sakila-queries.html)):\n",
    "    \n",
    "```sql\n",
    "--  Which actors have the first name 'Scarlett'\n",
    "\n",
    "select * from actor where first_name = 'Scarlett';\n",
    "\n",
    "--  Which actors have the last name 'Johansson'\n",
    "\n",
    "select * from actor where last_name like 'Johansson';\n",
    "\n",
    "--  How many distinct actors last names are there?\n",
    "\n",
    "select count(distinct last_name) from actor;\n",
    "\n",
    "--  Which last names are not repeated?\n",
    "\n",
    "select last_name from actor group by last_name having count(*) = 1;\n",
    "\n",
    "--  Which last names appear more than once?\n",
    "\n",
    "select last_name from actor group by last_name having count(*) > 1;\n",
    "\n",
    "--  Which actor has appeared in the most films?\n",
    "\n",
    "select actor.actor_id, actor.first_name, actor.last_name,\n",
    "       count(actor_id) as film_count\n",
    "from actor join film_actor using (actor_id)\n",
    "group by actor_id\n",
    "order by film_count desc\n",
    "limit 1;\n",
    "\n",
    "--  Is 'Academy Dinosaur' available for rent from Store 1?\n",
    "\n",
    "--  Step 1: which copies are at Store 1?\n",
    "\n",
    "select film.film_id, film.title, store.store_id, inventory.inventory_id\n",
    "from inventory join store using (store_id) join film using (film_id)\n",
    "where film.title = 'Academy Dinosaur' and store.store_id = 1;\n",
    "\n",
    "--  Step 2: pick an inventory_id to rent:\n",
    "\n",
    "select inventory.inventory_id\n",
    "from inventory join store using (store_id)\n",
    "     join film using (film_id)\n",
    "     join rental using (inventory_id)\n",
    "where film.title = 'Academy Dinosaur'\n",
    "      and store.store_id = 1\n",
    "      and not exists (select * from rental\n",
    "                      where rental.inventory_id = inventory.inventory_id\n",
    "                      and rental.return_date is null);\n",
    "\n",
    "--  Insert a record to represent Mary Smith renting 'Academy Dinosaur' from Mike Hillyer at Store 1 today .\n",
    "\n",
    "insert into rental (rental_date, inventory_id, customer_id, staff_id)\n",
    "values (NOW(), 1, 1, 1);\n",
    "\n",
    "--  When is 'Academy Dinosaur' due?\n",
    "\n",
    "--  Step 1: what is the rental duration?\n",
    "\n",
    "select rental_duration from film where film_id = 1;\n",
    "\n",
    "--  Step 2: Which rental are we referring to -- the last one.\n",
    "\n",
    "select rental_id from rental order by rental_id desc limit 1;\n",
    "\n",
    "--  Step 3: add the rental duration to the rental date.\n",
    "\n",
    "select rental_date,\n",
    "       rental_date + interval\n",
    "                   (select rental_duration from film where film_id = 1) day\n",
    "                   as due_date\n",
    "from rental\n",
    "where rental_id = (select rental_id from rental order by rental_id desc limit 1);\n",
    "\n",
    "--  What is that average length of all the films in the sakila DB?\n",
    "\n",
    "select avg(length) from film;\n",
    "\n",
    "--  What is the average length of films by category?\n",
    "\n",
    "select category.name, avg(length)\n",
    "from film join film_category using (film_id) join category using (category_id)\n",
    "group by category.name\n",
    "order by avg(length) desc;\n",
    "\n",
    "-- Which film categories are long?\n",
    "\n",
    "select category.name, avg(length)\n",
    "from film join film_category using (film_id) join category using (category_id)\n",
    "group by category.name\n",
    "having avg(length) > (select avg(length) from film)\n",
    "order by avg(length) desc;\n",
    "\n",
    "--  Why does this query return the empty set?\n",
    "\n",
    "select * from film natural join inventory;\n",
    "\n",
    "```"
   ]
  }
 ],
 "metadata": {
  "kernelspec": {
   "display_name": "Python 3 (ipykernel)",
   "language": "python",
   "name": "python3"
  },
  "language_info": {
   "codemirror_mode": {
    "name": "ipython",
    "version": 3
   },
   "file_extension": ".py",
   "mimetype": "text/x-python",
   "name": "python",
   "nbconvert_exporter": "python",
   "pygments_lexer": "ipython3",
   "version": "3.13.1"
  },
  "toc": {
   "base_numbering": 1,
   "nav_menu": {},
   "number_sections": true,
   "sideBar": true,
   "skip_h1_title": false,
   "title_cell": "Table of Contents",
   "title_sidebar": "Contents",
   "toc_cell": false,
   "toc_position": {},
   "toc_section_display": true,
   "toc_window_display": false
  },
  "varInspector": {
   "cols": {
    "lenName": 16,
    "lenType": 16,
    "lenVar": 40
   },
   "kernels_config": {
    "python": {
     "delete_cmd_postfix": "",
     "delete_cmd_prefix": "del ",
     "library": "var_list.py",
     "varRefreshCmd": "print(var_dic_list())"
    },
    "r": {
     "delete_cmd_postfix": ") ",
     "delete_cmd_prefix": "rm(",
     "library": "var_list.r",
     "varRefreshCmd": "cat(var_dic_list()) "
    }
   },
   "types_to_exclude": [
    "module",
    "function",
    "builtin_function_or_method",
    "instance",
    "_Feature"
   ],
   "window_display": false
  }
 },
 "nbformat": 4,
 "nbformat_minor": 5
}
