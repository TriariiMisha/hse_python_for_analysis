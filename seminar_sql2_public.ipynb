{
 "cells": [
  {
   "cell_type": "markdown",
   "metadata": {
    "id": "xKJnHv8x2j5Y"
   },
   "source": [
    "### Задача 0: Подключение и работа с SQLite (0б)"
   ]
  },
  {
   "cell_type": "markdown",
   "metadata": {
    "id": "83RIogmRxdZH"
   },
   "source": [
    "\n",
    "1. Создайте базу данных `school.db` и создайте таблицу `students` со следующими полями:\n",
    "   - `id` (INTEGER, PRIMARY KEY, AUTOINCREMENT),\n",
    "   - `name` (TEXT),\n",
    "   - `grade` (INTEGER).\n",
    "2. Вставьте данные о трёх студентах:\n",
    "   - `Alice`, оценка: 85;\n",
    "   - `Bob`, оценка: 90;\n",
    "   - `Charlie`, оценка: 75.\n",
    "3. Выведите на экран всех студентов с оценкой выше 80.\n",
    "4. Обновите оценку студента `Charlie` на 80.\n",
    "5. Удалите студента `Bob`.\n",
    "6. Выведите всю информацию из базы данных.\n"
   ]
  },
  {
   "cell_type": "code",
   "execution_count": null,
   "metadata": {
    "colab": {
     "base_uri": "https://localhost:8080/"
    },
    "id": "-kb9BT2fzDvU",
    "outputId": "f9a02eaa-5e5c-48cb-cf88-82bb93cdb0db"
   },
   "outputs": [
    {
     "name": "stdout",
     "output_type": "stream",
     "text": [
      "Студенты с оценкой выше 80:\n",
      "(1, 'Alice', 85)\n",
      "(2, 'Bob', 90)\n",
      "Оставшиеся студенты:\n",
      "(1, 'Alice', 85)\n",
      "(3, 'Charlie', 80)\n"
     ]
    }
   ],
   "source": [
    "import sqlite3\n",
    "\n",
    "# Подключение к базе данных\n",
    "connection = sqlite3.connect(\"school.db\")\n",
    "cursor = connection.cursor()\n",
    "\n",
    "# Создание таблицы\n",
    "cursor.execute(\"\"\"\n",
    "CREATE TABLE IF NOT EXISTS students (\n",
    "    id INTEGER PRIMARY KEY AUTOINCREMENT,\n",
    "    name TEXT NOT NULL,\n",
    "    grade INTEGER NOT NULL\n",
    ")\n",
    "\"\"\")\n",
    "\n",
    "# Вставка данных\n",
    "cursor.executemany(\"INSERT INTO students (name, grade) VALUES (?, ?)\", [\n",
    "    (\"Alice\", 85),\n",
    "    (\"Bob\", 90),\n",
    "    (\"Charlie\", 75)\n",
    "])\n",
    "connection.commit()\n",
    "\n",
    "# Вывод студентов с оценкой выше 80\n",
    "cursor.execute(\"SELECT * FROM students WHERE grade > 80\")\n",
    "print(\"Студенты с оценкой выше 80:\")\n",
    "for row in cursor.fetchall():\n",
    "    print(row)\n",
    "\n",
    "# Обновление оценки Charlie\n",
    "cursor.execute(\"UPDATE students SET grade = 80 WHERE name = 'Charlie'\")\n",
    "connection.commit()\n",
    "\n",
    "# Удаление Bob\n",
    "cursor.execute(\"DELETE FROM students WHERE name = 'Bob'\")\n",
    "connection.commit()\n",
    "\n",
    "# Проверка оставшихся студентов\n",
    "cursor.execute(\"SELECT * FROM students\")\n",
    "print(\"Оставшиеся студенты:\")\n",
    "for row in cursor.fetchall():\n",
    "    print(row)\n",
    "\n",
    "connection.close()"
   ]
  },
  {
   "cell_type": "markdown",
   "metadata": {
    "id": "4k2tRFbY2r2w"
   },
   "source": [
    "### Задача 3: Использование индексов (0.5 б)"
   ]
  },
  {
   "cell_type": "markdown",
   "metadata": {
    "id": "QmqKg1kHyC0c"
   },
   "source": [
    "1. Создайте SQLite-базу данных `large_library.db` с таблицей `books`:\n",
    "   - `id` (INTEGER, PRIMARY KEY, AUTOINCREMENT),\n",
    "   - `title` (TEXT),\n",
    "   - `author` (TEXT),\n",
    "   - `year` (INTEGER).\n",
    "2. Вставьте 1 миллион случайных записей с помощью Python.\n",
    "3. Создайте индекс на колонке `author`.\n",
    "4. Напишите запрос для поиска всех книг автора `\"Author_100\"`. Замерьте время выполнения запроса до и после создания индекса."
   ]
  },
  {
   "cell_type": "code",
   "execution_count": null,
   "metadata": {
    "colab": {
     "base_uri": "https://localhost:8080/"
    },
    "id": "YrZru7nJ0TVb",
    "outputId": "97906d6f-742e-4b7c-dc09-9878aa721e24"
   },
   "outputs": [
    {
     "name": "stdout",
     "output_type": "stream",
     "text": [
      "Время выполнения без индекса: 0.0928 секунд\n",
      "Время выполнения с индексом: 0.0038 секунд\n"
     ]
    }
   ],
   "source": [
    "import sqlite3\n",
    "import time\n",
    "import random\n",
    "\n",
    "# Подключение к базе данных\n",
    "connection = sqlite3.connect(\"large_library.db\")\n",
    "cursor = connection.cursor()\n",
    "\n",
    "# Создание таблицы\n",
    "cursor.execute(\"\"\"\n",
    "CREATE TABLE IF NOT EXISTS books (\n",
    "    id INTEGER PRIMARY KEY AUTOINCREMENT,\n",
    "    title TEXT NOT NULL,\n",
    "    author TEXT NOT NULL,\n",
    "    year INTEGER NOT NULL\n",
    ")\n",
    "\"\"\")\n",
    "\n",
    "# Вставка данных\n",
    "if not cursor.execute(\"SELECT COUNT(*) FROM books\").fetchone()[0]:\n",
    "    books = [\n",
    "        (f\"Book_{i}\", f\"Author_{random.randint(1, 1000)}\", random.randint(1900, 2023))\n",
    "        for i in range(1, 1000001)\n",
    "    ]\n",
    "    cursor.executemany(\"INSERT INTO books (title, author, year) VALUES (?, ?, ?)\", books)\n",
    "    connection.commit()\n",
    "\n",
    "# Замер времени до индекса\n",
    "start = time.time()\n",
    "cursor.execute(\"SELECT * FROM books WHERE author = 'Author_100'\")\n",
    "cursor.fetchall()\n",
    "print(f\"Время выполнения без индекса: {time.time() - start:.4f} секунд\")\n",
    "\n",
    "# Создание индекса\n",
    "cursor.execute(\"CREATE INDEX idx_author ON books (author)\")\n",
    "connection.commit()\n",
    "\n",
    "# Замер времени после индекса\n",
    "start = time.time()\n",
    "cursor.execute(\"SELECT * FROM books WHERE author = 'Author_100'\")\n",
    "cursor.fetchall()\n",
    "print(f\"Время выполнения с индексом: {time.time() - start:.4f} секунд\")\n",
    "\n",
    "connection.close()"
   ]
  },
  {
   "cell_type": "markdown",
   "metadata": {
    "id": "Qb1OsENI2tj6"
   },
   "source": [
    "### Задача 4: Использование ограничений (constraints)  (0.5 б)"
   ]
  },
  {
   "cell_type": "markdown",
   "metadata": {
    "id": "dkU8b2_-yKbG"
   },
   "source": [
    "1. Создайте базу данных `university.db` с таблицей `students`:\n",
    "   - `id` (INTEGER, PRIMARY KEY, AUTOINCREMENT),\n",
    "   - `name` (TEXT, NOT NULL),\n",
    "   - `email` (TEXT, UNIQUE),\n",
    "   - `age` (INTEGER, CHECK(age >= 18)).\n",
    "2. Попробуйте вставить записи:\n",
    "   - `Alice`, `alice@example.com`, 20;\n",
    "   - `Bob`, `bob@example.com`, 17 (должна вызвать ошибку CHECK);\n",
    "   - `Charlie`, `alice@example.com`, 22 (должна вызвать ошибку UNIQUE).\n",
    "3. Добавьте индекс на поле `name` для ускорения поиска.\n",
    "4. Напишите запрос для выборки студентов, чей возраст больше 19."
   ]
  },
  {
   "cell_type": "code",
   "execution_count": null,
   "metadata": {
    "colab": {
     "base_uri": "https://localhost:8080/"
    },
    "id": "NR4xR8dw0kDG",
    "outputId": "fbf0f51a-87bf-46f2-c0b1-95e20c50f63c"
   },
   "outputs": [
    {
     "name": "stdout",
     "output_type": "stream",
     "text": [
      "Ошибка вставки: UNIQUE constraint failed: students.email\n",
      "Студенты старше 19 лет:\n",
      "(1, 'Alice', 'alice@example.com', 20)\n"
     ]
    }
   ],
   "source": [
    "import sqlite3\n",
    "\n",
    "# Подключение к базе данных\n",
    "connection = sqlite3.connect(\"university.db\")\n",
    "cursor = connection.cursor()\n",
    "\n",
    "# Создание таблицы с ограничениями\n",
    "cursor.execute(\"\"\"\n",
    "CREATE TABLE IF NOT EXISTS students (\n",
    "    id INTEGER PRIMARY KEY AUTOINCREMENT,\n",
    "    name TEXT NOT NULL,\n",
    "    email TEXT UNIQUE NOT NULL,\n",
    "    age INTEGER CHECK(age >= 18)\n",
    ")\n",
    "\"\"\")\n",
    "\n",
    "# Вставка данных\n",
    "try:\n",
    "    cursor.executemany(\"INSERT INTO students (name, email, age) VALUES (?, ?, ?)\", [\n",
    "        (\"Alice\", \"alice@example.com\", 20),\n",
    "        (\"Bob\", \"bob@example.com\", 17),  # Ошибка CHECK\n",
    "        (\"Charlie\", \"alice@example.com\", 22)  # Ошибка UNIQUE\n",
    "    ])\n",
    "except sqlite3.IntegrityError as e:\n",
    "    print(f\"Ошибка вставки: {e}\")\n",
    "connection.commit()\n",
    "\n",
    "# Создание индекса\n",
    "cursor.execute(\"CREATE INDEX IF NOT EXISTS idx_name ON students (name)\")\n",
    "connection.commit()\n",
    "\n",
    "# Запрос студентов старше 19 лет\n",
    "cursor.execute(\"SELECT * FROM students WHERE age > 19\")\n",
    "print(\"Студенты старше 19 лет:\")\n",
    "for row in cursor.fetchall():\n",
    "    print(row)\n",
    "\n",
    "connection.close()"
   ]
  },
  {
   "cell_type": "markdown",
   "metadata": {
    "id": "lX5EWTRR2w5c"
   },
   "source": [
    "### Задача 2025: Создание базовой ORM-модели и работа с данными (0 б)\n"
   ]
  },
  {
   "cell_type": "markdown",
   "metadata": {
    "id": "d_yK_OOny0bS"
   },
   "source": [
    "1. Создайте базу данных `company.db` с таблицами:\n",
    "   - `departments`:\n",
    "     - `id` (INTEGER, PRIMARY KEY, AUTOINCREMENT),\n",
    "     - `name` (TEXT, UNIQUE, NOT NULL).\n",
    "   - `employees`:\n",
    "     - `id` (INTEGER, PRIMARY KEY, AUTOINCREMENT),\n",
    "     - `name` (TEXT, NOT NULL),\n",
    "     - `salary` (INTEGER, CHECK(salary > 0)),\n",
    "     - `department_id` (INTEGER, ForeignKey(`departments.id`)).\n",
    "2. Добавьте 3 отдела:\n",
    "   - `HR`, `IT`, `Sales`.\n",
    "3. Добавьте по 2 сотрудника в каждый отдел.\n",
    "4. Напишите запросы:\n",
    "   - Вывести всех сотрудников с их отделами.\n",
    "   - Увеличить зарплату сотрудников отдела `IT` на 10%.\n",
    "   - Удалить сотрудников из отдела `Sales`.\n"
   ]
  },
  {
   "cell_type": "code",
   "execution_count": null,
   "metadata": {
    "colab": {
     "base_uri": "https://localhost:8080/"
    },
    "id": "jxZosbPf1kiI",
    "outputId": "f18d8401-a4d7-4151-ae1b-06ec2d3a7a69"
   },
   "outputs": [
    {
     "name": "stdout",
     "output_type": "stream",
     "text": [
      "Все сотрудники с отделами:\n",
      "Alice - HR, зарплата: 5000\n",
      "Bob - HR, зарплата: 4500\n",
      "Charlie - IT, зарплата: 6000\n",
      "David - IT, зарплата: 7000\n",
      "Eve - Sales, зарплата: 4000\n",
      "Frank - Sales, зарплата: 3000\n",
      "Сотрудники после изменений:\n",
      "Alice - HR, зарплата: 5000\n",
      "Bob - HR, зарплата: 4500\n",
      "Charlie - IT, зарплата: 6600.000000000001\n",
      "David - IT, зарплата: 7700.000000000001\n"
     ]
    }
   ],
   "source": [
    "from sqlalchemy import create_engine, Column, Integer, String, ForeignKey, CheckConstraint\n",
    "from sqlalchemy.orm import declarative_base, sessionmaker, relationship\n",
    "\n",
    "Base = declarative_base()\n",
    "\n",
    "# Модели\n",
    "class Department(Base):\n",
    "    __tablename__ = 'departments'\n",
    "    id = Column(Integer, primary_key=True)\n",
    "    name = Column(String, unique=True, nullable=False)\n",
    "    employees = relationship(\"Employee\", back_populates=\"department\")\n",
    "\n",
    "class Employee(Base):\n",
    "    __tablename__ = 'employees'\n",
    "    id = Column(Integer, primary_key=True)\n",
    "    name = Column(String, nullable=False)\n",
    "    salary = Column(Integer, CheckConstraint(\"salary > 0\"), nullable=False)\n",
    "    department_id = Column(Integer, ForeignKey('departments.id'))\n",
    "    department = relationship(\"Department\", back_populates=\"employees\")\n",
    "\n",
    "# Создание базы данных\n",
    "engine = create_engine(\"sqlite:///company.db\")\n",
    "Base.metadata.create_all(engine)\n",
    "\n",
    "Session = sessionmaker(bind=engine)\n",
    "session = Session()\n",
    "\n",
    "# Добавление данных\n",
    "if not session.query(Department).first():\n",
    "    hr = Department(name=\"HR\", employees=[Employee(name=\"Alice\", salary=5000), Employee(name=\"Bob\", salary=4500)])\n",
    "    it = Department(name=\"IT\", employees=[Employee(name=\"Charlie\", salary=6000), Employee(name=\"David\", salary=7000)])\n",
    "    sales = Department(name=\"Sales\", employees=[Employee(name=\"Eve\", salary=4000), Employee(name=\"Frank\", salary=3000)])\n",
    "    session.add_all([hr, it, sales])\n",
    "    session.commit()\n",
    "\n",
    "# Запросы\n",
    "# 1. Вывести всех сотрудников с отделами\n",
    "employees = session.query(Employee).all()\n",
    "print(\"Все сотрудники с отделами:\")\n",
    "for employee in employees:\n",
    "    print(f\"{employee.name} - {employee.department.name}, зарплата: {employee.salary}\")\n",
    "\n",
    "# 2. Увеличить зарплату сотрудников IT на 10%\n",
    "session.query(Employee).filter(Employee.department.has(name=\"IT\")).update(\n",
    "    {Employee.salary: Employee.salary * 1.1}, synchronize_session=\"fetch\"\n",
    ")\n",
    "session.commit()\n",
    "\n",
    "# 3. Удалить сотрудников из отдела Sales\n",
    "sales_department = session.query(Department).filter_by(name=\"Sales\").first()\n",
    "session.query(Employee).filter_by(department_id=sales_department.id).delete()\n",
    "session.commit()\n",
    "\n",
    "# Проверка оставшихся сотрудников\n",
    "print(\"Сотрудники после изменений:\")\n",
    "for employee in session.query(Employee).all():\n",
    "    print(f\"{employee.name} - {employee.department.name}, зарплата: {employee.salary}\")\n",
    "\n",
    "session.close()"
   ]
  },
  {
   "cell_type": "markdown",
   "metadata": {
    "id": "R6dsNFyQ27bz"
   },
   "source": [
    "### Задача 6: Оптимизация запросов с использованием `joinedload` из ORM (0.5 б)"
   ]
  },
  {
   "cell_type": "markdown",
   "metadata": {
    "id": "hykqLzeFxWXm"
   },
   "source": [
    "1. Создайте SQLite-базу данных `social.db` с таблицами:\n",
    "   - `users`: `id` (INTEGER, PRIMARY KEY), `name` (TEXT);\n",
    "   - `posts`: `id` (INTEGER, PRIMARY KEY), `title` (TEXT), `user_id` (INTEGER).\n",
    "2. Заполните таблицы следующими данными:\n",
    "   - Пользователи: `Alice`, `Bob`.\n",
    "   - Посты: для `Alice` — `Post 1`, `Post 2`; для `Bob` — `Post 3`.\n",
    "3. Напишите код, который эффективно выводит пользователей и их посты с использованием `joinedload`."
   ]
  },
  {
   "cell_type": "code",
   "execution_count": null,
   "metadata": {
    "colab": {
     "base_uri": "https://localhost:8080/"
    },
    "id": "evy0x2_Hzssz",
    "outputId": "2438e776-13f2-4e29-b12f-62bfcbe987f3"
   },
   "outputs": [
    {
     "name": "stdout",
     "output_type": "stream",
     "text": [
      "User: Alice\n",
      "  Post: Post 1\n",
      "  Post: Post 2\n",
      "User: Bob\n",
      "  Post: Post 3\n"
     ]
    }
   ],
   "source": [
    "from sqlalchemy import create_engine, Column, Integer, String, ForeignKey\n",
    "from sqlalchemy.orm import declarative_base, sessionmaker, relationship, joinedload\n",
    "\n",
    "Base = declarative_base()\n",
    "\n",
    "# Определение моделей\n",
    "class User(Base):\n",
    "    __tablename__ = 'users'\n",
    "    id = Column(Integer, primary_key=True)\n",
    "    name = Column(String)\n",
    "    posts = relationship(\"Post\", back_populates=\"user\")\n",
    "\n",
    "class Post(Base):\n",
    "    __tablename__ = 'posts'\n",
    "    id = Column(Integer, primary_key=True)\n",
    "    title = Column(String)\n",
    "    user_id = Column(Integer, ForeignKey('users.id'))\n",
    "    user = relationship(\"User\", back_populates=\"posts\")\n",
    "\n",
    "# Создание базы данных\n",
    "engine = create_engine(\"sqlite:///social.db\")\n",
    "Base.metadata.create_all(engine)\n",
    "Session = sessionmaker(bind=engine)\n",
    "session = Session()\n",
    "\n",
    "# Добавление данных\n",
    "if not session.query(User).first():\n",
    "    alice = User(name=\"Alice\", posts=[Post(title=\"Post 1\"), Post(title=\"Post 2\")])\n",
    "    bob = User(name=\"Bob\", posts=[Post(title=\"Post 3\")])\n",
    "    session.add_all([alice, bob])\n",
    "    session.commit()\n",
    "\n",
    "# Оптимизированный запрос\n",
    "users = session.query(User).options(joinedload(User.posts)).all()\n",
    "for user in users:\n",
    "    print(f\"User: {user.name}\")\n",
    "    for post in user.posts:\n",
    "        print(f\"  Post: {post.title}\")"
   ]
  },
  {
   "cell_type": "code",
   "execution_count": null,
   "metadata": {
    "id": "YiSboUnR2VIs"
   },
   "outputs": [],
   "source": [
    "# ! rm -r *.db"
   ]
  }
 ],
 "metadata": {
  "colab": {
   "collapsed_sections": [
    "xKJnHv8x2j5Y",
    "83RIogmRxdZH",
    "tvVIszZv2noc",
    "0SaLrCdf2p5Q",
    "4k2tRFbY2r2w",
    "Qb1OsENI2tj6",
    "lX5EWTRR2w5c",
    "M-Z_szfD20dT",
    "R6dsNFyQ27bz",
    "5zPXT3ra3NUI"
   ],
   "provenance": []
  },
  "kernelspec": {
   "display_name": "Python 3 (ipykernel)",
   "language": "python",
   "name": "python3"
  },
  "language_info": {
   "codemirror_mode": {
    "name": "ipython",
    "version": 3
   },
   "file_extension": ".py",
   "mimetype": "text/x-python",
   "name": "python",
   "nbconvert_exporter": "python",
   "pygments_lexer": "ipython3",
   "version": "3.13.1"
  }
 },
 "nbformat": 4,
 "nbformat_minor": 4
}
