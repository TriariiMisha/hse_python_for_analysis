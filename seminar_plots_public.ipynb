{
 "cells": [
  {
   "cell_type": "code",
   "execution_count": null,
   "id": "0e3b9aa7",
   "metadata": {
    "ExecuteTime": {
     "end_time": "2023-02-10T12:06:02.701017Z",
     "start_time": "2023-02-10T12:06:02.239406Z"
    }
   },
   "outputs": [],
   "source": [
    "import matplotlib\n",
    "import numpy as np\n",
    "import pandas as pd\n",
    "import plotly.express as px\n",
    "import plotly.graph_objs as go\n",
    "\n",
    "from IPython.display import Image\n",
    "from matplotlib import pyplot as plt"
   ]
  },
  {
   "cell_type": "code",
   "execution_count": null,
   "id": "98a9a990",
   "metadata": {
    "ExecuteTime": {
     "end_time": "2023-02-10T12:06:02.704108Z",
     "start_time": "2023-02-10T12:06:02.702218Z"
    }
   },
   "outputs": [],
   "source": [
    "import os\n",
    "IMG_FOLDER = '../img'\n",
    "\n",
    "os.makedirs(IMG_FOLDER, exist_ok=True)"
   ]
  },
  {
   "cell_type": "markdown",
   "id": "8e410d70",
   "metadata": {
    "ExecuteTime": {
     "end_time": "2023-02-02T20:43:11.279127Z",
     "start_time": "2023-02-02T20:43:11.277632Z"
    }
   },
   "source": [
    "# Simple function"
   ]
  },
  {
   "cell_type": "markdown",
   "id": "fa68d79b",
   "metadata": {},
   "source": [
    "- Сгенерируйте данные для функции $y = x^3$. Возьмите числа от 0 до 99.\n",
    "- Отобразите данные на графике. Обозначьте кажду точку в виде красного \"+\"\n",
    "- Подпишите оси\n",
    "- Дайте название графику"
   ]
  },
  {
   "cell_type": "markdown",
   "id": "eff47ac3",
   "metadata": {},
   "source": [
    "## Simple Matplotlib plot"
   ]
  },
  {
   "cell_type": "code",
   "execution_count": null,
   "id": "cbf5cae2",
   "metadata": {
    "ExecuteTime": {
     "end_time": "2023-02-10T12:06:02.705987Z",
     "start_time": "2023-02-10T12:06:02.704761Z"
    }
   },
   "outputs": [],
   "source": [
    "n_points = 100\n",
    "\n",
    "data = np.arange(n_points) ** 3"
   ]
  },
  {
   "cell_type": "markdown",
   "id": "903767da",
   "metadata": {},
   "source": [
    "*Пример*"
   ]
  },
  {
   "cell_type": "code",
   "execution_count": null,
   "id": "6468c846",
   "metadata": {
    "ExecuteTime": {
     "end_time": "2023-02-10T12:06:02.709453Z",
     "start_time": "2023-02-10T12:06:02.706768Z"
    }
   },
   "outputs": [],
   "source": [
    "Image(filename=os.path.join(IMG_FOLDER,'task0_1.png'))"
   ]
  },
  {
   "cell_type": "markdown",
   "id": "d21aea88",
   "metadata": {},
   "source": [
    "*Решение*"
   ]
  },
  {
   "cell_type": "code",
   "execution_count": null,
   "id": "24042653",
   "metadata": {
    "ExecuteTime": {
     "end_time": "2023-02-10T12:06:02.907300Z",
     "start_time": "2023-02-10T12:06:02.710081Z"
    }
   },
   "outputs": [],
   "source": [
    "x = np.arange(100)\n",
    "y = x ** 3\n",
    "\n",
    "fig, ax = plt.subplots()\n",
    "\n",
    "ax.plot(x, y, 'r+');\n",
    "\n",
    "ax.set_title(\"$y = x^3$ graph\")\n",
    "\n",
    "ax.set_ylabel(\"y\")\n",
    "ax.set_xlabel(\"x\")\n",
    "\n",
    "ax.grid(True)"
   ]
  },
  {
   "cell_type": "markdown",
   "id": "61b42447-4b28-427d-9a6f-dc5d31646695",
   "metadata": {},
   "source": [
    "*Вариант 2:*"
   ]
  },
  {
   "cell_type": "code",
   "execution_count": null,
   "id": "28846e5c-f5de-4cea-bc6b-999113a280cd",
   "metadata": {},
   "outputs": [],
   "source": [
    "x = np.arange(100)\n",
    "y = x ** 3\n",
    "\n",
    "plt.figure(figsize=(8, 6))\n",
    "plt.scatter(x, y, color='red', marker='+')\n",
    "\n",
    "plt.title(\"$y = x^3$ graph\")\n",
    "\n",
    "plt.ylabel(\"y\")\n",
    "plt.xlabel(\"x\")\n",
    "\n",
    "plt.grid(True)\n",
    "\n",
    "plt.show()"
   ]
  },
  {
   "cell_type": "markdown",
   "id": "79baf794",
   "metadata": {},
   "source": [
    "## Plot two lines"
   ]
  },
  {
   "cell_type": "markdown",
   "id": "9e921f14",
   "metadata": {},
   "source": [
    "Представьте что вы сделали модель и предсказали еще 10 точек для вашего графика выше. Вы имеете точные значения и оценки на их вероятные верхние и нижние границы.\n",
    "\n",
    "Постройте график, где сначала красным цветом будут показываться ваши \"тренировочные\" данные, а дальше желтым -- \"предсказания\". Светло-желтым закрасьте области между верхней и нижней границей для каждой точки, подпишите ее как CI в графике"
   ]
  },
  {
   "cell_type": "code",
   "execution_count": null,
   "id": "864051bc",
   "metadata": {
    "ExecuteTime": {
     "end_time": "2023-02-10T12:06:02.969766Z",
     "start_time": "2023-02-10T12:06:02.967647Z"
    }
   },
   "outputs": [],
   "source": [
    "preds_size = 10\n",
    "\n",
    "preds = np.arange(len(data), len(data) + preds_size) ** 3\n",
    "\n",
    "all_data = np.concatenate((data, preds))\n",
    "stds = np.array([np.std(all_data[i - 50: i]) for i in range(len(data), len(data) + preds_size)])\n",
    "\n",
    "l_bounds = preds - stds\n",
    "h_bounds = preds + stds"
   ]
  },
  {
   "cell_type": "markdown",
   "id": "20ff8c73",
   "metadata": {},
   "source": [
    "*Пример*"
   ]
  },
  {
   "cell_type": "code",
   "execution_count": null,
   "id": "d6c33265",
   "metadata": {
    "ExecuteTime": {
     "end_time": "2023-02-10T12:06:03.043295Z",
     "start_time": "2023-02-10T12:06:03.040731Z"
    }
   },
   "outputs": [],
   "source": [
    "Image(filename=os.path.join(IMG_FOLDER,'task0_2.png'))"
   ]
  },
  {
   "cell_type": "markdown",
   "id": "7b5f8d63",
   "metadata": {},
   "source": [
    "*Решение*"
   ]
  },
  {
   "cell_type": "code",
   "execution_count": null,
   "id": "af32e925",
   "metadata": {
    "ExecuteTime": {
     "end_time": "2023-02-10T12:06:03.184996Z",
     "start_time": "2023-02-10T12:06:03.112363Z"
    }
   },
   "outputs": [],
   "source": [
    "fig, ax = plt.subplots(figsize=(10, 5))\n",
    "\n",
    "train_range = np.arange(len(data))\n",
    "preds_range = np.arange(len(data), len(data) + preds_size)\n",
    "\n",
    "ax.plot(train_range, data, color='red', label='\"train\"')\n",
    "ax.plot(preds_range, preds, '--y', label='\"prediction\"')\n",
    "\n",
    "ax.fill_between(preds_range, l_bounds, h_bounds, alpha=0.1, color='yellow', label='CI')\n",
    "\n",
    "ax.legend()\n",
    "ax.grid(True)\n",
    "ax.set_xlabel('x')\n",
    "ax.set_ylabel('y')\n",
    "ax.set_title('Graph for function $y = x^3$')\n",
    "\n",
    "# plt.set_ticklabel_format(style='plain')"
   ]
  },
  {
   "cell_type": "markdown",
   "id": "a5d5800f",
   "metadata": {},
   "source": [
    "## Using Plotly"
   ]
  },
  {
   "cell_type": "markdown",
   "id": "768d2b54",
   "metadata": {},
   "source": [
    "**Давайте теперь сделаем интерактивный график в plotly**"
   ]
  },
  {
   "cell_type": "markdown",
   "id": "0d0cad42",
   "metadata": {},
   "source": [
    "https://plotly.com/python/marker-style/#using-a-custom-marker"
   ]
  },
  {
   "cell_type": "markdown",
   "id": "a6e6af06",
   "metadata": {},
   "source": [
    "*Пример*"
   ]
  },
  {
   "cell_type": "code",
   "execution_count": null,
   "id": "b0f3af35",
   "metadata": {
    "ExecuteTime": {
     "end_time": "2023-02-10T12:06:03.432923Z",
     "start_time": "2023-02-10T12:06:03.430156Z"
    }
   },
   "outputs": [],
   "source": [
    "Image(filename=os.path.join(IMG_FOLDER,'task0_1_plotly.png'))"
   ]
  },
  {
   "cell_type": "markdown",
   "id": "a8f0194f",
   "metadata": {},
   "source": [
    "*Решение*"
   ]
  },
  {
   "cell_type": "code",
   "execution_count": null,
   "id": "90425be8",
   "metadata": {
    "ExecuteTime": {
     "end_time": "2023-02-10T12:06:03.570993Z",
     "start_time": "2023-02-10T12:06:03.501795Z"
    }
   },
   "outputs": [],
   "source": [
    "plotly_fig = go.Figure(\n",
    "    data=go.Scatter(\n",
    "        x=np.arange(len(data)), y=data, name='\"train\"'\n",
    "    ),\n",
    ")\n",
    "\n",
    "plotly_fig.update_traces(\n",
    "    marker={\n",
    "        'color': 'red',\n",
    "        'symbol':'x'\n",
    "    },\n",
    "    mode='markers'\n",
    ")\n",
    "\n",
    "plotly_fig.update_layout(\n",
    "    # title=r'$\\text{Graph for function } y = x^3$',\n",
    "    title_x=0.5,\n",
    "    xaxis_title=\"x\",\n",
    "    yaxis_title=\"y\",\n",
    ")\n",
    "\n",
    "plotly_fig.show()"
   ]
  },
  {
   "cell_type": "markdown",
   "id": "67b89bfb",
   "metadata": {},
   "source": [
    "**Добавим \"предикты\" с интервалами по аналогии с matplotlib**"
   ]
  },
  {
   "cell_type": "markdown",
   "id": "38a9fe74",
   "metadata": {},
   "source": [
    "*Пример*"
   ]
  },
  {
   "cell_type": "code",
   "execution_count": null,
   "id": "279dcaaa",
   "metadata": {
    "ExecuteTime": {
     "end_time": "2023-02-10T12:06:03.638736Z",
     "start_time": "2023-02-10T12:06:03.635944Z"
    }
   },
   "outputs": [],
   "source": [
    "Image(filename=os.path.join(IMG_FOLDER,'task0_2_plotly.png'))"
   ]
  },
  {
   "cell_type": "markdown",
   "id": "f15c4afa",
   "metadata": {},
   "source": [
    "*Решение*"
   ]
  },
  {
   "cell_type": "code",
   "execution_count": null,
   "id": "fe76a7ae",
   "metadata": {
    "ExecuteTime": {
     "end_time": "2023-02-10T12:06:03.708488Z",
     "start_time": "2023-02-10T12:06:03.701104Z"
    }
   },
   "outputs": [],
   "source": [
    "plotly_fig.add_trace(\n",
    "    go.Scatter(\n",
    "        x=preds_range,\n",
    "        y=preds,\n",
    "        name='\"prediction\"',\n",
    "        mode='lines',\n",
    "        line=dict(color='green', width=2, dash='dash')\n",
    "    )\n",
    ")\n",
    "\n",
    "\n",
    "# add filled area\n",
    "\n",
    "plotly_fig.add_trace(\n",
    "    go.Scatter(\n",
    "        x=preds_range,\n",
    "        y=l_bounds,\n",
    "        mode='lines',\n",
    "        line_color='rgba(0,0,0,0)',\n",
    "        showlegend=False,\n",
    "    )\n",
    ")\n",
    "\n",
    "plotly_fig.add_trace(\n",
    "    go.Scatter(\n",
    "        x=preds_range,\n",
    "        y=h_bounds,\n",
    "        fill='tonexty',\n",
    "        mode='lines',\n",
    "        line_color='rgba(0,0,0,0)',\n",
    "        fillcolor='rgba(0, 255, 0, 0.2)',\n",
    "        name='CI'\n",
    "    )\n",
    ")"
   ]
  },
  {
   "cell_type": "markdown",
   "id": "9f7bc8db",
   "metadata": {},
   "source": [
    "# Figure for artificial data. Subplots. Line plot. Scatter plot"
   ]
  },
  {
   "cell_type": "code",
   "execution_count": null,
   "id": "19b0679e",
   "metadata": {
    "ExecuteTime": {
     "end_time": "2023-02-10T12:06:03.777743Z",
     "start_time": "2023-02-10T12:06:03.772967Z"
    }
   },
   "outputs": [],
   "source": [
    "np.random.seed(42)\n",
    "\n",
    "df = pd.DataFrame(data={'column_a':np.random.randint(0, 100, 30),\n",
    "                        'column_b':np.random.randint(0, 100, 30),\n",
    "                        'column_c':np.random.randint(0, 100, 30)})\n",
    "df.head()"
   ]
  },
  {
   "cell_type": "markdown",
   "id": "09aa06e3",
   "metadata": {},
   "source": [
    "Постройте два графика в одной большой фигуре. \n",
    "Назовите фигуру \"Task 1\", используйте шрифт размера 20.\n",
    "\n",
    "- Пошарьте ось x между графиками. Назовите ее \"index\".\n",
    "\n",
    "- На первом графике:\n",
    "    - нарисуйте две линии по данным \"column_a\", и \"column_b\";\n",
    "    - сделайте \"легенду\" в верхней части графика, обозначьте оранжевым цветом данные из колонки a, синим -- данные из колонки b;\n",
    "    - дайте название оси y: value;\n",
    "    - назовите график \"Line plots for column_a, column_b\"\n",
    "\n",
    "- На втором графике:\n",
    "    - покажите зелеными точками данные из третьей колонки;\n",
    "    - сделайте легенду в правом нижнем углу\n",
    "    - назовите график \"Scatter plot for column_c\";\n",
    "\n",
    "- Сохраните получившийся график в формат .png с названием 'task1_1.png' \n"
   ]
  },
  {
   "cell_type": "markdown",
   "id": "d7a01fab",
   "metadata": {},
   "source": [
    "https://matplotlib.org/stable/tutorials/colors/colors.html"
   ]
  },
  {
   "cell_type": "markdown",
   "id": "e36c4178",
   "metadata": {},
   "source": [
    "*Пример*"
   ]
  },
  {
   "cell_type": "code",
   "execution_count": null,
   "id": "502ab3e7",
   "metadata": {
    "ExecuteTime": {
     "end_time": "2023-02-10T12:06:04.026445Z",
     "start_time": "2023-02-10T12:06:04.023397Z"
    }
   },
   "outputs": [],
   "source": [
    "Image(filename=os.path.join(IMG_FOLDER,'task1.png'))"
   ]
  },
  {
   "cell_type": "markdown",
   "id": "bda5747d",
   "metadata": {},
   "source": [
    "*Решение*"
   ]
  },
  {
   "cell_type": "code",
   "execution_count": null,
   "id": "93cc4835",
   "metadata": {
    "ExecuteTime": {
     "end_time": "2023-02-10T12:06:04.266912Z",
     "start_time": "2023-02-10T12:06:04.089479Z"
    }
   },
   "outputs": [],
   "source": [
    "fig, ax = plt.subplots(2, 1, figsize=(15, 10), sharex=True)\n",
    "\n",
    "ax[0].plot(df['column_a'], label='a', color='orange')\n",
    "ax[0].plot(df['column_b'], label='b', color=(0, 0, 1))\n",
    "ax[0].grid()\n",
    "ax[0].legend(loc=9)\n",
    "ax[0].set_title('Line plots for column_a, column_b')\n",
    "ax[0].set_ylabel('value')\n",
    "\n",
    "\n",
    "ax[1].scatter(df.index, df['column_c'], label='c', color='g')\n",
    "ax[1].set_title('Scatter plot for column_c')\n",
    "ax[1].legend(loc=4)\n",
    "ax[1].set_xlabel('index')\n",
    "ax[1].set_ylabel('value')\n",
    "\n",
    "\n",
    "fig.suptitle('Task 1', fontsize=20)\n",
    "fig.tight_layout()\n",
    "fig.show()"
   ]
  },
  {
   "cell_type": "markdown",
   "id": "25d152b3",
   "metadata": {},
   "source": [
    "    Для цветов я люблю использовать такую штуку. Заранее назначить набор цветов в глобальную переменную, и \"ходить\" по ним в графиках. Вот так:\n",
    "    \n",
    "```Python\n",
    "from itertools import cycle\n",
    "\n",
    "COLORS = cycle(['b','g','r','c','m','y'])  # have different colors in complex plots across the notebook\n",
    "...\n",
    "ax.plot(..., color=next(COLORS))\n",
    "...\n",
    "\n",
    "```"
   ]
  },
  {
   "cell_type": "markdown",
   "id": "141d1f5d",
   "metadata": {},
   "source": [
    "## Bar plot"
   ]
  },
  {
   "cell_type": "markdown",
   "id": "7d5daa15",
   "metadata": {},
   "source": [
    "Для датафрейма выше постройте bar plots отдельно для данных из колонок a, b, c. Подпишите значения в каждом \"столбике\" (`ax.bar_label` может помочь)\n",
    "\n",
    "PS для однотипных операций используйте циклы"
   ]
  },
  {
   "cell_type": "code",
   "execution_count": null,
   "id": "96ac65c5",
   "metadata": {
    "ExecuteTime": {
     "end_time": "2023-02-10T12:06:04.271280Z",
     "start_time": "2023-02-10T12:06:04.269995Z"
    }
   },
   "outputs": [],
   "source": [
    "from itertools import cycle\n",
    "COLORS = cycle(['b', 'g', 'r', 'c', 'm', 'y'])"
   ]
  },
  {
   "cell_type": "markdown",
   "id": "6ff1a532",
   "metadata": {},
   "source": [
    "### Using Matplotlib"
   ]
  },
  {
   "cell_type": "markdown",
   "id": "c9d3a040",
   "metadata": {},
   "source": [
    "*Пример*"
   ]
  },
  {
   "cell_type": "code",
   "execution_count": null,
   "id": "92bd8975",
   "metadata": {
    "ExecuteTime": {
     "end_time": "2023-02-10T12:06:04.381777Z",
     "start_time": "2023-02-10T12:06:04.378929Z"
    }
   },
   "outputs": [],
   "source": [
    "Image(filename=os.path.join(IMG_FOLDER,'task2_1.png'))"
   ]
  },
  {
   "cell_type": "markdown",
   "id": "6ac3ae07",
   "metadata": {},
   "source": [
    "*Решение*"
   ]
  },
  {
   "cell_type": "code",
   "execution_count": null,
   "id": "4c1805e1",
   "metadata": {
    "ExecuteTime": {
     "end_time": "2023-02-10T12:06:04.861863Z",
     "start_time": "2023-02-10T12:06:04.461510Z"
    }
   },
   "outputs": [],
   "source": [
    "fig, ax = plt.subplots(df.shape[1], 1, figsize=(15, 15), sharex=True)\n",
    "\n",
    "for i, column_name in enumerate(df.columns):\n",
    "    axis = ax[i]\n",
    "    axis.bar(df.index, df[column_name], label=column_name, color=next(COLORS))\n",
    "    axis.legend(loc=9)\n",
    "    axis.set_title(f'bar plot for {column_name}')\n",
    "    axis.bar_label(axis.containers[0], label_type='edge', padding=2, fontsize=8)\n",
    "    axis.set_ylabel('value')\n",
    "    axis.set_xlabel('index')\n",
    "    axis.grid()\n",
    "\n",
    "fig.suptitle('Task 2.1', fontsize=20)\n",
    "fig.show()"
   ]
  },
  {
   "cell_type": "markdown",
   "id": "dfabc190-b4de-4af6-ba87-25f79219616b",
   "metadata": {},
   "source": [
    "**Также можно использовать df.plot от pandas**"
   ]
  },
  {
   "cell_type": "code",
   "execution_count": null,
   "id": "c6d34518-2cfd-4d93-ab79-e4260317a037",
   "metadata": {},
   "outputs": [],
   "source": [
    "fig, ax = plt.subplots(df.shape[1], 1, figsize=(20, 15), sharex=True)\n",
    "\n",
    "for i, column_name in zip(range(3), df.columns):\n",
    "    df[column_name].plot(kind='bar',\n",
    "                         title=f'bar plot for {column_name}',\n",
    "                         xlabel='index',\n",
    "                         ylabel='value',\n",
    "                         legend=True,\n",
    "                         grid=True,\n",
    "                         ax=ax[i],\n",
    "                         color=next(COLORS))\n",
    "    ax[i].bar_label(ax[i].containers[0], label_type='edge', padding=1, fontsize=8)\n",
    "\n",
    "fig.suptitle('Task 2.1', fontsize=14)\n",
    "fig.show()"
   ]
  },
  {
   "cell_type": "markdown",
   "id": "b732de4e",
   "metadata": {
    "ExecuteTime": {
     "end_time": "2023-02-03T00:12:27.589171Z",
     "start_time": "2023-02-03T00:12:27.587225Z"
    }
   },
   "source": [
    "### Using Plotly"
   ]
  },
  {
   "cell_type": "markdown",
   "id": "4d629426",
   "metadata": {
    "ExecuteTime": {
     "end_time": "2023-02-03T00:45:48.491728Z",
     "start_time": "2023-02-03T00:45:48.489498Z"
    }
   },
   "source": [
    "*Пример*"
   ]
  },
  {
   "cell_type": "code",
   "execution_count": null,
   "id": "27bb0751",
   "metadata": {
    "ExecuteTime": {
     "end_time": "2023-02-10T12:06:05.354808Z",
     "start_time": "2023-02-10T12:06:05.352458Z"
    }
   },
   "outputs": [],
   "source": [
    "Image(filename=os.path.join(IMG_FOLDER,'task2_1_plotly_1.png'))"
   ]
  },
  {
   "cell_type": "markdown",
   "id": "8fa8e886",
   "metadata": {},
   "source": [
    "*Решение*"
   ]
  },
  {
   "cell_type": "code",
   "execution_count": null,
   "id": "f01385b6",
   "metadata": {
    "ExecuteTime": {
     "end_time": "2023-02-10T12:06:05.494370Z",
     "start_time": "2023-02-10T12:06:05.355535Z"
    }
   },
   "outputs": [],
   "source": [
    "plotly_fig = px.bar(df, x=df.index, y='column_a', barmode='group', title='Bar plot for column_a')\n",
    "plotly_fig.show()"
   ]
  },
  {
   "cell_type": "markdown",
   "id": "d5bf3390",
   "metadata": {},
   "source": [
    "**Попробуем отобразить все колонки сразу**"
   ]
  },
  {
   "cell_type": "markdown",
   "id": "706ea6d8",
   "metadata": {},
   "source": [
    "*Пример*"
   ]
  },
  {
   "cell_type": "code",
   "execution_count": null,
   "id": "11b9199b",
   "metadata": {
    "ExecuteTime": {
     "end_time": "2023-02-10T12:06:05.499865Z",
     "start_time": "2023-02-10T12:06:05.497718Z"
    }
   },
   "outputs": [],
   "source": [
    "Image(filename=os.path.join(IMG_FOLDER,'task2_1_plotly_2.png'))"
   ]
  },
  {
   "cell_type": "markdown",
   "id": "0cc90475",
   "metadata": {},
   "source": [
    "*Решение*"
   ]
  },
  {
   "cell_type": "code",
   "execution_count": null,
   "id": "f2110b4a",
   "metadata": {
    "ExecuteTime": {
     "end_time": "2023-02-10T12:06:05.528963Z",
     "start_time": "2023-02-10T12:06:05.500564Z"
    }
   },
   "outputs": [],
   "source": [
    "plotly_fig = px.bar(df, x=df.index, y=df.columns, barmode='group', title='Bar plot for all columns')\n",
    "plotly_fig.show()"
   ]
  },
  {
   "cell_type": "markdown",
   "id": "8683951f",
   "metadata": {},
   "source": [
    "## Stacked Bar Plot"
   ]
  },
  {
   "cell_type": "markdown",
   "id": "51f59599",
   "metadata": {},
   "source": [
    "### Using Matplotlib"
   ]
  },
  {
   "cell_type": "markdown",
   "id": "03e3b908",
   "metadata": {},
   "source": [
    "**Выделение разных частей в колонках**"
   ]
  },
  {
   "cell_type": "markdown",
   "id": "7fbd0f53",
   "metadata": {},
   "source": [
    "Сделайте bar plot по всем колонкам (суммы) и цветами укажите \"вклад\" каждой колонки"
   ]
  },
  {
   "cell_type": "markdown",
   "id": "715de5e6",
   "metadata": {},
   "source": [
    "*Пример*"
   ]
  },
  {
   "cell_type": "code",
   "execution_count": null,
   "id": "71018d2f",
   "metadata": {
    "ExecuteTime": {
     "end_time": "2023-02-10T12:06:05.534214Z",
     "start_time": "2023-02-10T12:06:05.532286Z"
    }
   },
   "outputs": [],
   "source": [
    "Image(filename=os.path.join(IMG_FOLDER,'task2_2.png'))"
   ]
  },
  {
   "cell_type": "markdown",
   "id": "d5010f59",
   "metadata": {},
   "source": [
    "*Решение*"
   ]
  },
  {
   "cell_type": "code",
   "execution_count": null,
   "id": "81d1f7a5",
   "metadata": {
    "ExecuteTime": {
     "end_time": "2023-02-10T12:06:05.707013Z",
     "start_time": "2023-02-10T12:06:05.534912Z"
    }
   },
   "outputs": [],
   "source": [
    "fig, axis = plt.subplots(1, 1, figsize=(15, 10), sharex=True)\n",
    "\n",
    "cumulative = None\n",
    "for column_name in df.columns:\n",
    "    axis.bar(df.index, df[column_name], label=column_name, color=next(COLORS), bottom=cumulative)\n",
    "    if cumulative is None:\n",
    "        cumulative = df[column_name].copy()\n",
    "    else:\n",
    "        cumulative += df[column_name].copy()\n",
    "    \n",
    "axis.legend(loc=9)\n",
    "axis.set_title(f'bar plot for all columns')\n",
    "axis.bar_label(axis.containers[-1], label_type='edge', padding=2, fontsize=8)\n",
    "\n",
    "axis.set_ylabel('value')\n",
    "axis.set_xlabel('index')\n",
    "axis.grid()\n",
    "\n",
    "fig.suptitle('Task 2.2', fontsize=20)\n",
    "fig.show()"
   ]
  },
  {
   "cell_type": "markdown",
   "id": "b057738f",
   "metadata": {},
   "source": [
    "Убедимся, что наши значение похожи на правду"
   ]
  },
  {
   "cell_type": "code",
   "execution_count": null,
   "id": "26e25f42",
   "metadata": {
    "ExecuteTime": {
     "end_time": "2023-02-10T12:06:05.710171Z",
     "start_time": "2023-02-10T12:06:05.707785Z"
    }
   },
   "outputs": [],
   "source": [
    "df.sum(1).values"
   ]
  },
  {
   "cell_type": "markdown",
   "id": "c925f5d7",
   "metadata": {},
   "source": [
    "### Using Plotly"
   ]
  },
  {
   "cell_type": "markdown",
   "id": "3c4dfdb8",
   "metadata": {},
   "source": [
    "#### Convert Matplotlib graph to Plotly"
   ]
  },
  {
   "cell_type": "markdown",
   "id": "1ca31d51",
   "metadata": {},
   "source": [
    "Давайте попробуем написать небольшой \"маппер\" из графика выше с использованием matplotlib в plotly!"
   ]
  },
  {
   "cell_type": "code",
   "execution_count": null,
   "id": "57e5ebcf",
   "metadata": {
    "ExecuteTime": {
     "end_time": "2023-02-10T12:06:10.269446Z",
     "start_time": "2023-02-10T12:06:10.266992Z"
    }
   },
   "outputs": [],
   "source": [
    "axis"
   ]
  },
  {
   "cell_type": "code",
   "execution_count": null,
   "id": "d6c81df9",
   "metadata": {
    "ExecuteTime": {
     "end_time": "2023-02-10T12:06:19.298272Z",
     "start_time": "2023-02-10T12:06:19.296201Z"
    }
   },
   "outputs": [],
   "source": [
    "# dir(axis)"
   ]
  },
  {
   "cell_type": "code",
   "execution_count": null,
   "id": "976415cf",
   "metadata": {
    "ExecuteTime": {
     "end_time": "2023-02-10T12:06:21.289412Z",
     "start_time": "2023-02-10T12:06:21.285992Z"
    }
   },
   "outputs": [],
   "source": [
    "axis.get_children()"
   ]
  },
  {
   "cell_type": "markdown",
   "id": "b73ab7a1",
   "metadata": {},
   "source": [
    "https://matplotlib.org/stable/api/_as_gen/matplotlib.patches.Rectangle.html"
   ]
  },
  {
   "cell_type": "markdown",
   "id": "1f96b766",
   "metadata": {},
   "source": [
    "Основной интересный для нас объект в bar plot -- это прямоугольник. Надо понять, какие параметры могут его задавать в plotly. Скорее всего это координаты: x, y, ширина"
   ]
  },
  {
   "cell_type": "markdown",
   "id": "77a99aff",
   "metadata": {},
   "source": [
    "Попробуем сначала сконвертить один такой rectangle object в plotly"
   ]
  },
  {
   "cell_type": "code",
   "execution_count": null,
   "id": "e061c4fd",
   "metadata": {
    "ExecuteTime": {
     "end_time": "2023-02-10T12:07:46.409227Z",
     "start_time": "2023-02-10T12:07:46.407083Z"
    }
   },
   "outputs": [],
   "source": [
    "rectangle = axis.get_children()[0]"
   ]
  },
  {
   "cell_type": "code",
   "execution_count": null,
   "id": "f21636da",
   "metadata": {
    "ExecuteTime": {
     "end_time": "2023-02-10T12:07:53.858954Z",
     "start_time": "2023-02-10T12:07:53.856991Z"
    }
   },
   "outputs": [],
   "source": [
    "x = rectangle.get_x()"
   ]
  },
  {
   "cell_type": "code",
   "execution_count": null,
   "id": "88197b8c",
   "metadata": {
    "ExecuteTime": {
     "end_time": "2023-02-10T12:07:55.309867Z",
     "start_time": "2023-02-10T12:07:55.307973Z"
    }
   },
   "outputs": [],
   "source": [
    "width = rectangle.get_width()"
   ]
  },
  {
   "cell_type": "code",
   "execution_count": null,
   "id": "f4278cbb",
   "metadata": {
    "ExecuteTime": {
     "end_time": "2023-02-10T12:07:56.768381Z",
     "start_time": "2023-02-10T12:07:56.766447Z"
    }
   },
   "outputs": [],
   "source": [
    "h = rectangle.get_height()"
   ]
  },
  {
   "cell_type": "code",
   "execution_count": null,
   "id": "ec66a87f",
   "metadata": {
    "ExecuteTime": {
     "end_time": "2023-02-10T12:08:01.740294Z",
     "start_time": "2023-02-10T12:08:01.736896Z"
    }
   },
   "outputs": [],
   "source": [
    "plotly_figure = go.Figure(\n",
    "    go.Bar(x=[x], y=[h], width=[width]),\n",
    "    layout=go.Layout(barmode=\"group\")\n",
    ")"
   ]
  },
  {
   "cell_type": "code",
   "execution_count": null,
   "id": "83b48d82",
   "metadata": {
    "ExecuteTime": {
     "end_time": "2023-02-10T12:08:02.730086Z",
     "start_time": "2023-02-10T12:08:02.727002Z"
    }
   },
   "outputs": [],
   "source": [
    "plotly_figure.show()"
   ]
  },
  {
   "cell_type": "markdown",
   "id": "872eaf78",
   "metadata": {},
   "source": [
    "Вроде похоже на правду. Теперь надо проапдейтить фигуру другими столбиками. Нас интересуют только объекты типа Rectange"
   ]
  },
  {
   "cell_type": "code",
   "execution_count": null,
   "id": "b52e22b8",
   "metadata": {
    "ExecuteTime": {
     "end_time": "2023-02-10T12:08:29.759965Z",
     "start_time": "2023-02-10T12:08:29.757382Z"
    }
   },
   "outputs": [],
   "source": [
    "plotly_figure.data"
   ]
  },
  {
   "cell_type": "code",
   "execution_count": null,
   "id": "4ef39040",
   "metadata": {
    "ExecuteTime": {
     "end_time": "2023-02-10T12:08:31.660610Z",
     "start_time": "2023-02-10T12:08:31.657967Z"
    }
   },
   "outputs": [],
   "source": [
    "plotly_figure.data[0]['width']"
   ]
  },
  {
   "cell_type": "markdown",
   "id": "9b76355e",
   "metadata": {},
   "source": [
    "Нашли наш Bar Plot в объекте фигуры. Теперь нужно добавить новые данные в списки с координатами по оси абсцисс, высотами и широтами"
   ]
  },
  {
   "cell_type": "code",
   "execution_count": null,
   "id": "99543668",
   "metadata": {
    "ExecuteTime": {
     "end_time": "2023-02-10T12:08:48.402140Z",
     "start_time": "2023-02-10T12:08:48.399789Z"
    }
   },
   "outputs": [],
   "source": [
    "xs = []\n",
    "widths = []\n",
    "heights = []\n",
    "\n",
    "for rect in axis.get_children():\n",
    "    if isinstance(rect, matplotlib.patches.Rectangle):\n",
    "        xs.append(rect.get_x())\n",
    "        widths.append(rect.get_width())\n",
    "        heights.append(rect.get_height())"
   ]
  },
  {
   "cell_type": "code",
   "execution_count": null,
   "id": "a35a87a5",
   "metadata": {
    "ExecuteTime": {
     "end_time": "2023-02-10T12:08:50.929389Z",
     "start_time": "2023-02-10T12:08:50.927204Z"
    }
   },
   "outputs": [],
   "source": [
    "plotly_figure.data[0]['width'] = widths\n",
    "plotly_figure.data[0]['x'] = xs\n",
    "plotly_figure.data[0]['y'] = heights"
   ]
  },
  {
   "cell_type": "code",
   "execution_count": null,
   "id": "541d3ada",
   "metadata": {
    "ExecuteTime": {
     "end_time": "2023-02-10T12:08:52.021959Z",
     "start_time": "2023-02-10T12:08:52.019008Z"
    }
   },
   "outputs": [],
   "source": [
    "plotly_figure.show()"
   ]
  },
  {
   "cell_type": "markdown",
   "id": "4e728d43",
   "metadata": {},
   "source": [
    "Хорошо. Но пока не хватает цвета и легенды"
   ]
  },
  {
   "cell_type": "code",
   "execution_count": null,
   "id": "90530e08",
   "metadata": {
    "ExecuteTime": {
     "end_time": "2023-02-10T12:09:03.840634Z",
     "start_time": "2023-02-10T12:09:03.838304Z"
    }
   },
   "outputs": [],
   "source": [
    "rectangle.get_facecolor()"
   ]
  },
  {
   "cell_type": "markdown",
   "id": "4f59e196",
   "metadata": {},
   "source": [
    "Цвет задается с помощью комбинации rgba(Red, Green, Blue, Alpha). Нужно скастить этот tuple в строку нужного формата. Например, так "
   ]
  },
  {
   "cell_type": "code",
   "execution_count": null,
   "id": "4946ca6d",
   "metadata": {
    "ExecuteTime": {
     "end_time": "2023-02-10T12:09:48.039562Z",
     "start_time": "2023-02-10T12:09:48.036981Z"
    }
   },
   "outputs": [],
   "source": [
    "tup = rectangle.get_facecolor()\n",
    "f\"rgb({','.join((np.array(tup[:3]) * 255).astype('int').astype('str'))})\""
   ]
  },
  {
   "cell_type": "markdown",
   "id": "98da2eac",
   "metadata": {},
   "source": [
    "Этот цвет можно дописать в цикл выше. В фигуре за цвет отвечает параметр 'marker_color', как в самом первом примере на plotly, который мы разбирали"
   ]
  },
  {
   "cell_type": "code",
   "execution_count": null,
   "id": "4ae3fdfb",
   "metadata": {
    "ExecuteTime": {
     "end_time": "2023-02-10T12:10:44.286073Z",
     "start_time": "2023-02-10T12:10:44.280133Z"
    }
   },
   "outputs": [],
   "source": [
    "colors = []\n",
    "\n",
    "for rect in axis.get_children():\n",
    "    if isinstance(rect, matplotlib.patches.Rectangle):\n",
    "        colors.append(\n",
    "            f\"rgb({','.join((np.array(rect.get_facecolor()[:3]) * 255).astype('int').astype('str'))})\"\n",
    "        )\n",
    "\n",
    "plotly_figure.data[0]['marker_color'] = colors\n",
    "\n",
    "plotly_figure.show()"
   ]
  },
  {
   "cell_type": "markdown",
   "id": "5faaabf7",
   "metadata": {},
   "source": [
    "Добавим подписи для осей"
   ]
  },
  {
   "cell_type": "code",
   "execution_count": null,
   "id": "eff95898",
   "metadata": {
    "ExecuteTime": {
     "end_time": "2023-02-10T12:10:50.133075Z",
     "start_time": "2023-02-10T12:10:50.127998Z"
    }
   },
   "outputs": [],
   "source": [
    "plotly_figure.update_layout(\n",
    "    title=axis.get_title(),\n",
    "    title_x=0.5,\n",
    "    xaxis_title=axis.get_xlabel(),\n",
    "    yaxis_title=axis.get_ylabel(),\n",
    ")"
   ]
  },
  {
   "cell_type": "markdown",
   "id": "02b582c1",
   "metadata": {},
   "source": [
    "Можно еще подумать о том, как добавить красивую легенду с названиями колонок"
   ]
  },
  {
   "cell_type": "markdown",
   "id": "b6b46227",
   "metadata": {},
   "source": [
    "#### Plotly express"
   ]
  },
  {
   "cell_type": "markdown",
   "id": "d3866cdd",
   "metadata": {},
   "source": [
    "*Пример*"
   ]
  },
  {
   "cell_type": "code",
   "execution_count": null,
   "id": "f1ba3b6d",
   "metadata": {
    "ExecuteTime": {
     "end_time": "2023-02-10T12:11:00.678936Z",
     "start_time": "2023-02-10T12:11:00.676069Z"
    }
   },
   "outputs": [],
   "source": [
    "Image(filename=os.path.join(IMG_FOLDER,'task2_2_plotly.png'))"
   ]
  },
  {
   "cell_type": "markdown",
   "id": "4575f17a",
   "metadata": {},
   "source": [
    "*Решение*"
   ]
  },
  {
   "cell_type": "code",
   "execution_count": null,
   "id": "40ac947e",
   "metadata": {
    "ExecuteTime": {
     "end_time": "2023-02-10T12:11:03.105926Z",
     "start_time": "2023-02-10T12:11:03.076292Z"
    }
   },
   "outputs": [],
   "source": [
    "plotly_fig = px.bar(df, x=df.index, y=df.columns, title='Bar plot for all columns, combined')\n",
    "plotly_fig.show()"
   ]
  },
  {
   "cell_type": "markdown",
   "id": "11ff0047",
   "metadata": {},
   "source": [
    "# Exploring Kaggle Dataset with Seaborn"
   ]
  },
  {
   "cell_type": "markdown",
   "id": "a3c01fdd",
   "metadata": {},
   "source": [
    "Для практики покрутите [датасет](https://www.kaggle.com/datasets/thec03u5/fifa-18-demo-player-dataset), основанный на данных из игры FIFA 18\n",
    "\n",
    "Скачать данные с сайта можно в веб-интерфейсе после регистрации. Также у Kaggle есть [интерфейс](https://github.com/Kaggle/kaggle-api) для работы с командной строкой."
   ]
  },
  {
   "cell_type": "markdown",
   "id": "1022d278",
   "metadata": {},
   "source": [
    "Хорошо написанный тутор с визуализацией данных выше: \n",
    "\n",
    "- [Часть 1](https://www.kaggle.com/code/residentmario/faceting-with-seaborn)\n",
    "- [Часть 2](https://www.kaggle.com/code/residentmario/multivariate-plotting/notebook) "
   ]
  }
 ],
 "metadata": {
  "kernelspec": {
   "display_name": "Python 3 (ipykernel)",
   "language": "python",
   "name": "python3"
  },
  "language_info": {
   "codemirror_mode": {
    "name": "ipython",
    "version": 3
   },
   "file_extension": ".py",
   "mimetype": "text/x-python",
   "name": "python",
   "nbconvert_exporter": "python",
   "pygments_lexer": "ipython3",
   "version": "3.13.1"
  },
  "toc": {
   "base_numbering": 1,
   "nav_menu": {},
   "number_sections": true,
   "sideBar": true,
   "skip_h1_title": false,
   "title_cell": "Table of Contents",
   "title_sidebar": "Contents",
   "toc_cell": false,
   "toc_position": {
    "height": "calc(100% - 180px)",
    "left": "10px",
    "top": "150px",
    "width": "240px"
   },
   "toc_section_display": true,
   "toc_window_display": true
  },
  "varInspector": {
   "cols": {
    "lenName": 16,
    "lenType": 16,
    "lenVar": 40
   },
   "kernels_config": {
    "python": {
     "delete_cmd_postfix": "",
     "delete_cmd_prefix": "del ",
     "library": "var_list.py",
     "varRefreshCmd": "print(var_dic_list())"
    },
    "r": {
     "delete_cmd_postfix": ") ",
     "delete_cmd_prefix": "rm(",
     "library": "var_list.r",
     "varRefreshCmd": "cat(var_dic_list()) "
    }
   },
   "types_to_exclude": [
    "module",
    "function",
    "builtin_function_or_method",
    "instance",
    "_Feature"
   ],
   "window_display": false
  }
 },
 "nbformat": 4,
 "nbformat_minor": 5
}
